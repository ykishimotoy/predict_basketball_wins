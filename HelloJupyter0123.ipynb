{
 "cells": [
  {
   "cell_type": "code",
   "execution_count": 1,
   "metadata": {},
   "outputs": [],
   "source": [
    "import os\n",
    "import pandas as pd\n",
    "import numpy as np"
   ]
  },
  {
   "cell_type": "code",
   "execution_count": 2,
   "metadata": {},
   "outputs": [],
   "source": [
    "base_url = 'https://raw.githubusercontent.com/practical-jupyter/sample-data/master/anime/'\n",
    "anime_master_csv = os.path.join(base_url, 'anime_master.csv')\n",
    "df = pd.read_csv(anime_master_csv)"
   ]
  },
  {
   "cell_type": "code",
   "execution_count": 3,
   "metadata": {},
   "outputs": [],
   "source": [
    "grouped = df.groupby('type')"
   ]
  },
  {
   "cell_type": "code",
   "execution_count": 4,
   "metadata": {},
   "outputs": [
    {
     "name": "stdout",
     "output_type": "stream",
     "text": [
      "<pandas.core.groupby.generic.DataFrameGroupBy object at 0x0000023AE4E9E988>\n"
     ]
    }
   ],
   "source": [
    "print(grouped)"
   ]
  },
  {
   "cell_type": "code",
   "execution_count": 5,
   "metadata": {},
   "outputs": [
    {
     "data": {
      "text/plain": [
       "pandas.core.groupby.generic.DataFrameGroupBy"
      ]
     },
     "execution_count": 5,
     "metadata": {},
     "output_type": "execute_result"
    }
   ],
   "source": [
    "type(grouped)"
   ]
  },
  {
   "cell_type": "code",
   "execution_count": 6,
   "metadata": {},
   "outputs": [
    {
     "data": {
      "text/html": [
       "<div>\n",
       "<style scoped>\n",
       "    .dataframe tbody tr th:only-of-type {\n",
       "        vertical-align: middle;\n",
       "    }\n",
       "\n",
       "    .dataframe tbody tr th {\n",
       "        vertical-align: top;\n",
       "    }\n",
       "\n",
       "    .dataframe thead th {\n",
       "        text-align: right;\n",
       "    }\n",
       "</style>\n",
       "<table border=\"1\" class=\"dataframe\">\n",
       "  <thead>\n",
       "    <tr style=\"text-align: right;\">\n",
       "      <th></th>\n",
       "      <th>anime_id</th>\n",
       "      <th>episodes</th>\n",
       "      <th>rating</th>\n",
       "      <th>members</th>\n",
       "    </tr>\n",
       "    <tr>\n",
       "      <th>type</th>\n",
       "      <th></th>\n",
       "      <th></th>\n",
       "      <th></th>\n",
       "      <th></th>\n",
       "    </tr>\n",
       "  </thead>\n",
       "  <tbody>\n",
       "    <tr>\n",
       "      <td>Movie</td>\n",
       "      <td>14322.5</td>\n",
       "      <td>1.1</td>\n",
       "      <td>6.3</td>\n",
       "      <td>10654.0</td>\n",
       "    </tr>\n",
       "    <tr>\n",
       "      <td>Music</td>\n",
       "      <td>22495.1</td>\n",
       "      <td>1.1</td>\n",
       "      <td>5.6</td>\n",
       "      <td>1273.0</td>\n",
       "    </tr>\n",
       "    <tr>\n",
       "      <td>ONA</td>\n",
       "      <td>22738.0</td>\n",
       "      <td>6.8</td>\n",
       "      <td>5.6</td>\n",
       "      <td>4401.8</td>\n",
       "    </tr>\n",
       "    <tr>\n",
       "      <td>OVA</td>\n",
       "      <td>12207.7</td>\n",
       "      <td>2.5</td>\n",
       "      <td>6.5</td>\n",
       "      <td>6849.5</td>\n",
       "    </tr>\n",
       "    <tr>\n",
       "      <td>Special</td>\n",
       "      <td>16802.3</td>\n",
       "      <td>2.5</td>\n",
       "      <td>6.5</td>\n",
       "      <td>7424.6</td>\n",
       "    </tr>\n",
       "    <tr>\n",
       "      <td>TV</td>\n",
       "      <td>10929.6</td>\n",
       "      <td>37.5</td>\n",
       "      <td>6.9</td>\n",
       "      <td>41832.3</td>\n",
       "    </tr>\n",
       "  </tbody>\n",
       "</table>\n",
       "</div>"
      ],
      "text/plain": [
       "         anime_id  episodes  rating  members\n",
       "type                                        \n",
       "Movie     14322.5       1.1     6.3  10654.0\n",
       "Music     22495.1       1.1     5.6   1273.0\n",
       "ONA       22738.0       6.8     5.6   4401.8\n",
       "OVA       12207.7       2.5     6.5   6849.5\n",
       "Special   16802.3       2.5     6.5   7424.6\n",
       "TV        10929.6      37.5     6.9  41832.3"
      ]
     },
     "execution_count": 6,
     "metadata": {},
     "output_type": "execute_result"
    }
   ],
   "source": [
    "grouped.mean().round(1)"
   ]
  },
  {
   "cell_type": "code",
   "execution_count": 12,
   "metadata": {},
   "outputs": [
    {
     "data": {
      "text/html": [
       "<div>\n",
       "<style scoped>\n",
       "    .dataframe tbody tr th:only-of-type {\n",
       "        vertical-align: middle;\n",
       "    }\n",
       "\n",
       "    .dataframe tbody tr th {\n",
       "        vertical-align: top;\n",
       "    }\n",
       "\n",
       "    .dataframe thead tr th {\n",
       "        text-align: left;\n",
       "    }\n",
       "\n",
       "    .dataframe thead tr:last-of-type th {\n",
       "        text-align: right;\n",
       "    }\n",
       "</style>\n",
       "<table border=\"1\" class=\"dataframe\">\n",
       "  <thead>\n",
       "    <tr>\n",
       "      <th></th>\n",
       "      <th colspan=\"8\" halign=\"left\">anime_id</th>\n",
       "      <th colspan=\"2\" halign=\"left\">episodes</th>\n",
       "      <th>...</th>\n",
       "      <th colspan=\"2\" halign=\"left\">rating</th>\n",
       "      <th colspan=\"8\" halign=\"left\">members</th>\n",
       "    </tr>\n",
       "    <tr>\n",
       "      <th></th>\n",
       "      <th>count</th>\n",
       "      <th>mean</th>\n",
       "      <th>std</th>\n",
       "      <th>min</th>\n",
       "      <th>25%</th>\n",
       "      <th>50%</th>\n",
       "      <th>75%</th>\n",
       "      <th>max</th>\n",
       "      <th>count</th>\n",
       "      <th>mean</th>\n",
       "      <th>...</th>\n",
       "      <th>75%</th>\n",
       "      <th>max</th>\n",
       "      <th>count</th>\n",
       "      <th>mean</th>\n",
       "      <th>std</th>\n",
       "      <th>min</th>\n",
       "      <th>25%</th>\n",
       "      <th>50%</th>\n",
       "      <th>75%</th>\n",
       "      <th>max</th>\n",
       "    </tr>\n",
       "    <tr>\n",
       "      <th>type</th>\n",
       "      <th></th>\n",
       "      <th></th>\n",
       "      <th></th>\n",
       "      <th></th>\n",
       "      <th></th>\n",
       "      <th></th>\n",
       "      <th></th>\n",
       "      <th></th>\n",
       "      <th></th>\n",
       "      <th></th>\n",
       "      <th></th>\n",
       "      <th></th>\n",
       "      <th></th>\n",
       "      <th></th>\n",
       "      <th></th>\n",
       "      <th></th>\n",
       "      <th></th>\n",
       "      <th></th>\n",
       "      <th></th>\n",
       "      <th></th>\n",
       "      <th></th>\n",
       "    </tr>\n",
       "  </thead>\n",
       "  <tbody>\n",
       "    <tr>\n",
       "      <td>Movie</td>\n",
       "      <td>2220.0</td>\n",
       "      <td>14322.5</td>\n",
       "      <td>10925.7</td>\n",
       "      <td>5.0</td>\n",
       "      <td>4396.8</td>\n",
       "      <td>10677.5</td>\n",
       "      <td>24071.5</td>\n",
       "      <td>34201.0</td>\n",
       "      <td>2220.0</td>\n",
       "      <td>1.1</td>\n",
       "      <td>...</td>\n",
       "      <td>7.3</td>\n",
       "      <td>10.0</td>\n",
       "      <td>2220.0</td>\n",
       "      <td>10654.0</td>\n",
       "      <td>31603.6</td>\n",
       "      <td>13.0</td>\n",
       "      <td>119.0</td>\n",
       "      <td>489.5</td>\n",
       "      <td>4239.0</td>\n",
       "      <td>466254.0</td>\n",
       "    </tr>\n",
       "    <tr>\n",
       "      <td>Music</td>\n",
       "      <td>485.0</td>\n",
       "      <td>22495.1</td>\n",
       "      <td>10175.0</td>\n",
       "      <td>731.0</td>\n",
       "      <td>12101.0</td>\n",
       "      <td>24903.0</td>\n",
       "      <td>31925.0</td>\n",
       "      <td>34412.0</td>\n",
       "      <td>485.0</td>\n",
       "      <td>1.1</td>\n",
       "      <td>...</td>\n",
       "      <td>6.2</td>\n",
       "      <td>8.4</td>\n",
       "      <td>485.0</td>\n",
       "      <td>1273.0</td>\n",
       "      <td>4489.0</td>\n",
       "      <td>24.0</td>\n",
       "      <td>97.0</td>\n",
       "      <td>226.0</td>\n",
       "      <td>797.0</td>\n",
       "      <td>71136.0</td>\n",
       "    </tr>\n",
       "    <tr>\n",
       "      <td>ONA</td>\n",
       "      <td>591.0</td>\n",
       "      <td>22738.0</td>\n",
       "      <td>10346.0</td>\n",
       "      <td>574.0</td>\n",
       "      <td>13467.0</td>\n",
       "      <td>25241.0</td>\n",
       "      <td>32287.5</td>\n",
       "      <td>34514.0</td>\n",
       "      <td>591.0</td>\n",
       "      <td>6.8</td>\n",
       "      <td>...</td>\n",
       "      <td>6.4</td>\n",
       "      <td>8.3</td>\n",
       "      <td>591.0</td>\n",
       "      <td>4401.8</td>\n",
       "      <td>12994.9</td>\n",
       "      <td>25.0</td>\n",
       "      <td>108.5</td>\n",
       "      <td>336.0</td>\n",
       "      <td>1890.5</td>\n",
       "      <td>144898.0</td>\n",
       "    </tr>\n",
       "    <tr>\n",
       "      <td>OVA</td>\n",
       "      <td>1932.0</td>\n",
       "      <td>12207.7</td>\n",
       "      <td>10718.7</td>\n",
       "      <td>44.0</td>\n",
       "      <td>2297.2</td>\n",
       "      <td>8965.5</td>\n",
       "      <td>22459.5</td>\n",
       "      <td>34349.0</td>\n",
       "      <td>1932.0</td>\n",
       "      <td>2.5</td>\n",
       "      <td>...</td>\n",
       "      <td>7.1</td>\n",
       "      <td>9.2</td>\n",
       "      <td>1932.0</td>\n",
       "      <td>6849.5</td>\n",
       "      <td>17479.7</td>\n",
       "      <td>17.0</td>\n",
       "      <td>122.0</td>\n",
       "      <td>1027.0</td>\n",
       "      <td>5706.0</td>\n",
       "      <td>305165.0</td>\n",
       "    </tr>\n",
       "    <tr>\n",
       "      <td>Special</td>\n",
       "      <td>1517.0</td>\n",
       "      <td>16802.3</td>\n",
       "      <td>10838.8</td>\n",
       "      <td>191.0</td>\n",
       "      <td>6877.0</td>\n",
       "      <td>15815.0</td>\n",
       "      <td>27821.0</td>\n",
       "      <td>34519.0</td>\n",
       "      <td>1517.0</td>\n",
       "      <td>2.5</td>\n",
       "      <td>...</td>\n",
       "      <td>7.1</td>\n",
       "      <td>8.7</td>\n",
       "      <td>1517.0</td>\n",
       "      <td>7424.6</td>\n",
       "      <td>15666.1</td>\n",
       "      <td>24.0</td>\n",
       "      <td>298.0</td>\n",
       "      <td>1906.0</td>\n",
       "      <td>6978.0</td>\n",
       "      <td>160423.0</td>\n",
       "    </tr>\n",
       "    <tr>\n",
       "      <td>TV</td>\n",
       "      <td>3330.0</td>\n",
       "      <td>10929.6</td>\n",
       "      <td>10645.4</td>\n",
       "      <td>1.0</td>\n",
       "      <td>2112.2</td>\n",
       "      <td>6511.5</td>\n",
       "      <td>18938.5</td>\n",
       "      <td>34503.0</td>\n",
       "      <td>3330.0</td>\n",
       "      <td>37.5</td>\n",
       "      <td>...</td>\n",
       "      <td>7.5</td>\n",
       "      <td>9.3</td>\n",
       "      <td>3330.0</td>\n",
       "      <td>41832.3</td>\n",
       "      <td>89925.6</td>\n",
       "      <td>12.0</td>\n",
       "      <td>443.0</td>\n",
       "      <td>5617.0</td>\n",
       "      <td>41568.2</td>\n",
       "      <td>1013917.0</td>\n",
       "    </tr>\n",
       "  </tbody>\n",
       "</table>\n",
       "<p>6 rows × 32 columns</p>\n",
       "</div>"
      ],
      "text/plain": [
       "        anime_id                                                               \\\n",
       "           count     mean      std    min      25%      50%      75%      max   \n",
       "type                                                                            \n",
       "Movie     2220.0  14322.5  10925.7    5.0   4396.8  10677.5  24071.5  34201.0   \n",
       "Music      485.0  22495.1  10175.0  731.0  12101.0  24903.0  31925.0  34412.0   \n",
       "ONA        591.0  22738.0  10346.0  574.0  13467.0  25241.0  32287.5  34514.0   \n",
       "OVA       1932.0  12207.7  10718.7   44.0   2297.2   8965.5  22459.5  34349.0   \n",
       "Special   1517.0  16802.3  10838.8  191.0   6877.0  15815.0  27821.0  34519.0   \n",
       "TV        3330.0  10929.6  10645.4    1.0   2112.2   6511.5  18938.5  34503.0   \n",
       "\n",
       "        episodes        ... rating       members                          \\\n",
       "           count  mean  ...    75%   max   count     mean      std   min   \n",
       "type                    ...                                                \n",
       "Movie     2220.0   1.1  ...    7.3  10.0  2220.0  10654.0  31603.6  13.0   \n",
       "Music      485.0   1.1  ...    6.2   8.4   485.0   1273.0   4489.0  24.0   \n",
       "ONA        591.0   6.8  ...    6.4   8.3   591.0   4401.8  12994.9  25.0   \n",
       "OVA       1932.0   2.5  ...    7.1   9.2  1932.0   6849.5  17479.7  17.0   \n",
       "Special   1517.0   2.5  ...    7.1   8.7  1517.0   7424.6  15666.1  24.0   \n",
       "TV        3330.0  37.5  ...    7.5   9.3  3330.0  41832.3  89925.6  12.0   \n",
       "\n",
       "                                            \n",
       "           25%     50%      75%        max  \n",
       "type                                        \n",
       "Movie    119.0   489.5   4239.0   466254.0  \n",
       "Music     97.0   226.0    797.0    71136.0  \n",
       "ONA      108.5   336.0   1890.5   144898.0  \n",
       "OVA      122.0  1027.0   5706.0   305165.0  \n",
       "Special  298.0  1906.0   6978.0   160423.0  \n",
       "TV       443.0  5617.0  41568.2  1013917.0  \n",
       "\n",
       "[6 rows x 32 columns]"
      ]
     },
     "execution_count": 12,
     "metadata": {},
     "output_type": "execute_result"
    }
   ],
   "source": [
    "grouped.describe().round(1).head(6)"
   ]
  },
  {
   "cell_type": "code",
   "execution_count": 13,
   "metadata": {},
   "outputs": [
    {
     "data": {
      "text/plain": [
       "<pandas.core.groupby.generic.DataFrameGroupBy object at 0x0000023AE587D288>"
      ]
     },
     "execution_count": 13,
     "metadata": {},
     "output_type": "execute_result"
    }
   ],
   "source": [
    "df.groupby(['type', 'episodes'])"
   ]
  },
  {
   "cell_type": "code",
   "execution_count": 16,
   "metadata": {},
   "outputs": [
    {
     "data": {
      "text/html": [
       "<div>\n",
       "<style scoped>\n",
       "    .dataframe tbody tr th:only-of-type {\n",
       "        vertical-align: middle;\n",
       "    }\n",
       "\n",
       "    .dataframe tbody tr th {\n",
       "        vertical-align: top;\n",
       "    }\n",
       "\n",
       "    .dataframe thead th {\n",
       "        text-align: right;\n",
       "    }\n",
       "</style>\n",
       "<table border=\"1\" class=\"dataframe\">\n",
       "  <thead>\n",
       "    <tr style=\"text-align: right;\">\n",
       "      <th></th>\n",
       "      <th></th>\n",
       "      <th>anime_id</th>\n",
       "      <th>rating</th>\n",
       "      <th>members</th>\n",
       "    </tr>\n",
       "    <tr>\n",
       "      <th>type</th>\n",
       "      <th>episodes</th>\n",
       "      <th></th>\n",
       "      <th></th>\n",
       "      <th></th>\n",
       "    </tr>\n",
       "  </thead>\n",
       "  <tbody>\n",
       "    <tr>\n",
       "      <td rowspan=\"12\" valign=\"top\">Movie</td>\n",
       "      <td>1</td>\n",
       "      <td>14320.0</td>\n",
       "      <td>6.3</td>\n",
       "      <td>10588.6</td>\n",
       "    </tr>\n",
       "    <tr>\n",
       "      <td>2</td>\n",
       "      <td>13802.0</td>\n",
       "      <td>6.9</td>\n",
       "      <td>6638.9</td>\n",
       "    </tr>\n",
       "    <tr>\n",
       "      <td>3</td>\n",
       "      <td>11339.3</td>\n",
       "      <td>6.7</td>\n",
       "      <td>53598.1</td>\n",
       "    </tr>\n",
       "    <tr>\n",
       "      <td>4</td>\n",
       "      <td>15723.5</td>\n",
       "      <td>7.3</td>\n",
       "      <td>3566.5</td>\n",
       "    </tr>\n",
       "    <tr>\n",
       "      <td>5</td>\n",
       "      <td>12558.3</td>\n",
       "      <td>6.1</td>\n",
       "      <td>3641.0</td>\n",
       "    </tr>\n",
       "    <tr>\n",
       "      <td>6</td>\n",
       "      <td>8433.5</td>\n",
       "      <td>6.0</td>\n",
       "      <td>178.5</td>\n",
       "    </tr>\n",
       "    <tr>\n",
       "      <td>7</td>\n",
       "      <td>13602.5</td>\n",
       "      <td>6.9</td>\n",
       "      <td>11989.5</td>\n",
       "    </tr>\n",
       "    <tr>\n",
       "      <td>9</td>\n",
       "      <td>8928.0</td>\n",
       "      <td>6.2</td>\n",
       "      <td>267.0</td>\n",
       "    </tr>\n",
       "    <tr>\n",
       "      <td>10</td>\n",
       "      <td>31020.0</td>\n",
       "      <td>6.9</td>\n",
       "      <td>57.0</td>\n",
       "    </tr>\n",
       "    <tr>\n",
       "      <td>12</td>\n",
       "      <td>20908.0</td>\n",
       "      <td>5.4</td>\n",
       "      <td>790.7</td>\n",
       "    </tr>\n",
       "    <tr>\n",
       "      <td>14</td>\n",
       "      <td>13817.0</td>\n",
       "      <td>6.0</td>\n",
       "      <td>137.0</td>\n",
       "    </tr>\n",
       "    <tr>\n",
       "      <td>100</td>\n",
       "      <td>29924.0</td>\n",
       "      <td>7.0</td>\n",
       "      <td>56.0</td>\n",
       "    </tr>\n",
       "    <tr>\n",
       "      <td rowspan=\"8\" valign=\"top\">Music</td>\n",
       "      <td>1</td>\n",
       "      <td>22576.2</td>\n",
       "      <td>5.6</td>\n",
       "      <td>1200.0</td>\n",
       "    </tr>\n",
       "    <tr>\n",
       "      <td>2</td>\n",
       "      <td>28390.8</td>\n",
       "      <td>6.0</td>\n",
       "      <td>404.8</td>\n",
       "    </tr>\n",
       "    <tr>\n",
       "      <td>4</td>\n",
       "      <td>1998.0</td>\n",
       "      <td>6.7</td>\n",
       "      <td>6650.0</td>\n",
       "    </tr>\n",
       "    <tr>\n",
       "      <td>5</td>\n",
       "      <td>14359.0</td>\n",
       "      <td>6.2</td>\n",
       "      <td>1582.0</td>\n",
       "    </tr>\n",
       "    <tr>\n",
       "      <td>7</td>\n",
       "      <td>8348.0</td>\n",
       "      <td>7.1</td>\n",
       "      <td>13361.0</td>\n",
       "    </tr>\n",
       "    <tr>\n",
       "      <td>8</td>\n",
       "      <td>4705.0</td>\n",
       "      <td>7.3</td>\n",
       "      <td>22213.0</td>\n",
       "    </tr>\n",
       "    <tr>\n",
       "      <td>14</td>\n",
       "      <td>5016.0</td>\n",
       "      <td>6.7</td>\n",
       "      <td>2240.0</td>\n",
       "    </tr>\n",
       "    <tr>\n",
       "      <td>24</td>\n",
       "      <td>32633.0</td>\n",
       "      <td>7.6</td>\n",
       "      <td>560.0</td>\n",
       "    </tr>\n",
       "    <tr>\n",
       "      <td rowspan=\"10\" valign=\"top\">ONA</td>\n",
       "      <td>1</td>\n",
       "      <td>23349.8</td>\n",
       "      <td>5.3</td>\n",
       "      <td>1861.4</td>\n",
       "    </tr>\n",
       "    <tr>\n",
       "      <td>2</td>\n",
       "      <td>22729.3</td>\n",
       "      <td>5.1</td>\n",
       "      <td>863.7</td>\n",
       "    </tr>\n",
       "    <tr>\n",
       "      <td>3</td>\n",
       "      <td>25820.4</td>\n",
       "      <td>5.7</td>\n",
       "      <td>3876.7</td>\n",
       "    </tr>\n",
       "    <tr>\n",
       "      <td>4</td>\n",
       "      <td>21650.9</td>\n",
       "      <td>5.7</td>\n",
       "      <td>7187.7</td>\n",
       "    </tr>\n",
       "    <tr>\n",
       "      <td>5</td>\n",
       "      <td>20013.2</td>\n",
       "      <td>5.6</td>\n",
       "      <td>5855.7</td>\n",
       "    </tr>\n",
       "    <tr>\n",
       "      <td>6</td>\n",
       "      <td>18374.0</td>\n",
       "      <td>6.0</td>\n",
       "      <td>10365.0</td>\n",
       "    </tr>\n",
       "    <tr>\n",
       "      <td>7</td>\n",
       "      <td>15560.6</td>\n",
       "      <td>5.3</td>\n",
       "      <td>5263.9</td>\n",
       "    </tr>\n",
       "    <tr>\n",
       "      <td>8</td>\n",
       "      <td>22464.1</td>\n",
       "      <td>5.5</td>\n",
       "      <td>1116.7</td>\n",
       "    </tr>\n",
       "    <tr>\n",
       "      <td>9</td>\n",
       "      <td>21263.2</td>\n",
       "      <td>6.0</td>\n",
       "      <td>7259.0</td>\n",
       "    </tr>\n",
       "    <tr>\n",
       "      <td>10</td>\n",
       "      <td>20428.1</td>\n",
       "      <td>6.1</td>\n",
       "      <td>7128.3</td>\n",
       "    </tr>\n",
       "  </tbody>\n",
       "</table>\n",
       "</div>"
      ],
      "text/plain": [
       "                anime_id  rating  members\n",
       "type  episodes                           \n",
       "Movie 1          14320.0     6.3  10588.6\n",
       "      2          13802.0     6.9   6638.9\n",
       "      3          11339.3     6.7  53598.1\n",
       "      4          15723.5     7.3   3566.5\n",
       "      5          12558.3     6.1   3641.0\n",
       "      6           8433.5     6.0    178.5\n",
       "      7          13602.5     6.9  11989.5\n",
       "      9           8928.0     6.2    267.0\n",
       "      10         31020.0     6.9     57.0\n",
       "      12         20908.0     5.4    790.7\n",
       "      14         13817.0     6.0    137.0\n",
       "      100        29924.0     7.0     56.0\n",
       "Music 1          22576.2     5.6   1200.0\n",
       "      2          28390.8     6.0    404.8\n",
       "      4           1998.0     6.7   6650.0\n",
       "      5          14359.0     6.2   1582.0\n",
       "      7           8348.0     7.1  13361.0\n",
       "      8           4705.0     7.3  22213.0\n",
       "      14          5016.0     6.7   2240.0\n",
       "      24         32633.0     7.6    560.0\n",
       "ONA   1          23349.8     5.3   1861.4\n",
       "      2          22729.3     5.1    863.7\n",
       "      3          25820.4     5.7   3876.7\n",
       "      4          21650.9     5.7   7187.7\n",
       "      5          20013.2     5.6   5855.7\n",
       "      6          18374.0     6.0  10365.0\n",
       "      7          15560.6     5.3   5263.9\n",
       "      8          22464.1     5.5   1116.7\n",
       "      9          21263.2     6.0   7259.0\n",
       "      10         20428.1     6.1   7128.3"
      ]
     },
     "execution_count": 16,
     "metadata": {},
     "output_type": "execute_result"
    }
   ],
   "source": [
    "df.groupby(['type', 'episodes']).mean().round(1).head(30)"
   ]
  },
  {
   "cell_type": "code",
   "execution_count": 17,
   "metadata": {},
   "outputs": [
    {
     "data": {
      "text/html": [
       "<div>\n",
       "<style scoped>\n",
       "    .dataframe tbody tr th:only-of-type {\n",
       "        vertical-align: middle;\n",
       "    }\n",
       "\n",
       "    .dataframe tbody tr th {\n",
       "        vertical-align: top;\n",
       "    }\n",
       "\n",
       "    .dataframe thead th {\n",
       "        text-align: right;\n",
       "    }\n",
       "</style>\n",
       "<table border=\"1\" class=\"dataframe\">\n",
       "  <thead>\n",
       "    <tr style=\"text-align: right;\">\n",
       "      <th></th>\n",
       "      <th>anime_id</th>\n",
       "      <th>episodes</th>\n",
       "      <th>members</th>\n",
       "      <th>rating</th>\n",
       "    </tr>\n",
       "    <tr>\n",
       "      <th>type</th>\n",
       "      <th></th>\n",
       "      <th></th>\n",
       "      <th></th>\n",
       "      <th></th>\n",
       "    </tr>\n",
       "  </thead>\n",
       "  <tbody>\n",
       "    <tr>\n",
       "      <td>Movie</td>\n",
       "      <td>14322.477928</td>\n",
       "      <td>1.100901</td>\n",
       "      <td>10654.022072</td>\n",
       "      <td>6.328599</td>\n",
       "    </tr>\n",
       "    <tr>\n",
       "      <td>Music</td>\n",
       "      <td>22495.111340</td>\n",
       "      <td>1.125773</td>\n",
       "      <td>1273.028866</td>\n",
       "      <td>5.583918</td>\n",
       "    </tr>\n",
       "    <tr>\n",
       "      <td>ONA</td>\n",
       "      <td>22738.000000</td>\n",
       "      <td>6.778342</td>\n",
       "      <td>4401.822335</td>\n",
       "      <td>5.629628</td>\n",
       "    </tr>\n",
       "    <tr>\n",
       "      <td>OVA</td>\n",
       "      <td>12207.692547</td>\n",
       "      <td>2.549689</td>\n",
       "      <td>6849.526398</td>\n",
       "      <td>6.475217</td>\n",
       "    </tr>\n",
       "    <tr>\n",
       "      <td>Special</td>\n",
       "      <td>16802.341463</td>\n",
       "      <td>2.495715</td>\n",
       "      <td>7424.628873</td>\n",
       "      <td>6.525577</td>\n",
       "    </tr>\n",
       "    <tr>\n",
       "      <td>TV</td>\n",
       "      <td>10929.554655</td>\n",
       "      <td>37.456156</td>\n",
       "      <td>41832.314414</td>\n",
       "      <td>6.928961</td>\n",
       "    </tr>\n",
       "  </tbody>\n",
       "</table>\n",
       "</div>"
      ],
      "text/plain": [
       "             anime_id   episodes       members    rating\n",
       "type                                                    \n",
       "Movie    14322.477928   1.100901  10654.022072  6.328599\n",
       "Music    22495.111340   1.125773   1273.028866  5.583918\n",
       "ONA      22738.000000   6.778342   4401.822335  5.629628\n",
       "OVA      12207.692547   2.549689   6849.526398  6.475217\n",
       "Special  16802.341463   2.495715   7424.628873  6.525577\n",
       "TV       10929.554655  37.456156  41832.314414  6.928961"
      ]
     },
     "execution_count": 17,
     "metadata": {},
     "output_type": "execute_result"
    }
   ],
   "source": [
    "df.pivot_table(index='type', aggfunc=np.mean)"
   ]
  },
  {
   "cell_type": "code",
   "execution_count": 19,
   "metadata": {},
   "outputs": [
    {
     "data": {
      "text/html": [
       "<div>\n",
       "<style scoped>\n",
       "    .dataframe tbody tr th:only-of-type {\n",
       "        vertical-align: middle;\n",
       "    }\n",
       "\n",
       "    .dataframe tbody tr th {\n",
       "        vertical-align: top;\n",
       "    }\n",
       "\n",
       "    .dataframe thead th {\n",
       "        text-align: right;\n",
       "    }\n",
       "</style>\n",
       "<table border=\"1\" class=\"dataframe\">\n",
       "  <thead>\n",
       "    <tr style=\"text-align: right;\">\n",
       "      <th></th>\n",
       "      <th></th>\n",
       "      <th>anime_id</th>\n",
       "      <th>members</th>\n",
       "      <th>rating</th>\n",
       "    </tr>\n",
       "    <tr>\n",
       "      <th>type</th>\n",
       "      <th>episodes</th>\n",
       "      <th></th>\n",
       "      <th></th>\n",
       "      <th></th>\n",
       "    </tr>\n",
       "  </thead>\n",
       "  <tbody>\n",
       "    <tr>\n",
       "      <td rowspan=\"12\" valign=\"top\">Movie</td>\n",
       "      <td>1</td>\n",
       "      <td>14320.010507</td>\n",
       "      <td>10588.556418</td>\n",
       "      <td>6.325464</td>\n",
       "    </tr>\n",
       "    <tr>\n",
       "      <td>2</td>\n",
       "      <td>13802.000000</td>\n",
       "      <td>6638.875000</td>\n",
       "      <td>6.930000</td>\n",
       "    </tr>\n",
       "    <tr>\n",
       "      <td>3</td>\n",
       "      <td>11339.285714</td>\n",
       "      <td>53598.142857</td>\n",
       "      <td>6.661429</td>\n",
       "    </tr>\n",
       "    <tr>\n",
       "      <td>4</td>\n",
       "      <td>15723.500000</td>\n",
       "      <td>3566.500000</td>\n",
       "      <td>7.260000</td>\n",
       "    </tr>\n",
       "    <tr>\n",
       "      <td>5</td>\n",
       "      <td>12558.333333</td>\n",
       "      <td>3641.000000</td>\n",
       "      <td>6.063333</td>\n",
       "    </tr>\n",
       "    <tr>\n",
       "      <td>6</td>\n",
       "      <td>8433.500000</td>\n",
       "      <td>178.500000</td>\n",
       "      <td>5.980000</td>\n",
       "    </tr>\n",
       "    <tr>\n",
       "      <td>7</td>\n",
       "      <td>13602.500000</td>\n",
       "      <td>11989.500000</td>\n",
       "      <td>6.940000</td>\n",
       "    </tr>\n",
       "    <tr>\n",
       "      <td>9</td>\n",
       "      <td>8928.000000</td>\n",
       "      <td>267.000000</td>\n",
       "      <td>6.220000</td>\n",
       "    </tr>\n",
       "    <tr>\n",
       "      <td>10</td>\n",
       "      <td>31020.000000</td>\n",
       "      <td>57.000000</td>\n",
       "      <td>6.860000</td>\n",
       "    </tr>\n",
       "    <tr>\n",
       "      <td>12</td>\n",
       "      <td>20908.000000</td>\n",
       "      <td>790.666667</td>\n",
       "      <td>5.450000</td>\n",
       "    </tr>\n",
       "    <tr>\n",
       "      <td>14</td>\n",
       "      <td>13817.000000</td>\n",
       "      <td>137.000000</td>\n",
       "      <td>6.000000</td>\n",
       "    </tr>\n",
       "    <tr>\n",
       "      <td>100</td>\n",
       "      <td>29924.000000</td>\n",
       "      <td>56.000000</td>\n",
       "      <td>7.000000</td>\n",
       "    </tr>\n",
       "    <tr>\n",
       "      <td rowspan=\"8\" valign=\"top\">Music</td>\n",
       "      <td>1</td>\n",
       "      <td>22576.194093</td>\n",
       "      <td>1199.976793</td>\n",
       "      <td>5.562089</td>\n",
       "    </tr>\n",
       "    <tr>\n",
       "      <td>2</td>\n",
       "      <td>28390.800000</td>\n",
       "      <td>404.800000</td>\n",
       "      <td>6.020000</td>\n",
       "    </tr>\n",
       "    <tr>\n",
       "      <td>4</td>\n",
       "      <td>1998.000000</td>\n",
       "      <td>6650.000000</td>\n",
       "      <td>6.740000</td>\n",
       "    </tr>\n",
       "    <tr>\n",
       "      <td>5</td>\n",
       "      <td>14359.000000</td>\n",
       "      <td>1582.000000</td>\n",
       "      <td>6.190000</td>\n",
       "    </tr>\n",
       "    <tr>\n",
       "      <td>7</td>\n",
       "      <td>8348.000000</td>\n",
       "      <td>13361.000000</td>\n",
       "      <td>7.090000</td>\n",
       "    </tr>\n",
       "    <tr>\n",
       "      <td>8</td>\n",
       "      <td>4705.000000</td>\n",
       "      <td>22213.000000</td>\n",
       "      <td>7.270000</td>\n",
       "    </tr>\n",
       "    <tr>\n",
       "      <td>14</td>\n",
       "      <td>5016.000000</td>\n",
       "      <td>2240.000000</td>\n",
       "      <td>6.740000</td>\n",
       "    </tr>\n",
       "    <tr>\n",
       "      <td>24</td>\n",
       "      <td>32633.000000</td>\n",
       "      <td>560.000000</td>\n",
       "      <td>7.640000</td>\n",
       "    </tr>\n",
       "  </tbody>\n",
       "</table>\n",
       "</div>"
      ],
      "text/plain": [
       "                    anime_id       members    rating\n",
       "type  episodes                                      \n",
       "Movie 1         14320.010507  10588.556418  6.325464\n",
       "      2         13802.000000   6638.875000  6.930000\n",
       "      3         11339.285714  53598.142857  6.661429\n",
       "      4         15723.500000   3566.500000  7.260000\n",
       "      5         12558.333333   3641.000000  6.063333\n",
       "      6          8433.500000    178.500000  5.980000\n",
       "      7         13602.500000  11989.500000  6.940000\n",
       "      9          8928.000000    267.000000  6.220000\n",
       "      10        31020.000000     57.000000  6.860000\n",
       "      12        20908.000000    790.666667  5.450000\n",
       "      14        13817.000000    137.000000  6.000000\n",
       "      100       29924.000000     56.000000  7.000000\n",
       "Music 1         22576.194093   1199.976793  5.562089\n",
       "      2         28390.800000    404.800000  6.020000\n",
       "      4          1998.000000   6650.000000  6.740000\n",
       "      5         14359.000000   1582.000000  6.190000\n",
       "      7          8348.000000  13361.000000  7.090000\n",
       "      8          4705.000000  22213.000000  7.270000\n",
       "      14         5016.000000   2240.000000  6.740000\n",
       "      24        32633.000000    560.000000  7.640000"
      ]
     },
     "execution_count": 19,
     "metadata": {},
     "output_type": "execute_result"
    }
   ],
   "source": [
    "df.pivot_table(index=['type', 'episodes'], aggfunc=np.mean).head(20)"
   ]
  },
  {
   "cell_type": "code",
   "execution_count": 20,
   "metadata": {},
   "outputs": [],
   "source": [
    "genres = df['genre'].map(lambda x: x.split(','))"
   ]
  },
  {
   "cell_type": "code",
   "execution_count": 21,
   "metadata": {},
   "outputs": [
    {
     "name": "stdout",
     "output_type": "stream",
     "text": [
      "0                [Drama,  Romance,  School,  Supernatural]\n",
      "1        [Action,  Adventure,  Drama,  Fantasy,  Magic,...\n",
      "2        [Action,  Comedy,  Historical,  Parody,  Samur...\n",
      "3                                      [Sci-Fi,  Thriller]\n",
      "4        [Action,  Comedy,  Historical,  Parody,  Samur...\n",
      "                               ...                        \n",
      "10070                                          [Adventure]\n",
      "10071          [Adventure,  Comedy,  Historical,  Romance]\n",
      "10072                                       [Drama,  Kids]\n",
      "10073                       [Comedy,  Historical,  Sci-Fi]\n",
      "10074                                             [Comedy]\n",
      "Name: genre, Length: 10075, dtype: object\n"
     ]
    }
   ],
   "source": [
    "print(genres)"
   ]
  },
  {
   "cell_type": "code",
   "execution_count": 22,
   "metadata": {},
   "outputs": [
    {
     "data": {
      "text/plain": [
       "0                     Drama, Romance, School, Supernatural\n",
       "1        Action, Adventure, Drama, Fantasy, Magic, Mili...\n",
       "2        Action, Comedy, Historical, Parody, Samurai, S...\n",
       "3                                         Sci-Fi, Thriller\n",
       "4        Action, Comedy, Historical, Parody, Samurai, S...\n",
       "                               ...                        \n",
       "10070                                            Adventure\n",
       "10071               Adventure, Comedy, Historical, Romance\n",
       "10072                                          Drama, Kids\n",
       "10073                           Comedy, Historical, Sci-Fi\n",
       "10074                                               Comedy\n",
       "Name: genre, Length: 10075, dtype: object"
      ]
     },
     "execution_count": 22,
     "metadata": {},
     "output_type": "execute_result"
    }
   ],
   "source": [
    "df['genre']"
   ]
  },
  {
   "cell_type": "code",
   "execution_count": 23,
   "metadata": {},
   "outputs": [],
   "source": [
    "ser = pd.Series(np.hstack(genres.values))"
   ]
  },
  {
   "cell_type": "code",
   "execution_count": 24,
   "metadata": {},
   "outputs": [
    {
     "data": {
      "text/plain": [
       "0                Drama\n",
       "1              Romance\n",
       "2               School\n",
       "3         Supernatural\n",
       "4               Action\n",
       "             ...      \n",
       "30480             Kids\n",
       "30481           Comedy\n",
       "30482       Historical\n",
       "30483           Sci-Fi\n",
       "30484           Comedy\n",
       "Length: 30485, dtype: object"
      ]
     },
     "execution_count": 24,
     "metadata": {},
     "output_type": "execute_result"
    }
   ],
   "source": [
    "ser"
   ]
  },
  {
   "cell_type": "code",
   "execution_count": 26,
   "metadata": {},
   "outputs": [],
   "source": [
    "unique_genres = ser.str.strip().unique()"
   ]
  },
  {
   "cell_type": "code",
   "execution_count": 27,
   "metadata": {},
   "outputs": [
    {
     "data": {
      "text/plain": [
       "array(['Drama', 'Romance', 'School', 'Supernatural', 'Action',\n",
       "       'Adventure', 'Fantasy', 'Magic', 'Military', 'Shounen', 'Comedy',\n",
       "       'Historical', 'Parody', 'Samurai', 'Sci-Fi', 'Thriller', 'Sports',\n",
       "       'Super Power', 'Space', 'Slice of Life', 'Mecha', 'Music',\n",
       "       'Mystery', 'Seinen', 'Martial Arts', 'Vampire', 'Shoujo', 'Horror',\n",
       "       'Police', 'Psychological', 'Demons', 'Josei', 'Shounen Ai', 'Game',\n",
       "       'Dementia', 'Harem', 'Cars', 'Kids', 'Shoujo Ai'], dtype=object)"
      ]
     },
     "execution_count": 27,
     "metadata": {},
     "output_type": "execute_result"
    }
   ],
   "source": [
    "unique_genres"
   ]
  },
  {
   "cell_type": "code",
   "execution_count": 30,
   "metadata": {},
   "outputs": [],
   "source": [
    "unique_genres.sort()"
   ]
  },
  {
   "cell_type": "code",
   "execution_count": 34,
   "metadata": {},
   "outputs": [
    {
     "data": {
      "text/plain": [
       "array(['Action', 'Adventure', 'Cars', 'Comedy', 'Dementia', 'Demons',\n",
       "       'Drama', 'Fantasy', 'Game', 'Harem', 'Historical', 'Horror',\n",
       "       'Josei', 'Kids', 'Magic', 'Martial Arts', 'Mecha', 'Military',\n",
       "       'Music', 'Mystery', 'Parody', 'Police', 'Psychological', 'Romance',\n",
       "       'Samurai', 'School', 'Sci-Fi', 'Seinen', 'Shoujo', 'Shoujo Ai',\n",
       "       'Shounen', 'Shounen Ai', 'Slice of Life', 'Space', 'Sports',\n",
       "       'Super Power', 'Supernatural', 'Thriller', 'Vampire'], dtype=object)"
      ]
     },
     "execution_count": 34,
     "metadata": {},
     "output_type": "execute_result"
    }
   ],
   "source": [
    "unique_genres"
   ]
  },
  {
   "cell_type": "code",
   "execution_count": 32,
   "metadata": {},
   "outputs": [
    {
     "name": "stdout",
     "output_type": "stream",
     "text": [
      "['Action' 'Adventure' 'Cars' 'Comedy' 'Dementia' 'Demons' 'Drama'\n",
      " 'Fantasy' 'Game' 'Harem' 'Historical' 'Horror' 'Josei' 'Kids' 'Magic'\n",
      " 'Martial Arts' 'Mecha' 'Military' 'Music' 'Mystery' 'Parody' 'Police'\n",
      " 'Psychological' 'Romance' 'Samurai' 'School' 'Sci-Fi' 'Seinen' 'Shoujo'\n",
      " 'Shoujo Ai' 'Shounen' 'Shounen Ai' 'Slice of Life' 'Space' 'Sports'\n",
      " 'Super Power' 'Supernatural' 'Thriller' 'Vampire']\n"
     ]
    }
   ],
   "source": [
    "print(unique_genres)"
   ]
  },
  {
   "cell_type": "code",
   "execution_count": 35,
   "metadata": {},
   "outputs": [],
   "source": [
    "def filter_df_by_genre(df, genre):\n",
    "    genre_df = df.loc[df['genre'].map(lambda x: genre in x)].copy()\n",
    "    genre_df['genre'] = genre\n",
    "    return genre_df"
   ]
  },
  {
   "cell_type": "code",
   "execution_count": 45,
   "metadata": {},
   "outputs": [],
   "source": [
    "genre_dfk = df.loc[:, 'genre']"
   ]
  },
  {
   "cell_type": "code",
   "execution_count": 46,
   "metadata": {},
   "outputs": [
    {
     "name": "stdout",
     "output_type": "stream",
     "text": [
      "0                     Drama, Romance, School, Supernatural\n",
      "1        Action, Adventure, Drama, Fantasy, Magic, Mili...\n",
      "2        Action, Comedy, Historical, Parody, Samurai, S...\n",
      "3                                         Sci-Fi, Thriller\n",
      "4        Action, Comedy, Historical, Parody, Samurai, S...\n",
      "                               ...                        \n",
      "10070                                            Adventure\n",
      "10071               Adventure, Comedy, Historical, Romance\n",
      "10072                                          Drama, Kids\n",
      "10073                           Comedy, Historical, Sci-Fi\n",
      "10074                                               Comedy\n",
      "Name: genre, Length: 10075, dtype: object\n"
     ]
    }
   ],
   "source": [
    "print(genre_dfk)"
   ]
  },
  {
   "cell_type": "code",
   "execution_count": 47,
   "metadata": {},
   "outputs": [],
   "source": [
    "genre_dfk2 = genre_dfk.map(lambda x: 'Action' in x)"
   ]
  },
  {
   "cell_type": "code",
   "execution_count": 48,
   "metadata": {},
   "outputs": [
    {
     "data": {
      "text/plain": [
       "0        False\n",
       "1         True\n",
       "2         True\n",
       "3        False\n",
       "4         True\n",
       "         ...  \n",
       "10070    False\n",
       "10071    False\n",
       "10072    False\n",
       "10073    False\n",
       "10074    False\n",
       "Name: genre, Length: 10075, dtype: bool"
      ]
     },
     "execution_count": 48,
     "metadata": {},
     "output_type": "execute_result"
    }
   ],
   "source": [
    "genre_dfk2"
   ]
  },
  {
   "cell_type": "code",
   "execution_count": 49,
   "metadata": {},
   "outputs": [],
   "source": [
    "genre_dfk3 = genre_dfk2.copy()"
   ]
  },
  {
   "cell_type": "code",
   "execution_count": 51,
   "metadata": {},
   "outputs": [],
   "source": [
    "genre_dfk3['genre'] = 'Action'"
   ]
  },
  {
   "cell_type": "code",
   "execution_count": 53,
   "metadata": {},
   "outputs": [],
   "source": [
    "genre_df_list = [filter_df_by_genre(df, genre) for genre in unique_genres]"
   ]
  },
  {
   "cell_type": "code",
   "execution_count": 55,
   "metadata": {},
   "outputs": [
    {
     "name": "stdout",
     "output_type": "stream",
     "text": [
      "[       anime_id                                               name   genre  \\\n",
      "1          5114                   Fullmetal Alchemist: Brotherhood  Action   \n",
      "2         28977                                           Gintama°  Action   \n",
      "4          9969                                           Gintama'  Action   \n",
      "6         11061                             Hunter x Hunter (2011)  Action   \n",
      "8         15335  Gintama Movie: Kanketsu-hen - Yorozuya yo Eien...  Action   \n",
      "...         ...                                                ...     ...   \n",
      "10046     33048                                       Zegapain ADP  Action   \n",
      "10052      9520                                        Zero Tester  Action   \n",
      "10053      9522                    Zero Tester: Chikyuu wo Mamore!  Action   \n",
      "10061     31427                                              Zinba  Action   \n",
      "10063     19717                             Zoku Naniwa Yuukyouden  Action   \n",
      "\n",
      "        type  episodes  rating  members  \n",
      "1         TV        64    9.26   793665  \n",
      "2         TV        51    9.25   114262  \n",
      "4         TV        51    9.16   151266  \n",
      "6         TV       148    9.13   425855  \n",
      "8      Movie         1    9.10    72534  \n",
      "...      ...       ...     ...      ...  \n",
      "10046  Movie         1    6.35     1859  \n",
      "10052     TV        38    6.43      181  \n",
      "10053     TV        28    5.23      137  \n",
      "10061     TV        52    7.17      172  \n",
      "10063    OVA         1    5.10       78  \n",
      "\n",
      "[2518 rows x 7 columns],        anime_id                              name      genre   type  episodes  \\\n",
      "1          5114  Fullmetal Alchemist: Brotherhood  Adventure     TV        64   \n",
      "6         11061            Hunter x Hunter (2011)  Adventure     TV       148   \n",
      "15          199     Sen to Chihiro no Kamikakushi  Adventure  Movie         1   \n",
      "17        24701     Mushishi Zoku Shou 2nd Season  Adventure     TV        10   \n",
      "22            1                      Cowboy Bebop  Adventure     TV        26   \n",
      "...         ...                               ...        ...    ...       ...   \n",
      "10053      9522   Zero Tester: Chikyuu wo Mamore!  Adventure     TV        28   \n",
      "10060     11093         Ziggy: Soreyuke! R&R Band  Adventure  Movie         1   \n",
      "10061     31427                             Zinba  Adventure     TV        52   \n",
      "10070     11095           Zouressha ga Yatte Kita  Adventure  Movie         1   \n",
      "10071      7808  Zukkoke Knight: Don De La Mancha  Adventure     TV        23   \n",
      "\n",
      "       rating  members  \n",
      "1        9.26   793665  \n",
      "6        9.13   425855  \n",
      "15       8.93   466254  \n",
      "17       8.88    75894  \n",
      "22       8.82   486824  \n",
      "...       ...      ...  \n",
      "10053    5.23      137  \n",
      "10060    6.45      123  \n",
      "10061    7.17      172  \n",
      "10070    6.06       78  \n",
      "10071    6.47      172  \n",
      "\n",
      "[2208 rows x 7 columns],        anime_id                          name genre     type  episodes  \\\n",
      "197        6675                       Redline  Cars    Movie         1   \n",
      "223       22507         Initial D Final Stage  Cars       TV         4   \n",
      "256          18        Initial D Fourth Stage  Cars       TV        24   \n",
      "273         185         Initial D First Stage  Cars       TV        26   \n",
      "365       15059         Initial D Fifth Stage  Cars       TV        14   \n",
      "...         ...                           ...   ...      ...       ...   \n",
      "9409      24441                  Shiden Pilot  Cars  Special         1   \n",
      "9751      20125      Tobidase! Machine Hiryuu  Cars       TV        21   \n",
      "9896      33124  Wakuwaku♥Nukegake Daisakusen  Cars    Music         1   \n",
      "10028     24575              Yume no Jidousha  Cars    Movie         1   \n",
      "10058     31698               Zhan Long Si Qu  Cars       TV        64   \n",
      "\n",
      "       rating  members  \n",
      "197      8.33   109392  \n",
      "223      8.29    19702  \n",
      "256      8.24    41584  \n",
      "273      8.23    68128  \n",
      "365      8.14    26711  \n",
      "...       ...      ...  \n",
      "9409     4.69       66  \n",
      "9751     5.17       76  \n",
      "9896     4.20       59  \n",
      "10028    5.60       66  \n",
      "10058    4.80       67  \n",
      "\n",
      "[71 rows x 7 columns],        anime_id                                               name   genre  \\\n",
      "2         28977                                           Gintama°  Comedy   \n",
      "4          9969                                           Gintama'  Comedy   \n",
      "5         32935  Haikyuu!!: Karasuno Koukou VS Shiratorizawa Ga...  Comedy   \n",
      "8         15335  Gintama Movie: Kanketsu-hen - Yorozuya yo Eien...  Comedy   \n",
      "9         15417                                Gintama': Enchousen  Comedy   \n",
      "...         ...                                                ...     ...   \n",
      "10066     30089            Zombie Clay Animation: Life of the Dead  Comedy   \n",
      "10067     30090                                        Zombie Ehon  Comedy   \n",
      "10071      7808                   Zukkoke Knight: Don De La Mancha  Comedy   \n",
      "10073     18967          Zukkoke Sannin-gumi: Zukkoke Jikuu Bouken  Comedy   \n",
      "10074     13455                                   Zumomo to Nupepe  Comedy   \n",
      "\n",
      "        type  episodes  rating  members  \n",
      "2         TV        51    9.25   114262  \n",
      "4         TV        51    9.16   151266  \n",
      "5         TV        10    9.15    93351  \n",
      "8      Movie         1    9.10    72534  \n",
      "9         TV        13    9.11    81109  \n",
      "...      ...       ...     ...      ...  \n",
      "10066    OVA         4    4.95      125  \n",
      "10067    ONA         1    3.54       86  \n",
      "10071     TV        23    6.47      172  \n",
      "10073    OVA         1    6.13       76  \n",
      "10074     TV        32    7.00      120  \n",
      "\n",
      "[3960 rows x 7 columns],        anime_id                                            name     genre  \\\n",
      "125          32  Neon Genesis Evangelion: The End of Evangelion  Dementia   \n",
      "205          30                         Neon Genesis Evangelion  Dementia   \n",
      "276         437                                    Perfect Blue  Dementia   \n",
      "448         227                                            FLCL  Dementia   \n",
      "529         339                         Serial Experiments Lain  Dementia   \n",
      "...         ...                                             ...       ...   \n",
      "9885      31269                                           Venus  Dementia   \n",
      "9898      31266                                            Wall  Dementia   \n",
      "9932      29986                                           Women  Dementia   \n",
      "10030     30213                                    Yume Utsutsu  Dementia   \n",
      "10047     30211                                   Zenchuu Maite  Dementia   \n",
      "\n",
      "        type  episodes  rating  members  \n",
      "125    Movie         1    8.45   215630  \n",
      "205       TV        26    8.32   461946  \n",
      "276    Movie         1    8.23   117565  \n",
      "448      OVA         6    8.06   305165  \n",
      "529       TV        13    7.99   215829  \n",
      "...      ...       ...     ...      ...  \n",
      "9885   Movie         1    3.49       97  \n",
      "9898   Movie         1    3.76       95  \n",
      "9932   Movie         1    3.89       56  \n",
      "10030  Movie         1    4.40       65  \n",
      "10047  Movie         1    4.27       73  \n",
      "\n",
      "[235 rows x 7 columns],        anime_id                              name   genre   type  episodes  \\\n",
      "52        30709  Kamisama Hajimemashita: Kako-hen  Demons    OVA         4   \n",
      "105        2246                          Mononoke  Demons     TV        12   \n",
      "115         392                   Yuu☆Yuu☆Hakusho  Demons     TV       112   \n",
      "141       23317      Kuroshitsuji: Book of Murder  Demons    OVA         2   \n",
      "145          33                           Berserk  Demons     TV        25   \n",
      "...         ...                               ...     ...    ...       ...   \n",
      "9697       5922             Tenjouhen: Utsunomiko  Demons  Movie         1   \n",
      "9723      12401             The Gakuen Choujo-tai  Demons    OVA         1   \n",
      "9865      29917           Uriko-hime to Amanojaku  Demons  Movie         1   \n",
      "9879       5921                        Utsunomiko  Demons  Movie         1   \n",
      "10061     31427                             Zinba  Demons     TV        52   \n",
      "\n",
      "       rating  members  \n",
      "52       8.64    33422  \n",
      "105      8.49    88850  \n",
      "115      8.47   195017  \n",
      "141      8.41    67261  \n",
      "145      8.40   226430  \n",
      "...       ...      ...  \n",
      "9697     6.90      271  \n",
      "9723     4.85      162  \n",
      "9865     4.41       71  \n",
      "9879     6.35      298  \n",
      "10061    7.17      172  \n",
      "\n",
      "[217 rows x 7 columns],        anime_id                                               name  genre  \\\n",
      "0         32281                                     Kimi no Na wa.  Drama   \n",
      "1          5114                   Fullmetal Alchemist: Brotherhood  Drama   \n",
      "5         32935  Haikyuu!!: Karasuno Koukou VS Shiratorizawa Ga...  Drama   \n",
      "7           820                               Ginga Eiyuu Densetsu  Drama   \n",
      "10         4181                               Clannad: After Story  Drama   \n",
      "...         ...                                                ...    ...   \n",
      "10037     30998                                  Yuujou no Kickoff  Drama   \n",
      "10038     30763                                   Yuuki no Omamori  Drama   \n",
      "10049      4790                             Zeno: Kagirinaki Ai ni  Drama   \n",
      "10069     11097                             Zou no Inai Doubutsuen  Drama   \n",
      "10072     28543  Zukkoke Sannin-gumi no Hi Asobi Boushi Daisakusen  Drama   \n",
      "\n",
      "        type  episodes  rating  members  \n",
      "0      Movie         1    9.37   200630  \n",
      "1         TV        64    9.26   793665  \n",
      "5         TV        10    9.15    93351  \n",
      "7        OVA       110    9.11    80679  \n",
      "10        TV        24    9.06   456749  \n",
      "...      ...       ...     ...      ...  \n",
      "10037    OVA         1    6.00       35  \n",
      "10038    OVA         1    6.42      101  \n",
      "10049  Movie         1    6.76      207  \n",
      "10069  Movie         1    6.07       85  \n",
      "10072    OVA         1    5.83       50  \n",
      "\n",
      "[1882 rows x 7 columns],        anime_id                              name    genre   type  episodes  \\\n",
      "1          5114  Fullmetal Alchemist: Brotherhood  Fantasy     TV        64   \n",
      "10         4181              Clannad: After Story  Fantasy     TV        24   \n",
      "17        24701     Mushishi Zoku Shou 2nd Season  Fantasy     TV        10   \n",
      "18        12355      Ookami Kodomo no Ame to Yuki  Fantasy  Movie         1   \n",
      "24          164                     Mononoke Hime  Fantasy  Movie         1   \n",
      "...         ...                               ...      ...    ...       ...   \n",
      "10015      7625                       Yousei Dick  Fantasy     TV        26   \n",
      "10022     30957                        Yukidaruma  Fantasy  Movie         1   \n",
      "10025     15141                        Yukiwatari  Fantasy  Movie         1   \n",
      "10045     31838                        Ze Tian Ji  Fantasy    ONA        13   \n",
      "10064     12759      Zoku Zoku Mura no Obaketachi  Fantasy    OVA        12   \n",
      "\n",
      "       rating  members  \n",
      "1        9.26   793665  \n",
      "10       9.06   456749  \n",
      "17       8.88    75894  \n",
      "18       8.84   226193  \n",
      "24       8.81   339556  \n",
      "...       ...      ...  \n",
      "10015    5.78      184  \n",
      "10022    6.60       51  \n",
      "10025    6.13      130  \n",
      "10045    6.80      180  \n",
      "10064    6.33       76  \n",
      "\n",
      "[2034 rows x 7 columns],       anime_id                                     name genre type  episodes  \\\n",
      "90       14397                            Chihayafuru 2  Game   TV        25   \n",
      "193      28223                             Death Parade  Game   TV        12   \n",
      "195       3002  Gyakkyou Burai Kaiji: Ultimate Survivor  Game   TV        26   \n",
      "198      10800                              Chihayafuru  Game   TV        25   \n",
      "222      10271      Gyakkyou Burai Kaiji: Hakairoku-hen  Game   TV        26   \n",
      "...        ...                                      ...   ...  ...       ...   \n",
      "9877     13303                                   Usogui  Game  OVA         1   \n",
      "9920      9952                         Wei Qi Shao Nian  Game   TV        26   \n",
      "9921     19839                       Wei Qi Shao Nian 2  Game   TV        26   \n",
      "9951      9822                          Xiang Qi Master  Game   TV        26   \n",
      "9967     33744                                   Yahabe  Game  OVA         1   \n",
      "\n",
      "      rating  members  \n",
      "90      8.52    86074  \n",
      "193     8.33   383914  \n",
      "195     8.33    98996  \n",
      "198     8.32   158561  \n",
      "222     8.29    55566  \n",
      "...      ...      ...  \n",
      "9877    5.64      867  \n",
      "9920    6.40      196  \n",
      "9921    8.22       86  \n",
      "9951    6.33      252  \n",
      "9967    5.00       34  \n",
      "\n",
      "[160 rows x 7 columns],       anime_id                                             name  genre  \\\n",
      "158        853                           Ouran Koukou Host Club  Harem   \n",
      "218      16706             Kami nomi zo Shiru Sekai: Megami-hen  Harem   \n",
      "390      10080                      Kami nomi zo Shiru Sekai II  Harem   \n",
      "427      29095                                Grisaia no Rakuen  Harem   \n",
      "580       8525                         Kami nomi zo Shiru Sekai  Harem   \n",
      "...        ...                                              ...    ...   \n",
      "6725      9967                                    W: Wish Omake  Harem   \n",
      "6796     32697                                        Ozmafia!!  Harem   \n",
      "6923     33113                               Scared Rider Xechs  Harem   \n",
      "8765     33087  Meiji Tokyo Renka Movie: Hanakagami no Fantasia  Harem   \n",
      "9694     31861                Tenchi Muyou! Ryououki 4th Season  Harem   \n",
      "\n",
      "         type  episodes  rating  members  \n",
      "158        TV        26    8.39   422271  \n",
      "218        TV        12    8.30   142612  \n",
      "390        TV        12    8.12   194300  \n",
      "427        TV        10    8.08   111962  \n",
      "580        TV        12    7.95   284846  \n",
      "...       ...       ...     ...      ...  \n",
      "6725  Special         4    5.54      802  \n",
      "6796       TV        12    5.46    10290  \n",
      "6923       TV        12    5.32    12594  \n",
      "8765    Movie         1    6.22      766  \n",
      "9694      OVA         4    8.00     1602  \n",
      "\n",
      "[142 rows x 7 columns],        anime_id                                               name  \\\n",
      "2         28977                                           Gintama°   \n",
      "4          9969                                           Gintama'   \n",
      "8         15335  Gintama Movie: Kanketsu-hen - Yorozuya yo Eien...   \n",
      "9         15417                                Gintama': Enchousen   \n",
      "12          918                                            Gintama   \n",
      "...         ...                                                ...   \n",
      "10026     33828  Yume Kakeru Kougen: Kiyosato no Chichi Paul Rusch   \n",
      "10044      6272                                     Zakuro Yashiki   \n",
      "10049      4790                             Zeno: Kagirinaki Ai ni   \n",
      "10071      7808                   Zukkoke Knight: Don De La Mancha   \n",
      "10073     18967          Zukkoke Sannin-gumi: Zukkoke Jikuu Bouken   \n",
      "\n",
      "            genre   type  episodes  rating  members  \n",
      "2      Historical     TV        51    9.25   114262  \n",
      "4      Historical     TV        51    9.16   151266  \n",
      "8      Historical  Movie         1    9.10    72534  \n",
      "9      Historical     TV        13    9.11    81109  \n",
      "12     Historical     TV       201    9.04   336376  \n",
      "...           ...    ...       ...     ...      ...  \n",
      "10026  Historical  Movie         1    8.00       35  \n",
      "10044  Historical    OVA         1    6.21      531  \n",
      "10049  Historical  Movie         1    6.76      207  \n",
      "10071  Historical     TV        23    6.47      172  \n",
      "10073  Historical    OVA         1    6.13       76  \n",
      "\n",
      "[770 rows x 7 columns],        anime_id                                     name   genre type  \\\n",
      "38           19                                  Monster  Horror   TV   \n",
      "65          777                        Hellsing Ultimate  Horror  OVA   \n",
      "66        22535               Kiseijuu: Sei no Kakuritsu  Horror   TV   \n",
      "88        13125                           Shinsekai yori  Horror   TV   \n",
      "105        2246                                 Mononoke  Horror   TV   \n",
      "...         ...                                      ...     ...  ...   \n",
      "9980      23767                Yamiyo no Jidaigeki (OVA)  Horror  OVA   \n",
      "10014     23351                   Youkaiden Nekome Kozou  Horror   TV   \n",
      "10033     12769         Yumemakura Baku Twilight Gekijou  Horror  OVA   \n",
      "10065     32557       Zombie Clay Animation: I'm Stuck!!  Horror  ONA   \n",
      "10066     30089  Zombie Clay Animation: Life of the Dead  Horror  OVA   \n",
      "\n",
      "       episodes  rating  members  \n",
      "38           74    8.72   247562  \n",
      "65           10    8.59   297454  \n",
      "66           24    8.59   425457  \n",
      "88           25    8.53   288376  \n",
      "105          12    8.49    88850  \n",
      "...         ...     ...      ...  \n",
      "9980          2    4.33       74  \n",
      "10014        25    8.00      153  \n",
      "10033         4    5.14      307  \n",
      "10065         4    4.33       72  \n",
      "10066         4    4.95      125  \n",
      "\n",
      "[315 rows x 7 columns],       anime_id                                               name  genre  \\\n",
      "67       28735                      Shouwa Genroku Rakugo Shinjuu  Josei   \n",
      "77       10162                                         Usagi Drop  Josei   \n",
      "90       14397                                      Chihayafuru 2  Josei   \n",
      "110      12531                               Sakamichi no Apollon  Josei   \n",
      "118       1698                                   Nodame Cantabile  Josei   \n",
      "161       5690                            Nodame Cantabile Finale  Josei   \n",
      "166       1142                            Hachimitsu to Clover II  Josei   \n",
      "198      10800                                        Chihayafuru  Josei   \n",
      "234       4477                        Nodame Cantabile: Paris-hen  Josei   \n",
      "260       8129                                         Kuragehime  Josei   \n",
      "318         16                               Hachimitsu to Clover  Josei   \n",
      "442      11113                                Usagi Drop Specials  Josei   \n",
      "494      13119                   Hakuouki Movie 2: Shikon Soukyuu  Josei   \n",
      "509      12815                                     Shirokuma Cafe  Josei   \n",
      "598      13117                      Hakuouki Movie 1: Kyoto Ranbu  Josei   \n",
      "620       8038                    Nodame Cantabile Finale Special  Josei   \n",
      "621        322                                      Paradise Kiss  Josei   \n",
      "744        644                      Hachimitsu to Clover Specials  Josei   \n",
      "762      10350                                 Hakuouki Sekkaroku  Josei   \n",
      "904       9065                              Hakuouki Hekketsuroku  Josei   \n",
      "1054      8190                             Nodame Cantabile OVA 2  Josei   \n",
      "1158     13115                                Hakuouki Reimeiroku  Josei   \n",
      "1247     25801  Shouwa Genroku Rakugo Shinjuu: Yotarou Hourou-hen  Josei   \n",
      "1300      6895                                           Hakuouki  Josei   \n",
      "1305      6187                               Nodame Cantabile OVA  Josei   \n",
      "1380     13349                   Chouyaku Hyakuninisshu: Uta Koi.  Josei   \n",
      "1437     10178                          Otona Joshi no Anime Time  Josei   \n",
      "1506      3965                           Nodame Cantabile Special  Josei   \n",
      "1554       242                                            Gokusen  Josei   \n",
      "1567      5984                                Ristorante Paradiso  Josei   \n",
      "1672     18835                   Hakuouki Reimeiroku Tokuten Disc  Josei   \n",
      "1826       326                                 Petshop of Horrors  Josei   \n",
      "1982     13585                               Natsuyuki Rendezvous  Josei   \n",
      "2617      9723                    Hakuouki Hekketsuroku Episode 0  Josei   \n",
      "2777     31229                                            Servamp  Josei   \n",
      "2788     18745  Chihayafuru 2: Waga Mi Yo ni Furu Nagame Seshi...  Josei   \n",
      "3185     19841                             Super Seisyun Brothers  Josei   \n",
      "3370      4485                                      Kasei Yakyoku  Josei   \n",
      "3617      3182                        Massugu ni Ikou. 2nd Season  Josei   \n",
      "4131     16119  Chouyaku Hyakuninisshu: Uta Koi. - Sake to Kik...  Josei   \n",
      "4136     32011                              Hakuouki: Otogisoushi  Josei   \n",
      "4142      1617                                   Massugu ni Ikou.  Josei   \n",
      "4238      9754                        Kuragehime: Eiyuu Retsuden☆  Josei   \n",
      "4353     31452                                  Norn9: Norn+Nonet  Josei   \n",
      "4379     14145          Hanayaka Nari, Waga Ichizoku: Kinetograph  Josei   \n",
      "5166      2075                                    Kiko-chan Smile  Josei   \n",
      "5184     15085                                            Amnesia  Josei   \n",
      "6192     23213                              Kantoku Fuyuki Todoki  Josei   \n",
      "6221     32879                            Norn9: Norn+Nonet Recap  Josei   \n",
      "6455     10391               Kuragehime: Soreike! Amars Tankentai  Josei   \n",
      "8792     16954            Milky Passion: Dougenzaka - Ai no Shiro  Josei   \n",
      "9301     25623                          Rouge: Lady's Comic Video  Josei   \n",
      "\n",
      "         type  episodes  rating  members  \n",
      "67         TV        13    8.59    71295  \n",
      "77         TV        11    8.56   194855  \n",
      "90         TV        25    8.52    86074  \n",
      "110        TV        12    8.48   146592  \n",
      "118        TV        23    8.46   157025  \n",
      "161        TV        11    8.38    67697  \n",
      "166        TV        12    8.37    61493  \n",
      "198        TV        25    8.32   158561  \n",
      "234        TV        11    8.27    70822  \n",
      "260        TV        11    8.24   108053  \n",
      "318        TV        24    8.18   130646  \n",
      "442   Special         4    8.07    36351  \n",
      "494     Movie         1    8.03     9492  \n",
      "509        TV        50    8.01    44668  \n",
      "598     Movie         1    7.94    12076  \n",
      "620   Special         1    7.93    23388  \n",
      "621        TV        12    7.93    86380  \n",
      "744   Special         2    7.85    21164  \n",
      "762       OVA         6    7.84    14725  \n",
      "904        TV        10    7.76    49771  \n",
      "1054      OVA         1    7.69    17226  \n",
      "1158       TV        12    7.63    29485  \n",
      "1247      OVA         2    7.60     3208  \n",
      "1300       TV        12    7.57    90612  \n",
      "1305      OVA         1    7.57    17667  \n",
      "1380       TV        13    7.54    15661  \n",
      "1437  Special         4    7.52    11268  \n",
      "1506  Special         1    7.50    19570  \n",
      "1554       TV        13    7.48    22009  \n",
      "1567       TV        11    7.48    22229  \n",
      "1672      OVA         2    7.46     2178  \n",
      "1826       TV         4    7.41    32696  \n",
      "1982       TV        11    7.36    40958  \n",
      "2617  Special         1    7.16     8025  \n",
      "2777       TV        12    7.12    73126  \n",
      "2788      OVA         1    7.11    18659  \n",
      "3185       TV        14    7.00    18072  \n",
      "3370      OVA         4    6.93      529  \n",
      "3617       TV         5    6.85      904  \n",
      "4131  Special         1    6.71     1029  \n",
      "4136       TV        13    6.71     2791  \n",
      "4142       TV         4    6.71     1451  \n",
      "4238  Special         4    6.68     9748  \n",
      "4353       TV        12    6.65    38139  \n",
      "4379      OVA         2    6.64     8305  \n",
      "5166       TV        51    6.40      297  \n",
      "5184       TV        12    6.39   134349  \n",
      "6192       TV        13    5.94     4037  \n",
      "6221  Special         1    5.93     2109  \n",
      "6455  Special         6    5.77     6115  \n",
      "8792      OVA         1    5.47      196  \n",
      "9301      OVA         2    7.33      144  ,        anime_id                                               name genre  \\\n",
      "378        9204                                  Omae Umasou da na  Kids   \n",
      "392       21469                               Stand By Me Doraemon  Kids   \n",
      "443        6586                                Yume-iro Pâtissière  Kids   \n",
      "551       12917                             Madang-Eul Naon Amtalg  Kids   \n",
      "588        2150                               Tanoshii Muumin Ikka  Kids   \n",
      "...         ...                                                ...   ...   \n",
      "10056     22709            Zettai Zetsumei Dangerous Jiisan (2005)  Kids   \n",
      "10057     23315       Zettai Zetsumei Dangerous Jiisan Special-ban  Kids   \n",
      "10058     31698                                    Zhan Long Si Qu  Kids   \n",
      "10068     13167                                           Zoobles!  Kids   \n",
      "10072     28543  Zukkoke Sannin-gumi no Hi Asobi Boushi Daisakusen  Kids   \n",
      "\n",
      "          type  episodes  rating  members  \n",
      "378      Movie         1    8.13     6645  \n",
      "392      Movie         1    8.12     5712  \n",
      "443         TV        50    8.07    36921  \n",
      "551      Movie         1    7.97     1528  \n",
      "588         TV        78    7.95     7761  \n",
      "...        ...       ...     ...      ...  \n",
      "10056       TV        19    7.00       66  \n",
      "10057  Special         1    6.80       57  \n",
      "10058       TV        64    4.80       67  \n",
      "10068       TV        26    5.57      109  \n",
      "10072      OVA         1    5.83       50  \n",
      "\n",
      "[1528 rows x 7 columns],        anime_id                                               name  genre  \\\n",
      "1          5114                   Fullmetal Alchemist: Brotherhood  Magic   \n",
      "93         9756                         Mahou Shoujo Madoka★Magica  Magic   \n",
      "98        18115                         Magi: The Kingdom of Magic  Magic   \n",
      "99        11981  Mahou Shoujo Madoka★Magica Movie 3: Hangyaku n...  Magic   \n",
      "103       11979  Mahou Shoujo Madoka★Magica Movie 2: Eien no Mo...  Magic   \n",
      "...         ...                                                ...    ...   \n",
      "9862      33085  Unko-san: Tsuiteru Hito ni Shika Mienai Yousei...  Magic   \n",
      "9886      30029                  Video Ehonkan Sekai Meisaku Douwa  Magic   \n",
      "9927      33429      Wingcle Bear Hamkkehaneun Lomentig Hwaiteudei  Magic   \n",
      "10006     27467                                   Yoligongju Loopy  Magic   \n",
      "10061     31427                                              Zinba  Magic   \n",
      "\n",
      "        type  episodes  rating  members  \n",
      "1         TV        64    9.26   793665  \n",
      "93        TV        12    8.51   462974  \n",
      "98        TV        25    8.50   245026  \n",
      "99     Movie         1    8.50   135735  \n",
      "103    Movie         1    8.49    85361  \n",
      "...      ...       ...     ...      ...  \n",
      "9862      TV        13    6.20       52  \n",
      "9886     OVA        26    5.57       66  \n",
      "9927     ONA         1    3.68       49  \n",
      "10006     TV         6    5.47       62  \n",
      "10061     TV        52    7.17      172  \n",
      "\n",
      "[636 rows x 7 columns],        anime_id                                               name  \\\n",
      "21           44  Rurouni Kenshin: Meiji Kenkaku Romantan - Tsui...   \n",
      "102        6594                                       Katanagatari   \n",
      "115         392                                    Yuu☆Yuu☆Hakusho   \n",
      "176        9130      Saint Seiya: The Lost Canvas - Meiou Shinwa 2   \n",
      "200         813                                      Dragon Ball Z   \n",
      "...         ...                                                ...   \n",
      "9687      16728                         Tatakae!! Ramenman (Movie)   \n",
      "9819      12899                                Ucchare Goshogawara   \n",
      "9953      31700                                         Xiao Taiji   \n",
      "9968      12795                          Yajikita Gakuen Douchuuki   \n",
      "10009     32920                                            Yongshi   \n",
      "\n",
      "              genre   type  episodes  rating  members  \n",
      "21     Martial Arts    OVA         4    8.83   129307  \n",
      "102    Martial Arts     TV        12    8.49   207241  \n",
      "115    Martial Arts     TV       112    8.47   195017  \n",
      "176    Martial Arts    OVA        13    8.36    27532  \n",
      "200    Martial Arts     TV       291    8.32   375662  \n",
      "...             ...    ...       ...     ...      ...  \n",
      "9687   Martial Arts  Movie         1    5.95      168  \n",
      "9819   Martial Arts    OVA         1    5.83      152  \n",
      "9953   Martial Arts     TV        14    5.86       45  \n",
      "9968   Martial Arts    OVA         2    5.91      255  \n",
      "10009  Martial Arts  Movie         1    6.67       46  \n",
      "\n",
      "[228 rows x 7 columns],        anime_id                                          name  genre   type  \\\n",
      "13         2904            Code Geass: Hangyaku no Lelouch R2  Mecha     TV   \n",
      "19         1575               Code Geass: Hangyaku no Lelouch  Mecha     TV   \n",
      "29         2001                    Tengen Toppa Gurren Lagann  Mecha     TV   \n",
      "55         4565  Tengen Toppa Gurren Lagann Movie: Lagann-hen  Mecha  Movie   \n",
      "87         3784         Evangelion: 2.0 You Can (Not) Advance  Mecha  Movie   \n",
      "...         ...                                           ...    ...    ...   \n",
      "9944       5303                             Xabungle Graffiti  Mecha  Movie   \n",
      "9999      28201                      Yeonghongibyeong Lazenca  Mecha     TV   \n",
      "10046     33048                                  Zegapain ADP  Mecha  Movie   \n",
      "10052      9520                                   Zero Tester  Mecha     TV   \n",
      "10053      9522               Zero Tester: Chikyuu wo Mamore!  Mecha     TV   \n",
      "\n",
      "       episodes  rating  members  \n",
      "13           25    8.98   572888  \n",
      "19           25    8.83   715151  \n",
      "29           27    8.78   562962  \n",
      "55            1    8.64    82253  \n",
      "87            1    8.53   182224  \n",
      "...         ...     ...      ...  \n",
      "9944          1    5.33      248  \n",
      "9999         13    5.45       93  \n",
      "10046         1    6.35     1859  \n",
      "10052        38    6.43      181  \n",
      "10053        28    5.23      137  \n",
      "\n",
      "[889 rows x 7 columns],       anime_id                                   name     genre   type  \\\n",
      "1         5114       Fullmetal Alchemist: Brotherhood  Military     TV   \n",
      "7          820                   Ginga Eiyuu Densetsu  Military    OVA   \n",
      "13        2904     Code Geass: Hangyaku no Lelouch R2  Military     TV   \n",
      "19        1575        Code Geass: Hangyaku no Lelouch  Military     TV   \n",
      "65         777                      Hellsing Ultimate  Military    OVA   \n",
      "...        ...                                    ...       ...    ...   \n",
      "8885      3465         Nagasaki 1945: Angelus no Kane  Military  Movie   \n",
      "9176     16434  Penguin's Memory: Shiawase Monogatari  Military  Movie   \n",
      "9186     10466                Phantom Yuusha Densetsu  Military    OVA   \n",
      "9487     33757                  Shuang Yue Zhi Chengi  Military    ONA   \n",
      "9601     27575                          Spy Gekimetsu  Military  Movie   \n",
      "\n",
      "      episodes  rating  members  \n",
      "1           64    9.26   793665  \n",
      "7          110    9.11    80679  \n",
      "13          25    8.98   572888  \n",
      "19          25    8.83   715151  \n",
      "65          10    8.59   297454  \n",
      "...        ...     ...      ...  \n",
      "8885         1    6.61      346  \n",
      "9176         1    7.32      189  \n",
      "9186         1    5.44      176  \n",
      "9487        12    5.75       81  \n",
      "9601         1    6.63       68  \n",
      "\n",
      "[389 rows x 7 columns],        anime_id                       name  genre   type  episodes  rating  \\\n",
      "16        23273    Shigatsu wa Kimi no Uso  Music     TV        22    8.92   \n",
      "80          877                       Nana  Music     TV        47    8.55   \n",
      "110       12531       Sakamichi no Apollon  Music     TV        12    8.48   \n",
      "118        1698           Nodame Cantabile  Music     TV        23    8.46   \n",
      "144          57                       Beck  Music     TV        26    8.40   \n",
      "...         ...                        ...    ...    ...       ...     ...   \n",
      "9998      29970                       Yell  Music  Music         1    5.46   \n",
      "10019     30169                   Yubikiri  Music  Music         1    4.54   \n",
      "10023     31872          Yukidaruma Kazoku  Music  Music         1    5.25   \n",
      "10036     32850               Yuu no Mahou  Music  Music         1    4.48   \n",
      "10060     11093  Ziggy: Soreyuke! R&R Band  Music  Movie         1    6.45   \n",
      "\n",
      "       members  \n",
      "16      416397  \n",
      "80      197256  \n",
      "110     146592  \n",
      "118     157025  \n",
      "144     148328  \n",
      "...        ...  \n",
      "9998        55  \n",
      "10019       75  \n",
      "10023       40  \n",
      "10036       66  \n",
      "10060      123  \n",
      "\n",
      "[820 rows x 7 columns],        anime_id                                               name    genre  \\\n",
      "17        24701                      Mushishi Zoku Shou 2nd Season  Mystery   \n",
      "25         7311                      Suzumiya Haruhi no Shoushitsu  Mystery   \n",
      "26        17074                   Monogatari Series: Second Season  Mystery   \n",
      "27        21939                                 Mushishi Zoku Shou  Mystery   \n",
      "28          457                                           Mushishi  Mystery   \n",
      "...         ...                                                ...      ...   \n",
      "9822      21037                                   Uchuu Icchokusen  Mystery   \n",
      "9902      12139                                  Wanpaku Tanteidan  Mystery   \n",
      "9970      29837  Yakushiji Ryouko no Kaiki Jikenbo: Hamachou, V...  Mystery   \n",
      "9994       5468                                Yattokame Tanteidan  Mystery   \n",
      "10060     11093                          Ziggy: Soreyuke! R&R Band  Mystery   \n",
      "\n",
      "          type  episodes  rating  members  \n",
      "17          TV        10    8.88    75894  \n",
      "25       Movie         1    8.81   240297  \n",
      "26          TV        26    8.80   205959  \n",
      "27          TV        10    8.80   101351  \n",
      "28          TV        26    8.78   300030  \n",
      "...        ...       ...     ...      ...  \n",
      "9822     Movie         1    5.63      276  \n",
      "9902        TV        35    6.56      158  \n",
      "9970   Special         1    5.97      190  \n",
      "9994        TV        14    6.50      141  \n",
      "10060    Movie         1    6.45      123  \n",
      "\n",
      "[470 rows x 7 columns],        anime_id                                               name   genre  \\\n",
      "2         28977                                           Gintama°  Parody   \n",
      "4          9969                                           Gintama'  Parody   \n",
      "8         15335  Gintama Movie: Kanketsu-hen - Yorozuya yo Eien...  Parody   \n",
      "9         15417                                Gintama': Enchousen  Parody   \n",
      "12          918                                            Gintama  Parody   \n",
      "...         ...                                                ...     ...   \n",
      "9938       7419                Wrestler Gundan Seisenshi Robin Jr.  Parody   \n",
      "9992      25749                                 Yatterman Specials  Parody   \n",
      "9995      21277                                      Yawaraka Atom  Parody   \n",
      "10050     33571                       Zenryoku Yobikou 5.5 Seminar  Parody   \n",
      "10051     33570              Zenryoku Yobikou 5.5 Seminar Prologue  Parody   \n",
      "\n",
      "          type  episodes  rating  members  \n",
      "2           TV        51    9.25   114262  \n",
      "4           TV        51    9.16   151266  \n",
      "8        Movie         1    9.10    72534  \n",
      "9           TV        13    9.11    81109  \n",
      "12          TV       201    9.04   336376  \n",
      "...        ...       ...     ...      ...  \n",
      "9938        TV        50    6.32      145  \n",
      "9992   Special         2    6.48      208  \n",
      "9995       ONA         7    4.50       69  \n",
      "10050      ONA         9    5.00       46  \n",
      "10051      ONA         1    4.73       62  \n",
      "\n",
      "[352 rows x 7 columns],       anime_id                                               name   genre  \\\n",
      "38          19                                            Monster  Police   \n",
      "40        1535                                         Death Note  Police   \n",
      "95       13601                                        Psycho-Pass  Police   \n",
      "112        467            Ghost in the Shell: Stand Alone Complex  Police   \n",
      "132       1365  Detective Conan Movie 06: The Phantom of Baker...  Police   \n",
      "...        ...                                                ...     ...   \n",
      "9097      9338                              Ore no Sora Keiji-hen  Police   \n",
      "9288     32221                                     Robocar Poli 2  Police   \n",
      "9318      5997                        Sabu to Ichi Torimono Hikae  Police   \n",
      "9363     10850                     Seibu Tetsudou Ekiin Tako-chan  Police   \n",
      "9970     29837  Yakushiji Ryouko no Kaiki Jikenbo: Hamachou, V...  Police   \n",
      "\n",
      "         type  episodes  rating  members  \n",
      "38         TV        74    8.72   247562  \n",
      "40         TV        37    8.71  1013917  \n",
      "95         TV        22    8.50   509109  \n",
      "112        TV        26    8.47   194491  \n",
      "132     Movie         1    8.42    28462  \n",
      "...       ...       ...     ...      ...  \n",
      "9097      OVA         2    6.00      131  \n",
      "9288       TV        26    5.45       45  \n",
      "9318       TV        52    7.10      494  \n",
      "9363      ONA        12    4.12       99  \n",
      "9970  Special         1    5.97      190  \n",
      "\n",
      "[182 rows x 7 columns],        anime_id                              name          genre   type  \\\n",
      "38           19                           Monster  Psychological     TV   \n",
      "40         1535                        Death Note  Psychological     TV   \n",
      "47        22135           Ping Pong The Animation  Psychological     TV   \n",
      "49        31043           Boku dake ga Inai Machi  Psychological     TV   \n",
      "50         7785            Yojouhan Shinwa Taikei  Psychological     TV   \n",
      "...         ...                               ...            ...    ...   \n",
      "9145      29727                          Paradise  Psychological  Movie   \n",
      "9877      13303                            Usogui  Psychological    OVA   \n",
      "9895      31476                  Wake up!! Tamala  Psychological  Movie   \n",
      "10014     23351            Youkaiden Nekome Kozou  Psychological     TV   \n",
      "10033     12769  Yumemakura Baku Twilight Gekijou  Psychological    OVA   \n",
      "\n",
      "       episodes  rating  members  \n",
      "38           74    8.72   247562  \n",
      "40           37    8.71  1013917  \n",
      "47           11    8.67    97187  \n",
      "49           12    8.65   402381  \n",
      "50           11    8.65   122531  \n",
      "...         ...     ...      ...  \n",
      "9145          1    7.88      141  \n",
      "9877          1    5.64      867  \n",
      "9895          1    5.54      123  \n",
      "10014        25    8.00      153  \n",
      "10033         4    5.14      307  \n",
      "\n",
      "[217 rows x 7 columns],        anime_id                                               name    genre  \\\n",
      "0         32281                                     Kimi no Na wa.  Romance   \n",
      "10         4181                               Clannad: After Story  Romance   \n",
      "16        23273                            Shigatsu wa Kimi no Uso  Romance   \n",
      "21           44  Rurouni Kenshin: Meiji Kenkaku Romantan - Tsui...  Romance   \n",
      "25         7311                      Suzumiya Haruhi no Shoushitsu  Romance   \n",
      "...         ...                                                ...      ...   \n",
      "9926      31925                                         White Tree  Romance   \n",
      "9976      30165                    Yamaguchi Sanchi no Tsutomu-kun  Romance   \n",
      "10004     25815                               Yokohama Bakkure-tai  Romance   \n",
      "10046     33048                                       Zegapain ADP  Romance   \n",
      "10071      7808                   Zukkoke Knight: Don De La Mancha  Romance   \n",
      "\n",
      "        type  episodes  rating  members  \n",
      "0      Movie         1    9.37   200630  \n",
      "10        TV        24    9.06   456749  \n",
      "16        TV        22    8.92   416397  \n",
      "21       OVA         4    8.83   129307  \n",
      "25     Movie         1    8.81   240297  \n",
      "...      ...       ...     ...      ...  \n",
      "9926   Music         1    5.18      104  \n",
      "9976   Music         1    4.15       97  \n",
      "10004    OVA         4    7.50       83  \n",
      "10046  Movie         1    6.35     1859  \n",
      "10071     TV        23    6.47      172  \n",
      "\n",
      "[1155 rows x 7 columns],       anime_id                                               name    genre  \\\n",
      "2        28977                                           Gintama°  Samurai   \n",
      "4         9969                                           Gintama'  Samurai   \n",
      "8        15335  Gintama Movie: Kanketsu-hen - Yorozuya yo Eien...  Samurai   \n",
      "9        15417                                Gintama': Enchousen  Samurai   \n",
      "12         918                                            Gintama  Samurai   \n",
      "...        ...                                                ...      ...   \n",
      "9479     13307                     Shounen Ninja Kaze no Fujimaru  Samurai   \n",
      "9480     19983  Shounen Ninja Kaze no Fujimaru: Nazo no Arabiy...  Samurai   \n",
      "9698     26273                Tenka wo Mezashita Sannin no Bushou  Samurai   \n",
      "9764     26275                     Tokugawa Iemitsu to Edo Bakufu  Samurai   \n",
      "9918     22279                  Watashitachi no Kurashi to Doboku  Samurai   \n",
      "\n",
      "       type  episodes  rating  members  \n",
      "2        TV        51    9.25   114262  \n",
      "4        TV        51    9.16   151266  \n",
      "8     Movie         1    9.10    72534  \n",
      "9        TV        13    9.11    81109  \n",
      "12       TV       201    9.04   336376  \n",
      "...     ...       ...     ...      ...  \n",
      "9479     TV        65    5.29      189  \n",
      "9480  Movie         1    5.80       90  \n",
      "9698    OVA         1    7.67       52  \n",
      "9764    OVA         1    6.33       50  \n",
      "9918    OVA         3    6.00       71  \n",
      "\n",
      "[138 rows x 7 columns],        anime_id                                               name   genre  \\\n",
      "0         32281                                     Kimi no Na wa.  School   \n",
      "5         32935  Haikyuu!!: Karasuno Koukou VS Shiratorizawa Ga...  School   \n",
      "11        28851                                     Koe no Katachi  School   \n",
      "14        28891                            Haikyuu!! Second Season  School   \n",
      "16        23273                            Shigatsu wa Kimi no Uso  School   \n",
      "...         ...                                                ...     ...   \n",
      "9968      12795                          Yajikita Gakuen Douchuuki  School   \n",
      "10000     25589                                          Yeongsimi  School   \n",
      "10005     10113            Yokohama Meibutsu: Otoko Katayama-gumi!  School   \n",
      "10050     33571                       Zenryoku Yobikou 5.5 Seminar  School   \n",
      "10051     33570              Zenryoku Yobikou 5.5 Seminar Prologue  School   \n",
      "\n",
      "        type  episodes  rating  members  \n",
      "0      Movie         1    9.37   200630  \n",
      "5         TV        10    9.15    93351  \n",
      "11     Movie         1    9.05   102733  \n",
      "14        TV        25    8.93   179342  \n",
      "16        TV        22    8.92   416397  \n",
      "...      ...       ...     ...      ...  \n",
      "9968     OVA         2    5.91      255  \n",
      "10000     TV        13    6.50       53  \n",
      "10005    OVA         2    6.53      150  \n",
      "10050    ONA         9    5.00       46  \n",
      "10051    ONA         1    4.73       62  \n",
      "\n",
      "[920 rows x 7 columns],        anime_id                                               name   genre  \\\n",
      "2         28977                                           Gintama°  Sci-Fi   \n",
      "3          9253                                        Steins;Gate  Sci-Fi   \n",
      "4          9969                                           Gintama'  Sci-Fi   \n",
      "7           820                               Ginga Eiyuu Densetsu  Sci-Fi   \n",
      "8         15335  Gintama Movie: Kanketsu-hen - Yorozuya yo Eien...  Sci-Fi   \n",
      "...         ...                                                ...     ...   \n",
      "10040      6448                               Yuusei Shounen Papii  Sci-Fi   \n",
      "10046     33048                                       Zegapain ADP  Sci-Fi   \n",
      "10052      9520                                        Zero Tester  Sci-Fi   \n",
      "10053      9522                    Zero Tester: Chikyuu wo Mamore!  Sci-Fi   \n",
      "10073     18967          Zukkoke Sannin-gumi: Zukkoke Jikuu Bouken  Sci-Fi   \n",
      "\n",
      "        type  episodes  rating  members  \n",
      "2         TV        51    9.25   114262  \n",
      "3         TV        24    9.17   673572  \n",
      "4         TV        51    9.16   151266  \n",
      "7        OVA       110    9.11    80679  \n",
      "8      Movie         1    9.10    72534  \n",
      "...      ...       ...     ...      ...  \n",
      "10040     TV        52    6.49      242  \n",
      "10046  Movie         1    6.35     1859  \n",
      "10052     TV        38    6.43      181  \n",
      "10053     TV        28    5.23      137  \n",
      "10073    OVA         1    6.13       76  \n",
      "\n",
      "[1887 rows x 7 columns],        anime_id                                 name   genre   type  episodes  \\\n",
      "17        24701        Mushishi Zoku Shou 2nd Season  Seinen     TV        10   \n",
      "23        30276                        One Punch Man  Seinen     TV        12   \n",
      "27        21939                   Mushishi Zoku Shou  Seinen     TV        10   \n",
      "28          457                             Mushishi  Seinen     TV        26   \n",
      "33        28957  Mushishi Zoku Shou: Suzu no Shizuku  Seinen  Movie         1   \n",
      "...         ...                                  ...     ...    ...       ...   \n",
      "9488      24085                        Shura ga Yuku  Seinen    OVA         1   \n",
      "9494      13551                    Shuukan Storyland  Seinen     TV        56   \n",
      "9728      18919                  The Midnight★Animal  Seinen    ONA        12   \n",
      "9877      13303                               Usogui  Seinen    OVA         1   \n",
      "10014     23351               Youkaiden Nekome Kozou  Seinen     TV        25   \n",
      "\n",
      "       rating  members  \n",
      "17       8.88    75894  \n",
      "23       8.82   552458  \n",
      "27       8.80   101351  \n",
      "28       8.78   300030  \n",
      "33       8.75    32266  \n",
      "...       ...      ...  \n",
      "9488     5.40       75  \n",
      "9494     6.27      143  \n",
      "9728     3.29      195  \n",
      "9877     5.64      867  \n",
      "10014    8.00      153  \n",
      "\n",
      "[449 rows x 7 columns],        anime_id                                               name   genre  \\\n",
      "31        32983                              Natsume Yuujinchou Go  Shoujo   \n",
      "34        11665                             Natsume Yuujinchou Shi  Shoujo   \n",
      "46        10379                             Natsume Yuujinchou San  Shoujo   \n",
      "52        30709                   Kamisama Hajimemashita: Kako-hen  Shoujo   \n",
      "56         5300                            Zoku Natsume Yuujinchou  Shoujo   \n",
      "...         ...                                                ...     ...   \n",
      "9777      12657  Tongari Boushi no Memole: Marielle no Housekibako  Shoujo   \n",
      "9807       9175                                      Tsuruhime Ja!  Shoujo   \n",
      "9915      29363                Watashi no Ashinaga Ojisan Specials  Shoujo   \n",
      "9968      12795                          Yajikita Gakuen Douchuuki  Shoujo   \n",
      "10016     21129                          Youtai Nuhai Zai Shanghai  Shoujo   \n",
      "\n",
      "          type  episodes  rating  members  \n",
      "31          TV        13    8.76    38865  \n",
      "34          TV        13    8.75    98431  \n",
      "46          TV        13    8.67   102322  \n",
      "52         OVA         4    8.64    33422  \n",
      "56          TV        13    8.64   114173  \n",
      "...        ...       ...     ...      ...  \n",
      "9777       OVA         1    6.40      185  \n",
      "9807        TV        49    5.54       89  \n",
      "9915   Special         2    6.48      112  \n",
      "9968       OVA         2    5.91      255  \n",
      "10016    Movie         1    7.00       94  \n",
      "\n",
      "[622 rows x 7 columns],       anime_id                                               name      genre  \\\n",
      "475      30279                                 Yuru Yuri San☆Hai!  Shoujo Ai   \n",
      "520       1729                           Maria-sama ga Miteru 3rd  Shoujo Ai   \n",
      "552       3750                           Maria-sama ga Miteru 4th  Shoujo Ai   \n",
      "591      23225                            Yuru Yuri Nachuyachumi!  Shoujo Ai   \n",
      "605      12403                                        Yuru Yuri♪♪  Shoujo Ai   \n",
      "701        795                                      Oniisama e...  Shoujo Ai   \n",
      "748        444                         Maria-sama ga Miteru: Haru  Shoujo Ai   \n",
      "774      30902                           Yuru Yuri Nachuyachumi!+  Shoujo Ai   \n",
      "1038     10495                                          Yuru Yuri  Shoujo Ai   \n",
      "1261        98                                           Mai-HiME  Shoujo Ai   \n",
      "1333       879                                             Simoun  Shoujo Ai   \n",
      "1365      3468                      Maria-sama ga Miteru Specials  Shoujo Ai   \n",
      "1467      3469                Maria-sama ga Miteru: Haru Specials  Shoujo Ai   \n",
      "1503      3342               Mnemosyne: Mnemosyne no Musume-tachi  Shoujo Ai   \n",
      "1564       158                               Maria-sama ga Miteru  Shoujo Ai   \n",
      "1695       855                                   Strawberry Panic  Shoujo Ai   \n",
      "2193      6164                                           Aoi Hana  Shoujo Ai   \n",
      "2472      6203                                      Sasameki Koto  Shoujo Ai   \n",
      "2506     20047                                       Sakura Trick  Shoujo Ai   \n",
      "2537     26165                                   Yuri Kuma Arashi  Shoujo Ai   \n",
      "2557      5030                                        Maria†Holic  Shoujo Ai   \n",
      "2888      4535  Candy Boy: Nonchalant Talk of the Certain Twin...  Shoujo Ai   \n",
      "2962      9712                                  Maria†Holic Alive  Shoujo Ai   \n",
      "2992       143                                  Kannazuki no Miko  Shoujo Ai   \n",
      "3019      5116            Candy Boy Episode: EX01 - Mirai Yohouzu  Shoujo Ai   \n",
      "3096      3456                  Candy☆Boy: Side Story For Archive  Shoujo Ai   \n",
      "3190      6479   Candy Boy Episode: EX02 - Shiawase Kyouyuu Riron  Shoujo Ai   \n",
      "3338      1654                    Kashimashi: Girl Meets Girl OVA  Shoujo Ai   \n",
      "3511      2964                 Blue Drop: Tenshi-tachi no Gikyoku  Shoujo Ai   \n",
      "3699     19429                                    Akuma no Riddle  Shoujo Ai   \n",
      "3720     28817                          Mikagura Gakuen Kumikyoku  Shoujo Ai   \n",
      "3754       667                        Kashimashi: Girl Meets Girl  Shoujo Ai   \n",
      "3875     32287                                           Kanamewo  Shoujo Ai   \n",
      "4102     22123                        Inugami-san to Nekoyama-san  Shoujo Ai   \n",
      "4319     10384   Sono Hanabira ni Kuchizuke wo: Reo x Mai Diaries  Shoujo Ai   \n",
      "4413     25861                Inugami-san to Nekoyama-san Special  Shoujo Ai   \n",
      "4515     22785  Sono Hanabira ni Kuchizuke wo: Risa x Miya Gek...  Shoujo Ai   \n",
      "4984      9014                                      Kuttsukiboshi  Shoujo Ai   \n",
      "5142       555                           Koutetsu Tenshi Kurumi 2  Shoujo Ai   \n",
      "5161     28883                                   Hidan no Aria AA  Shoujo Ai   \n",
      "6084      5415                              La Rose de Versailles  Shoujo Ai   \n",
      "\n",
      "         type  episodes  rating  members  \n",
      "475        TV        12    8.04    44335  \n",
      "520       OVA         5    8.00    12394  \n",
      "552        TV        13    7.97    11779  \n",
      "591       OVA         1    7.95    28339  \n",
      "605        TV        12    7.94    83097  \n",
      "701        TV        39    7.88    11424  \n",
      "748        TV        13    7.85    14983  \n",
      "774   Special         2    7.84    19586  \n",
      "1038       TV        12    7.70   148140  \n",
      "1261       TV        26    7.59    76492  \n",
      "1333       TV        26    7.56    24664  \n",
      "1365  Special         7    7.55     6085  \n",
      "1467  Special         6    7.51     5554  \n",
      "1503       TV         6    7.50    96092  \n",
      "1564       TV        13    7.48    33989  \n",
      "1695       TV        26    7.45    72790  \n",
      "2193       TV        11    7.29    43279  \n",
      "2472       TV        13    7.21    34297  \n",
      "2506       TV        12    7.20   108011  \n",
      "2537       TV        12    7.19    48549  \n",
      "2557       TV        12    7.18   104663  \n",
      "2888      ONA         7    7.08    43338  \n",
      "2962       TV        12    7.06    40502  \n",
      "2992       TV        12    7.05    42927  \n",
      "3019      OVA         1    7.04    16405  \n",
      "3096      ONA         1    7.02    20294  \n",
      "3190  Special         1    6.99    15078  \n",
      "3338      OVA         1    6.94    10910  \n",
      "3511       TV        13    6.88    19968  \n",
      "3699       TV        12    6.82   127641  \n",
      "3720       TV        12    6.82    47642  \n",
      "3754       TV        12    6.81    32198  \n",
      "3875      ONA         1    6.79     3581  \n",
      "4102       TV        12    6.72    35872  \n",
      "4319      ONA        10    6.66     5125  \n",
      "4413  Special         1    6.63     7062  \n",
      "4515      ONA        10    6.60     2291  \n",
      "4984      OVA         2    6.46    21805  \n",
      "5142       TV        12    6.41     8094  \n",
      "5161       TV        12    6.40    39538  \n",
      "6084  Special         1    6.02     1812  ,        anime_id                                               name    genre  \\\n",
      "1          5114                   Fullmetal Alchemist: Brotherhood  Shounen   \n",
      "2         28977                                           Gintama°  Shounen   \n",
      "4          9969                                           Gintama'  Shounen   \n",
      "5         32935  Haikyuu!!: Karasuno Koukou VS Shiratorizawa Ga...  Shounen   \n",
      "6         11061                             Hunter x Hunter (2011)  Shounen   \n",
      "...         ...                                                ...      ...   \n",
      "9851      17621  Ultraman: Chou Toushi Gekiden - Suisei Senjin ...  Shounen   \n",
      "9967      33744                                             Yahabe  Shounen   \n",
      "9985      12791                                  Yankee Reppuu-tai  Shounen   \n",
      "10004     25815                               Yokohama Bakkure-tai  Shounen   \n",
      "10005     10113            Yokohama Meibutsu: Otoko Katayama-gumi!  Shounen   \n",
      "\n",
      "      type  episodes  rating  members  \n",
      "1       TV        64    9.26   793665  \n",
      "2       TV        51    9.25   114262  \n",
      "4       TV        51    9.16   151266  \n",
      "5       TV        10    9.15    93351  \n",
      "6       TV       148    9.13   425855  \n",
      "...    ...       ...     ...      ...  \n",
      "9851   OVA         1    6.56      147  \n",
      "9967   OVA         1    5.00       34  \n",
      "9985   OVA         6    5.88      110  \n",
      "10004  OVA         4    7.50       83  \n",
      "10005  OVA         2    6.53      150  \n",
      "\n",
      "[1610 rows x 7 columns],       anime_id                                               name       genre  \\\n",
      "86       30346                                 Doukyuusei (Movie)  Shounen Ai   \n",
      "212      11123                               Sekaiichi Hatsukoi 2  Shounen Ai   \n",
      "257       4814                                 Junjou Romantica 2  Shounen Ai   \n",
      "304      20371  Sekaiichi Hatsukoi Movie: Yokozawa Takafumi no...  Shounen Ai   \n",
      "322       8063                             Sekaiichi Hatsukoi OVA  Shounen Ai   \n",
      "...        ...                                                ...         ...   \n",
      "6624      1216                          Boku wa Konomama Kaeranai  Shounen Ai   \n",
      "6935      2219                                Ryokunohara Meikyuu  Shounen Ai   \n",
      "7068       600                                      Legend of Duo  Shounen Ai   \n",
      "7077       752                             Osakana wa Ami no Naka  Shounen Ai   \n",
      "9148     22591                        Patalliro Saiyuuki! Special  Shounen Ai   \n",
      "\n",
      "         type  episodes  rating  members  \n",
      "86      Movie         1    8.53    28864  \n",
      "212        TV        12    8.31    69253  \n",
      "257        TV        12    8.24    87617  \n",
      "304     Movie         1    8.20    23045  \n",
      "322       OVA         2    8.18    35225  \n",
      "...       ...       ...     ...      ...  \n",
      "6624      OVA         1    5.62     6148  \n",
      "6935      OVA         1    5.30     2084  \n",
      "7068       TV        12    5.13     6991  \n",
      "7077      OVA         1    5.12     5435  \n",
      "9148  Special         1    5.75      183  \n",
      "\n",
      "[62 rows x 7 columns],        anime_id                                          name          genre  \\\n",
      "10         4181                          Clannad: After Story  Slice of Life   \n",
      "17        24701                 Mushishi Zoku Shou 2nd Season  Slice of Life   \n",
      "18        12355                  Ookami Kodomo no Ame to Yuki  Slice of Life   \n",
      "27        21939                            Mushishi Zoku Shou  Slice of Life   \n",
      "28          457                                      Mushishi  Slice of Life   \n",
      "...         ...                                           ...            ...   \n",
      "9994       5468                           Yattokame Tanteidan  Slice of Life   \n",
      "10000     25589                                     Yeongsimi  Slice of Life   \n",
      "10017     12771                        Youyou no Neko Tsumami  Slice of Life   \n",
      "10024     23345                          Yukiguni no Oujisama  Slice of Life   \n",
      "10062     32733  ZIP! x Peeping Life TV: Cool Japan Saizensen  Slice of Life   \n",
      "\n",
      "        type  episodes  rating  members  \n",
      "10        TV        24    9.06   456749  \n",
      "17        TV        10    8.88    75894  \n",
      "18     Movie         1    8.84   226193  \n",
      "27        TV        10    8.80   101351  \n",
      "28        TV        26    8.78   300030  \n",
      "...      ...       ...     ...      ...  \n",
      "9994      TV        14    6.50      141  \n",
      "10000     TV        13    6.50       53  \n",
      "10017     TV       130    6.09      102  \n",
      "10024  Movie         1    7.00       62  \n",
      "10062    ONA         5    5.38       60  \n",
      "\n",
      "[1139 rows x 7 columns],        anime_id                                          name  genre     type  \\\n",
      "7           820                          Ginga Eiyuu Densetsu  Space      OVA   \n",
      "22            1                                  Cowboy Bebop  Space       TV   \n",
      "55         4565  Tengen Toppa Gurren Lagann Movie: Lagann-hen  Space    Movie   \n",
      "68        12431                                 Uchuu Kyoudai  Space       TV   \n",
      "89        12029                      Uchuu Senkan Yamato 2199  Space      OVA   \n",
      "...         ...                                           ...    ...      ...   \n",
      "9933      33866                                        Wonder  Space    Music   \n",
      "9940      12091                                      X Bomber  Space       TV   \n",
      "9941      29133                                X Bomber Pilot  Space  Special   \n",
      "9945      12799                                       Xevious  Space    Movie   \n",
      "10040      6448                          Yuusei Shounen Papii  Space       TV   \n",
      "\n",
      "       episodes  rating  members  \n",
      "7           110    9.11    80679  \n",
      "22           26    8.82   486824  \n",
      "55            1    8.64    82253  \n",
      "68           99    8.59    72958  \n",
      "89           26    8.53    44223  \n",
      "...         ...     ...      ...  \n",
      "9933          1    3.85       60  \n",
      "9940         25    5.94      199  \n",
      "9941          1    4.28       77  \n",
      "9945          1    5.73      184  \n",
      "10040        52    6.49      242  \n",
      "\n",
      "[361 rows x 7 columns],        anime_id                                               name   genre  \\\n",
      "5         32935  Haikyuu!!: Karasuno Koukou VS Shiratorizawa Ga...  Sports   \n",
      "14        28891                            Haikyuu!! Second Season  Sports   \n",
      "20          263                                     Hajime no Ippo  Sports   \n",
      "32         5258                     Hajime no Ippo: New Challenger  Sports   \n",
      "43        20583                                          Haikyuu!!  Sports   \n",
      "...         ...                                                ...     ...   \n",
      "9973      10554                                  Yakyuukyou no Uta  Sports   \n",
      "9974      10563   Yakyuukyou no Uta: Kita no Ookami Minami no Tora  Sports   \n",
      "10037     30998                                  Yuujou no Kickoff  Sports   \n",
      "10041     18983                                   Yuuto-kun ga Iku  Sports   \n",
      "10042     22197                             Yuuto-kun ga Iku Movie  Sports   \n",
      "\n",
      "        type  episodes  rating  members  \n",
      "5         TV        10    9.15    93351  \n",
      "14        TV        25    8.93   179342  \n",
      "20        TV        75    8.83   157670  \n",
      "32        TV        26    8.75    88995  \n",
      "43        TV        25    8.68   284498  \n",
      "...      ...       ...     ...      ...  \n",
      "9973      TV        25    7.15      292  \n",
      "9974   Movie         1    6.35      112  \n",
      "10037    OVA         1    6.00       35  \n",
      "10041     TV        26    3.83       93  \n",
      "10042  Movie         1    6.50       60  \n",
      "\n",
      "[499 rows x 7 columns],        anime_id                                               name  \\\n",
      "6         11061                             Hunter x Hunter (2011)   \n",
      "13         2904                 Code Geass: Hangyaku no Lelouch R2   \n",
      "19         1575                    Code Geass: Hangyaku no Lelouch   \n",
      "23        30276                                      One Punch Man   \n",
      "55         4565       Tengen Toppa Gurren Lagann Movie: Lagann-hen   \n",
      "...         ...                                                ...   \n",
      "9850      30122               Ultraman M78 Gekijou: Love and Peace   \n",
      "9851      17621  Ultraman: Chou Toushi Gekiden - Suisei Senjin ...   \n",
      "9938       7419                Wrestler Gundan Seisenshi Robin Jr.   \n",
      "10040      6448                               Yuusei Shounen Papii   \n",
      "10061     31427                                              Zinba   \n",
      "\n",
      "             genre     type  episodes  rating  members  \n",
      "6      Super Power       TV       148    9.13   425855  \n",
      "13     Super Power       TV        25    8.98   572888  \n",
      "19     Super Power       TV        25    8.83   715151  \n",
      "23     Super Power       TV        12    8.82   552458  \n",
      "55     Super Power    Movie         1    8.64    82253  \n",
      "...            ...      ...       ...     ...      ...  \n",
      "9850   Super Power  Special         1    5.31       93  \n",
      "9851   Super Power      OVA         1    6.56      147  \n",
      "9938   Super Power       TV        50    6.32      145  \n",
      "10040  Super Power       TV        52    6.49      242  \n",
      "10061  Super Power       TV        52    7.17      172  \n",
      "\n",
      "[398 rows x 7 columns],        anime_id                                               name  \\\n",
      "0         32281                                     Kimi no Na wa.   \n",
      "10         4181                               Clannad: After Story   \n",
      "15          199                      Sen to Chihiro no Kamikakushi   \n",
      "17        24701                      Mushishi Zoku Shou 2nd Season   \n",
      "23        30276                                      One Punch Man   \n",
      "...         ...                                                ...   \n",
      "9886      30029                  Video Ehonkan Sekai Meisaku Douwa   \n",
      "9967      33744                                             Yahabe   \n",
      "9970      29837  Yakushiji Ryouko no Kaiki Jikenbo: Hamachou, V...   \n",
      "10014     23351                             Youkaiden Nekome Kozou   \n",
      "10059     33339                          Zhongguo Jingqi Xiansheng   \n",
      "\n",
      "              genre     type  episodes  rating  members  \n",
      "0      Supernatural    Movie         1    9.37   200630  \n",
      "10     Supernatural       TV        24    9.06   456749  \n",
      "15     Supernatural    Movie         1    8.93   466254  \n",
      "17     Supernatural       TV        10    8.88    75894  \n",
      "23     Supernatural       TV        12    8.82   552458  \n",
      "...             ...      ...       ...     ...      ...  \n",
      "9886   Supernatural      OVA        26    5.57       66  \n",
      "9967   Supernatural      OVA         1    5.00       34  \n",
      "9970   Supernatural  Special         1    5.97      190  \n",
      "10014  Supernatural       TV        25    8.00      153  \n",
      "10059  Supernatural      ONA        63    6.96      386  \n",
      "\n",
      "[853 rows x 7 columns],        anime_id                            name     genre   type  episodes  \\\n",
      "3          9253                     Steins;Gate  Thriller     TV        24   \n",
      "36        11741            Fate/Zero 2nd Season  Thriller     TV        12   \n",
      "38           19                         Monster  Thriller     TV        74   \n",
      "40         1535                      Death Note  Thriller     TV        37   \n",
      "45         4282  Kara no Kyoukai 5: Mujun Rasen  Thriller  Movie         1   \n",
      "...         ...                             ...       ...    ...       ...   \n",
      "7329      11869                    Bloody Night  Thriller    ONA         1   \n",
      "7371      16602               Dead Girl Trailer  Thriller    ONA         1   \n",
      "7630      21025                           Chang  Thriller  Movie         1   \n",
      "9108      33154      Osiris no Tenbin: Season 2  Thriller    ONA        11   \n",
      "10059     33339       Zhongguo Jingqi Xiansheng  Thriller    ONA        63   \n",
      "\n",
      "       rating  members  \n",
      "3        9.17   673572  \n",
      "36       8.73   340973  \n",
      "38       8.72   247562  \n",
      "40       8.71  1013917  \n",
      "45       8.68   111074  \n",
      "...       ...      ...  \n",
      "7329     4.26     1292  \n",
      "7371     3.74      910  \n",
      "7630     6.33      248  \n",
      "9108     6.08      250  \n",
      "10059    6.96      386  \n",
      "\n",
      "[86 rows x 7 columns],       anime_id                               name    genre     type  episodes  \\\n",
      "26       17074   Monogatari Series: Second Season  Vampire       TV        26   \n",
      "37       31757    Kizumonogatari II: Nekketsu-hen  Vampire    Movie         1   \n",
      "65         777                  Hellsing Ultimate  Vampire      OVA        10   \n",
      "92       14719      JoJo no Kimyou na Bouken (TV)  Vampire       TV        26   \n",
      "124       9260     Kizumonogatari I: Tekketsu-hen  Vampire    Movie         1   \n",
      "...        ...                                ...      ...      ...       ...   \n",
      "7235      1765                     Vampire Sensou  Vampire      OVA         1   \n",
      "7334      3801  Yami no Teio: Kyuuketsuki Dracula  Vampire  Special         1   \n",
      "7379     28929                     Vampire Holmes  Vampire       TV        12   \n",
      "8154     34222                        Higanjima X  Vampire      ONA        12   \n",
      "8177     22985                 Hipira-kun Special  Vampire  Special         1   \n",
      "\n",
      "      rating  members  \n",
      "26      8.80   205959  \n",
      "37      8.73    34347  \n",
      "65      8.59   297454  \n",
      "92      8.51   190197  \n",
      "124     8.45    99579  \n",
      "...      ...      ...  \n",
      "7235    4.76     2002  \n",
      "7334    4.24     1070  \n",
      "7379    3.63    10403  \n",
      "8154    5.14      160  \n",
      "8177    4.78      178  \n",
      "\n",
      "[86 rows x 7 columns]]\n"
     ]
    }
   ],
   "source": [
    "print(genre_df_list)"
   ]
  },
  {
   "cell_type": "code",
   "execution_count": 56,
   "metadata": {},
   "outputs": [],
   "source": [
    "df2 = pd.concat(genre_df_list)"
   ]
  },
  {
   "cell_type": "code",
   "execution_count": 59,
   "metadata": {},
   "outputs": [
    {
     "name": "stdout",
     "output_type": "stream",
     "text": [
      "      anime_id                                               name    genre  \\\n",
      "1         5114                   Fullmetal Alchemist: Brotherhood   Action   \n",
      "2        28977                                           Gintama°   Action   \n",
      "4         9969                                           Gintama'   Action   \n",
      "6        11061                             Hunter x Hunter (2011)   Action   \n",
      "8        15335  Gintama Movie: Kanketsu-hen - Yorozuya yo Eien...   Action   \n",
      "...        ...                                                ...      ...   \n",
      "7235      1765                                     Vampire Sensou  Vampire   \n",
      "7334      3801                  Yami no Teio: Kyuuketsuki Dracula  Vampire   \n",
      "7379     28929                                     Vampire Holmes  Vampire   \n",
      "8154     34222                                        Higanjima X  Vampire   \n",
      "8177     22985                                 Hipira-kun Special  Vampire   \n",
      "\n",
      "         type  episodes  rating  members  \n",
      "1          TV        64    9.26   793665  \n",
      "2          TV        51    9.25   114262  \n",
      "4          TV        51    9.16   151266  \n",
      "6          TV       148    9.13   425855  \n",
      "8       Movie         1    9.10    72534  \n",
      "...       ...       ...     ...      ...  \n",
      "7235      OVA         1    4.76     2002  \n",
      "7334  Special         1    4.24     1070  \n",
      "7379       TV        12    3.63    10403  \n",
      "8154      ONA        12    5.14      160  \n",
      "8177  Special         1    4.78      178  \n",
      "\n",
      "[30581 rows x 7 columns]\n"
     ]
    }
   ],
   "source": [
    "print(df2)"
   ]
  },
  {
   "cell_type": "code",
   "execution_count": 64,
   "metadata": {},
   "outputs": [],
   "source": [
    "df2.sort_values('name', inplace=True)"
   ]
  },
  {
   "cell_type": "code",
   "execution_count": 65,
   "metadata": {},
   "outputs": [],
   "source": [
    "top10 = df2.groupby('genre')['members'].sum().sort_values(\n",
    "    ascending=False).index[:10]"
   ]
  },
  {
   "cell_type": "code",
   "execution_count": 66,
   "metadata": {},
   "outputs": [
    {
     "data": {
      "text/plain": [
       "Index(['Comedy', 'Action', 'Drama', 'Romance', 'Supernatural', 'Fantasy',\n",
       "       'Shounen', 'School', 'Adventure', 'Sci-Fi'],\n",
       "      dtype='object', name='genre')"
      ]
     },
     "execution_count": 66,
     "metadata": {},
     "output_type": "execute_result"
    }
   ],
   "source": [
    "top10"
   ]
  },
  {
   "cell_type": "code",
   "execution_count": 67,
   "metadata": {},
   "outputs": [],
   "source": [
    "df2 = df2[df2['genre'].isin(top10)]"
   ]
  },
  {
   "cell_type": "code",
   "execution_count": 68,
   "metadata": {},
   "outputs": [
    {
     "data": {
      "text/html": [
       "<div>\n",
       "<style scoped>\n",
       "    .dataframe tbody tr th:only-of-type {\n",
       "        vertical-align: middle;\n",
       "    }\n",
       "\n",
       "    .dataframe tbody tr th {\n",
       "        vertical-align: top;\n",
       "    }\n",
       "\n",
       "    .dataframe thead th {\n",
       "        text-align: right;\n",
       "    }\n",
       "</style>\n",
       "<table border=\"1\" class=\"dataframe\">\n",
       "  <thead>\n",
       "    <tr style=\"text-align: right;\">\n",
       "      <th></th>\n",
       "      <th>anime_id</th>\n",
       "      <th>name</th>\n",
       "      <th>genre</th>\n",
       "      <th>type</th>\n",
       "      <th>episodes</th>\n",
       "      <th>rating</th>\n",
       "      <th>members</th>\n",
       "    </tr>\n",
       "  </thead>\n",
       "  <tbody>\n",
       "    <tr>\n",
       "      <td>2943</td>\n",
       "      <td>7669</td>\n",
       "      <td>\"Bungaku Shoujo\" Kyou no Oyatsu: Hatsukoi</td>\n",
       "      <td>Comedy</td>\n",
       "      <td>OVA</td>\n",
       "      <td>1</td>\n",
       "      <td>7.06</td>\n",
       "      <td>14351</td>\n",
       "    </tr>\n",
       "    <tr>\n",
       "      <td>2943</td>\n",
       "      <td>7669</td>\n",
       "      <td>\"Bungaku Shoujo\" Kyou no Oyatsu: Hatsukoi</td>\n",
       "      <td>School</td>\n",
       "      <td>OVA</td>\n",
       "      <td>1</td>\n",
       "      <td>7.06</td>\n",
       "      <td>14351</td>\n",
       "    </tr>\n",
       "    <tr>\n",
       "      <td>2943</td>\n",
       "      <td>7669</td>\n",
       "      <td>\"Bungaku Shoujo\" Kyou no Oyatsu: Hatsukoi</td>\n",
       "      <td>Fantasy</td>\n",
       "      <td>OVA</td>\n",
       "      <td>1</td>\n",
       "      <td>7.06</td>\n",
       "      <td>14351</td>\n",
       "    </tr>\n",
       "    <tr>\n",
       "      <td>1376</td>\n",
       "      <td>8481</td>\n",
       "      <td>\"Bungaku Shoujo\" Memoire</td>\n",
       "      <td>School</td>\n",
       "      <td>OVA</td>\n",
       "      <td>3</td>\n",
       "      <td>7.54</td>\n",
       "      <td>18013</td>\n",
       "    </tr>\n",
       "    <tr>\n",
       "      <td>1376</td>\n",
       "      <td>8481</td>\n",
       "      <td>\"Bungaku Shoujo\" Memoire</td>\n",
       "      <td>Drama</td>\n",
       "      <td>OVA</td>\n",
       "      <td>3</td>\n",
       "      <td>7.54</td>\n",
       "      <td>18013</td>\n",
       "    </tr>\n",
       "    <tr>\n",
       "      <td>...</td>\n",
       "      <td>...</td>\n",
       "      <td>...</td>\n",
       "      <td>...</td>\n",
       "      <td>...</td>\n",
       "      <td>...</td>\n",
       "      <td>...</td>\n",
       "      <td>...</td>\n",
       "    </tr>\n",
       "    <tr>\n",
       "      <td>474</td>\n",
       "      <td>793</td>\n",
       "      <td>xxxHOLiC Movie: Manatsu no Yoru no Yume</td>\n",
       "      <td>Comedy</td>\n",
       "      <td>Movie</td>\n",
       "      <td>1</td>\n",
       "      <td>8.04</td>\n",
       "      <td>41547</td>\n",
       "    </tr>\n",
       "    <tr>\n",
       "      <td>209</td>\n",
       "      <td>6864</td>\n",
       "      <td>xxxHOLiC Rou</td>\n",
       "      <td>Supernatural</td>\n",
       "      <td>OVA</td>\n",
       "      <td>2</td>\n",
       "      <td>8.32</td>\n",
       "      <td>36353</td>\n",
       "    </tr>\n",
       "    <tr>\n",
       "      <td>334</td>\n",
       "      <td>4918</td>\n",
       "      <td>xxxHOLiC Shunmuki</td>\n",
       "      <td>Supernatural</td>\n",
       "      <td>OVA</td>\n",
       "      <td>2</td>\n",
       "      <td>8.17</td>\n",
       "      <td>40401</td>\n",
       "    </tr>\n",
       "    <tr>\n",
       "      <td>334</td>\n",
       "      <td>4918</td>\n",
       "      <td>xxxHOLiC Shunmuki</td>\n",
       "      <td>Comedy</td>\n",
       "      <td>OVA</td>\n",
       "      <td>2</td>\n",
       "      <td>8.17</td>\n",
       "      <td>40401</td>\n",
       "    </tr>\n",
       "    <tr>\n",
       "      <td>334</td>\n",
       "      <td>4918</td>\n",
       "      <td>xxxHOLiC Shunmuki</td>\n",
       "      <td>Drama</td>\n",
       "      <td>OVA</td>\n",
       "      <td>2</td>\n",
       "      <td>8.17</td>\n",
       "      <td>40401</td>\n",
       "    </tr>\n",
       "  </tbody>\n",
       "</table>\n",
       "<p>19027 rows × 7 columns</p>\n",
       "</div>"
      ],
      "text/plain": [
       "      anime_id                                       name         genre  \\\n",
       "2943      7669  \"Bungaku Shoujo\" Kyou no Oyatsu: Hatsukoi        Comedy   \n",
       "2943      7669  \"Bungaku Shoujo\" Kyou no Oyatsu: Hatsukoi        School   \n",
       "2943      7669  \"Bungaku Shoujo\" Kyou no Oyatsu: Hatsukoi       Fantasy   \n",
       "1376      8481                   \"Bungaku Shoujo\" Memoire        School   \n",
       "1376      8481                   \"Bungaku Shoujo\" Memoire         Drama   \n",
       "...        ...                                        ...           ...   \n",
       "474        793    xxxHOLiC Movie: Manatsu no Yoru no Yume        Comedy   \n",
       "209       6864                               xxxHOLiC Rou  Supernatural   \n",
       "334       4918                          xxxHOLiC Shunmuki  Supernatural   \n",
       "334       4918                          xxxHOLiC Shunmuki        Comedy   \n",
       "334       4918                          xxxHOLiC Shunmuki         Drama   \n",
       "\n",
       "       type  episodes  rating  members  \n",
       "2943    OVA         1    7.06    14351  \n",
       "2943    OVA         1    7.06    14351  \n",
       "2943    OVA         1    7.06    14351  \n",
       "1376    OVA         3    7.54    18013  \n",
       "1376    OVA         3    7.54    18013  \n",
       "...     ...       ...     ...      ...  \n",
       "474   Movie         1    8.04    41547  \n",
       "209     OVA         2    8.32    36353  \n",
       "334     OVA         2    8.17    40401  \n",
       "334     OVA         2    8.17    40401  \n",
       "334     OVA         2    8.17    40401  \n",
       "\n",
       "[19027 rows x 7 columns]"
      ]
     },
     "execution_count": 68,
     "metadata": {},
     "output_type": "execute_result"
    }
   ],
   "source": [
    "df2"
   ]
  },
  {
   "cell_type": "code",
   "execution_count": 70,
   "metadata": {},
   "outputs": [
    {
     "data": {
      "text/html": [
       "<div>\n",
       "<style scoped>\n",
       "    .dataframe tbody tr th:only-of-type {\n",
       "        vertical-align: middle;\n",
       "    }\n",
       "\n",
       "    .dataframe tbody tr th {\n",
       "        vertical-align: top;\n",
       "    }\n",
       "\n",
       "    .dataframe thead th {\n",
       "        text-align: right;\n",
       "    }\n",
       "</style>\n",
       "<table border=\"1\" class=\"dataframe\">\n",
       "  <thead>\n",
       "    <tr style=\"text-align: right;\">\n",
       "      <th></th>\n",
       "      <th>anime_id</th>\n",
       "      <th>name</th>\n",
       "      <th>genre</th>\n",
       "      <th>type</th>\n",
       "      <th>episodes</th>\n",
       "      <th>rating</th>\n",
       "      <th>members</th>\n",
       "    </tr>\n",
       "  </thead>\n",
       "  <tbody>\n",
       "    <tr>\n",
       "      <td>0</td>\n",
       "      <td>32281</td>\n",
       "      <td>Kimi no Na wa.</td>\n",
       "      <td>Supernatural</td>\n",
       "      <td>Movie</td>\n",
       "      <td>1</td>\n",
       "      <td>9.37</td>\n",
       "      <td>200630</td>\n",
       "    </tr>\n",
       "    <tr>\n",
       "      <td>0</td>\n",
       "      <td>32281</td>\n",
       "      <td>Kimi no Na wa.</td>\n",
       "      <td>Drama</td>\n",
       "      <td>Movie</td>\n",
       "      <td>1</td>\n",
       "      <td>9.37</td>\n",
       "      <td>200630</td>\n",
       "    </tr>\n",
       "    <tr>\n",
       "      <td>0</td>\n",
       "      <td>32281</td>\n",
       "      <td>Kimi no Na wa.</td>\n",
       "      <td>Romance</td>\n",
       "      <td>Movie</td>\n",
       "      <td>1</td>\n",
       "      <td>9.37</td>\n",
       "      <td>200630</td>\n",
       "    </tr>\n",
       "    <tr>\n",
       "      <td>0</td>\n",
       "      <td>32281</td>\n",
       "      <td>Kimi no Na wa.</td>\n",
       "      <td>School</td>\n",
       "      <td>Movie</td>\n",
       "      <td>1</td>\n",
       "      <td>9.37</td>\n",
       "      <td>200630</td>\n",
       "    </tr>\n",
       "  </tbody>\n",
       "</table>\n",
       "</div>"
      ],
      "text/plain": [
       "   anime_id            name         genre   type  episodes  rating  members\n",
       "0     32281  Kimi no Na wa.  Supernatural  Movie         1    9.37   200630\n",
       "0     32281  Kimi no Na wa.         Drama  Movie         1    9.37   200630\n",
       "0     32281  Kimi no Na wa.       Romance  Movie         1    9.37   200630\n",
       "0     32281  Kimi no Na wa.        School  Movie         1    9.37   200630"
      ]
     },
     "execution_count": 70,
     "metadata": {},
     "output_type": "execute_result"
    }
   ],
   "source": [
    "df2.loc[df2['name'] == 'Kimi no Na wa.']"
   ]
  },
  {
   "cell_type": "code",
   "execution_count": 71,
   "metadata": {},
   "outputs": [
    {
     "data": {
      "text/html": [
       "<div>\n",
       "<style scoped>\n",
       "    .dataframe tbody tr th:only-of-type {\n",
       "        vertical-align: middle;\n",
       "    }\n",
       "\n",
       "    .dataframe tbody tr th {\n",
       "        vertical-align: top;\n",
       "    }\n",
       "\n",
       "    .dataframe thead tr th {\n",
       "        text-align: left;\n",
       "    }\n",
       "\n",
       "    .dataframe thead tr:last-of-type th {\n",
       "        text-align: right;\n",
       "    }\n",
       "</style>\n",
       "<table border=\"1\" class=\"dataframe\">\n",
       "  <thead>\n",
       "    <tr>\n",
       "      <th></th>\n",
       "      <th colspan=\"6\" halign=\"left\">members</th>\n",
       "    </tr>\n",
       "    <tr>\n",
       "      <th>type</th>\n",
       "      <th>Movie</th>\n",
       "      <th>Music</th>\n",
       "      <th>ONA</th>\n",
       "      <th>OVA</th>\n",
       "      <th>Special</th>\n",
       "      <th>TV</th>\n",
       "    </tr>\n",
       "    <tr>\n",
       "      <th>genre</th>\n",
       "      <th></th>\n",
       "      <th></th>\n",
       "      <th></th>\n",
       "      <th></th>\n",
       "      <th></th>\n",
       "      <th></th>\n",
       "    </tr>\n",
       "  </thead>\n",
       "  <tbody>\n",
       "    <tr>\n",
       "      <td>Action</td>\n",
       "      <td>10224960.0</td>\n",
       "      <td>77054.0</td>\n",
       "      <td>524907.0</td>\n",
       "      <td>5793680.0</td>\n",
       "      <td>3412689.0</td>\n",
       "      <td>63364032.0</td>\n",
       "    </tr>\n",
       "    <tr>\n",
       "      <td>Adventure</td>\n",
       "      <td>9485223.0</td>\n",
       "      <td>42829.0</td>\n",
       "      <td>70431.0</td>\n",
       "      <td>2373765.0</td>\n",
       "      <td>2052024.0</td>\n",
       "      <td>27529975.0</td>\n",
       "    </tr>\n",
       "    <tr>\n",
       "      <td>Comedy</td>\n",
       "      <td>7293127.0</td>\n",
       "      <td>20860.0</td>\n",
       "      <td>1477266.0</td>\n",
       "      <td>5614758.0</td>\n",
       "      <td>6659293.0</td>\n",
       "      <td>65420862.0</td>\n",
       "    </tr>\n",
       "    <tr>\n",
       "      <td>Drama</td>\n",
       "      <td>9034099.0</td>\n",
       "      <td>100734.0</td>\n",
       "      <td>188427.0</td>\n",
       "      <td>3043374.0</td>\n",
       "      <td>1915578.0</td>\n",
       "      <td>41011557.0</td>\n",
       "    </tr>\n",
       "    <tr>\n",
       "      <td>Fantasy</td>\n",
       "      <td>8019406.0</td>\n",
       "      <td>43962.0</td>\n",
       "      <td>188937.0</td>\n",
       "      <td>2754224.0</td>\n",
       "      <td>2504131.0</td>\n",
       "      <td>34932563.0</td>\n",
       "    </tr>\n",
       "  </tbody>\n",
       "</table>\n",
       "</div>"
      ],
      "text/plain": [
       "              members                                                       \n",
       "type            Movie     Music        ONA        OVA    Special          TV\n",
       "genre                                                                       \n",
       "Action     10224960.0   77054.0   524907.0  5793680.0  3412689.0  63364032.0\n",
       "Adventure   9485223.0   42829.0    70431.0  2373765.0  2052024.0  27529975.0\n",
       "Comedy      7293127.0   20860.0  1477266.0  5614758.0  6659293.0  65420862.0\n",
       "Drama       9034099.0  100734.0   188427.0  3043374.0  1915578.0  41011557.0\n",
       "Fantasy     8019406.0   43962.0   188937.0  2754224.0  2504131.0  34932563.0"
      ]
     },
     "execution_count": 71,
     "metadata": {},
     "output_type": "execute_result"
    }
   ],
   "source": [
    "df2.pivot_table(index='genre', columns='type',\n",
    "               values=['members'], aggfunc=np.sum).head()"
   ]
  },
  {
   "cell_type": "code",
   "execution_count": 72,
   "metadata": {},
   "outputs": [],
   "source": [
    "import os\n",
    "import pandas as pd\n",
    "\n",
    "base_url = 'https://raw.githubusercontent.com/practical-jupyter/sample-data/master/anime/'\n",
    "anime_stocl_price_csv = os.path.join(base_url, 'anime_stock_price.csv')"
   ]
  },
  {
   "cell_type": "code",
   "execution_count": 73,
   "metadata": {},
   "outputs": [],
   "source": [
    "df = pd.read_csv(anime_stocl_price_csv, index_col=0, parse_dates=['Date'])"
   ]
  },
  {
   "cell_type": "code",
   "execution_count": 74,
   "metadata": {},
   "outputs": [
    {
     "data": {
      "text/html": [
       "<div>\n",
       "<style scoped>\n",
       "    .dataframe tbody tr th:only-of-type {\n",
       "        vertical-align: middle;\n",
       "    }\n",
       "\n",
       "    .dataframe tbody tr th {\n",
       "        vertical-align: top;\n",
       "    }\n",
       "\n",
       "    .dataframe thead th {\n",
       "        text-align: right;\n",
       "    }\n",
       "</style>\n",
       "<table border=\"1\" class=\"dataframe\">\n",
       "  <thead>\n",
       "    <tr style=\"text-align: right;\">\n",
       "      <th></th>\n",
       "      <th>TOEI ANIMATION</th>\n",
       "      <th>IG Port</th>\n",
       "    </tr>\n",
       "    <tr>\n",
       "      <th>Date</th>\n",
       "      <th></th>\n",
       "      <th></th>\n",
       "    </tr>\n",
       "  </thead>\n",
       "  <tbody>\n",
       "    <tr>\n",
       "      <td>2015-01-01</td>\n",
       "      <td>3356.86</td>\n",
       "      <td>1201.51</td>\n",
       "    </tr>\n",
       "    <tr>\n",
       "      <td>2015-01-02</td>\n",
       "      <td>3356.86</td>\n",
       "      <td>1201.51</td>\n",
       "    </tr>\n",
       "    <tr>\n",
       "      <td>2015-01-05</td>\n",
       "      <td>3396.12</td>\n",
       "      <td>1218.44</td>\n",
       "    </tr>\n",
       "    <tr>\n",
       "      <td>2015-01-06</td>\n",
       "      <td>3361.77</td>\n",
       "      <td>1201.51</td>\n",
       "    </tr>\n",
       "    <tr>\n",
       "      <td>2015-01-07</td>\n",
       "      <td>3297.97</td>\n",
       "      <td>1202.51</td>\n",
       "    </tr>\n",
       "  </tbody>\n",
       "</table>\n",
       "</div>"
      ],
      "text/plain": [
       "            TOEI ANIMATION  IG Port\n",
       "Date                               \n",
       "2015-01-01         3356.86  1201.51\n",
       "2015-01-02         3356.86  1201.51\n",
       "2015-01-05         3396.12  1218.44\n",
       "2015-01-06         3361.77  1201.51\n",
       "2015-01-07         3297.97  1202.51"
      ]
     },
     "execution_count": 74,
     "metadata": {},
     "output_type": "execute_result"
    }
   ],
   "source": [
    "df.head()"
   ]
  },
  {
   "cell_type": "code",
   "execution_count": 75,
   "metadata": {},
   "outputs": [],
   "source": [
    "pd.options.display.max_rows = 10"
   ]
  },
  {
   "cell_type": "code",
   "execution_count": 76,
   "metadata": {},
   "outputs": [],
   "source": [
    "pct_change = df['TOEI ANIMATION'].pct_change()"
   ]
  },
  {
   "cell_type": "code",
   "execution_count": 77,
   "metadata": {},
   "outputs": [
    {
     "data": {
      "text/plain": [
       "Date\n",
       "2015-01-01         NaN\n",
       "2015-01-02    0.000000\n",
       "2015-01-05    0.011695\n",
       "2015-01-06   -0.010114\n",
       "2015-01-07   -0.018978\n",
       "                ...   \n",
       "2016-12-26    0.001725\n",
       "2016-12-27    0.010326\n",
       "2016-12-28    0.015333\n",
       "2016-12-29    0.013422\n",
       "2016-12-30    0.000000\n",
       "Name: TOEI ANIMATION, Length: 522, dtype: float64"
      ]
     },
     "execution_count": 77,
     "metadata": {},
     "output_type": "execute_result"
    }
   ],
   "source": [
    "pct_change"
   ]
  },
  {
   "cell_type": "code",
   "execution_count": 78,
   "metadata": {},
   "outputs": [],
   "source": [
    "cumulative_returns = (pct_change + 1).cumprod()"
   ]
  },
  {
   "cell_type": "code",
   "execution_count": 79,
   "metadata": {},
   "outputs": [],
   "source": [
    "cumulative_returns[0] = 1"
   ]
  },
  {
   "cell_type": "code",
   "execution_count": 81,
   "metadata": {},
   "outputs": [
    {
     "data": {
      "text/plain": [
       "Date\n",
       "2015-01-01    1.000000\n",
       "2015-01-02    1.000000\n",
       "2015-01-05    1.011695\n",
       "2015-01-06    1.001463\n",
       "2015-01-07    0.982457\n",
       "                ...   \n",
       "2016-12-26    1.722833\n",
       "2016-12-27    1.740624\n",
       "2016-12-28    1.767312\n",
       "2016-12-29    1.791034\n",
       "2016-12-30    1.791034\n",
       "Name: TOEI ANIMATION, Length: 522, dtype: float64"
      ]
     },
     "execution_count": 81,
     "metadata": {},
     "output_type": "execute_result"
    }
   ],
   "source": [
    "cumulative_returns"
   ]
  },
  {
   "cell_type": "code",
   "execution_count": 83,
   "metadata": {},
   "outputs": [
    {
     "data": {
      "text/plain": [
       "Date\n",
       "2015-01-01         NaN\n",
       "2015-01-02         NaN\n",
       "2015-01-05         NaN\n",
       "2015-01-06         NaN\n",
       "2015-01-07    3353.916\n",
       "                ...   \n",
       "2016-12-26    5793.260\n",
       "2016-12-27    5799.232\n",
       "2016-12-28    5821.132\n",
       "2016-12-29    5868.912\n",
       "2016-12-30    5916.692\n",
       "Name: TOEI ANIMATION, Length: 522, dtype: float64"
      ]
     },
     "execution_count": 83,
     "metadata": {},
     "output_type": "execute_result"
    }
   ],
   "source": [
    "df['TOEI ANIMATION'].rolling(5).mean()"
   ]
  },
  {
   "cell_type": "code",
   "execution_count": 84,
   "metadata": {},
   "outputs": [],
   "source": [
    "import numpy as np\n",
    "\n",
    "def historical_volantility(x):\n",
    "    logreturns = np.diff(np.log(x))\n",
    "    return np.sqrt(365 * logreturns.var())"
   ]
  },
  {
   "cell_type": "code",
   "execution_count": 86,
   "metadata": {},
   "outputs": [
    {
     "name": "stderr",
     "output_type": "stream",
     "text": [
      "C:\\Users\\yk13525\\AppData\\Local\\Continuum\\anaconda3\\lib\\site-packages\\ipykernel_launcher.py:1: FutureWarning: Currently, 'apply' passes the values as ndarrays to the applied function. In the future, this will change to passing it as Series objects. You need to specify 'raw=True' to keep the current behaviour, and you can pass 'raw=False' to silence this warning\n",
      "  \"\"\"Entry point for launching an IPython kernel.\n"
     ]
    },
    {
     "data": {
      "text/plain": [
       "Date\n",
       "2015-01-01         NaN\n",
       "2015-01-02         NaN\n",
       "2015-01-05         NaN\n",
       "2015-01-06         NaN\n",
       "2015-01-07         NaN\n",
       "                ...   \n",
       "2016-12-26    0.158355\n",
       "2016-12-27    0.163235\n",
       "2016-12-28    0.170891\n",
       "2016-12-29    0.172681\n",
       "2016-12-30    0.151983\n",
       "Name: TOEI ANIMATION, Length: 522, dtype: float64"
      ]
     },
     "execution_count": 86,
     "metadata": {},
     "output_type": "execute_result"
    }
   ],
   "source": [
    "df['TOEI ANIMATION'].rolling(20).apply(historical_volantility)"
   ]
  },
  {
   "cell_type": "code",
   "execution_count": 87,
   "metadata": {},
   "outputs": [],
   "source": [
    "ix = pd.date_range('2017-01', '2017-02', freq='1H')"
   ]
  },
  {
   "cell_type": "code",
   "execution_count": 88,
   "metadata": {},
   "outputs": [
    {
     "data": {
      "text/plain": [
       "DatetimeIndex(['2017-01-01 00:00:00', '2017-01-01 01:00:00',\n",
       "               '2017-01-01 02:00:00', '2017-01-01 03:00:00',\n",
       "               '2017-01-01 04:00:00', '2017-01-01 05:00:00',\n",
       "               '2017-01-01 06:00:00', '2017-01-01 07:00:00',\n",
       "               '2017-01-01 08:00:00', '2017-01-01 09:00:00',\n",
       "               ...\n",
       "               '2017-01-31 15:00:00', '2017-01-31 16:00:00',\n",
       "               '2017-01-31 17:00:00', '2017-01-31 18:00:00',\n",
       "               '2017-01-31 19:00:00', '2017-01-31 20:00:00',\n",
       "               '2017-01-31 21:00:00', '2017-01-31 22:00:00',\n",
       "               '2017-01-31 23:00:00', '2017-02-01 00:00:00'],\n",
       "              dtype='datetime64[ns]', length=745, freq='H')"
      ]
     },
     "execution_count": 88,
     "metadata": {},
     "output_type": "execute_result"
    }
   ],
   "source": [
    "ix"
   ]
  },
  {
   "cell_type": "code",
   "execution_count": 89,
   "metadata": {},
   "outputs": [],
   "source": [
    "time_series = pd.Series(np.arange(len(ix)), index=ix)"
   ]
  },
  {
   "cell_type": "code",
   "execution_count": 90,
   "metadata": {},
   "outputs": [
    {
     "data": {
      "text/plain": [
       "2017-01-01 00:00:00      0\n",
       "2017-01-01 01:00:00      1\n",
       "2017-01-01 02:00:00      2\n",
       "2017-01-01 03:00:00      3\n",
       "2017-01-01 04:00:00      4\n",
       "                      ... \n",
       "2017-01-31 20:00:00    740\n",
       "2017-01-31 21:00:00    741\n",
       "2017-01-31 22:00:00    742\n",
       "2017-01-31 23:00:00    743\n",
       "2017-02-01 00:00:00    744\n",
       "Freq: H, Length: 745, dtype: int32"
      ]
     },
     "execution_count": 90,
     "metadata": {},
     "output_type": "execute_result"
    }
   ],
   "source": [
    "time_series"
   ]
  },
  {
   "cell_type": "code",
   "execution_count": 91,
   "metadata": {},
   "outputs": [
    {
     "data": {
      "text/plain": [
       "TOEI ANIMATION    5699.74\n",
       "IG Port            822.66\n",
       "Name: 2016-01-04 00:00:00, dtype: float64"
      ]
     },
     "execution_count": 91,
     "metadata": {},
     "output_type": "execute_result"
    }
   ],
   "source": [
    "from datetime import datetime\n",
    "\n",
    "df.loc[datetime(2016, 1, 4)]"
   ]
  },
  {
   "cell_type": "code",
   "execution_count": 92,
   "metadata": {},
   "outputs": [
    {
     "data": {
      "text/plain": [
       "TOEI ANIMATION    5254.45\n",
       "IG Port            787.76\n",
       "Name: 2016-01-14 00:00:00, dtype: float64"
      ]
     },
     "execution_count": 92,
     "metadata": {},
     "output_type": "execute_result"
    }
   ],
   "source": [
    "df.loc['2016-01-14']"
   ]
  },
  {
   "cell_type": "code",
   "execution_count": 93,
   "metadata": {},
   "outputs": [
    {
     "data": {
      "text/plain": [
       "TOEI ANIMATION    5699.74\n",
       "IG Port            822.66\n",
       "Name: 2016-01-04 00:00:00, dtype: float64"
      ]
     },
     "execution_count": 93,
     "metadata": {},
     "output_type": "execute_result"
    }
   ],
   "source": [
    "df.loc['Jan-04-2016']"
   ]
  },
  {
   "cell_type": "code",
   "execution_count": 95,
   "metadata": {},
   "outputs": [
    {
     "name": "stdout",
     "output_type": "stream",
     "text": [
      "            TOEI ANIMATION  IG Port\n",
      "Date                               \n",
      "2015-01-01         3356.86  1201.51\n",
      "2015-01-02         3356.86  1201.51\n",
      "2015-01-05         3396.12  1218.44\n",
      "2015-01-06         3361.77  1201.51\n",
      "2015-01-07         3297.97  1202.51\n"
     ]
    }
   ],
   "source": [
    "print(df.loc['2015'].head())"
   ]
  },
  {
   "cell_type": "code",
   "execution_count": 96,
   "metadata": {},
   "outputs": [
    {
     "name": "stdout",
     "output_type": "stream",
     "text": [
      "            TOEI ANIMATION  IG Port\n",
      "Date                               \n",
      "2016-01-01         5867.97   817.67\n",
      "2016-01-04         5699.74   822.66\n",
      "2016-01-05         5551.31   831.63\n",
      "2016-01-06         5620.58   824.65\n",
      "2016-01-07         5353.41   818.67\n",
      "...                    ...      ...\n",
      "2016-12-26         5783.31  1337.59\n",
      "2016-12-27         5843.03  1424.50\n",
      "2016-12-28         5932.62  1549.37\n",
      "2016-12-29         6012.25  1718.19\n",
      "2016-12-30         6012.25  1728.18\n",
      "\n",
      "[261 rows x 2 columns]\n"
     ]
    }
   ],
   "source": [
    "print(df.loc['2016'])"
   ]
  },
  {
   "cell_type": "code",
   "execution_count": 98,
   "metadata": {},
   "outputs": [
    {
     "name": "stdout",
     "output_type": "stream",
     "text": [
      "            TOEI ANIMATION  IG Port\n",
      "Date                               \n",
      "2016-05-02         4703.29   933.34\n",
      "2016-05-03         4703.29   933.34\n",
      "2016-05-04         4703.29   933.34\n",
      "2016-05-05         4703.29   933.34\n",
      "2016-05-06         4678.41   953.28\n",
      "...                    ...      ...\n",
      "2016-05-25         4867.53  1092.89\n",
      "2016-05-26         4972.05  1113.83\n",
      "2016-05-27         4977.03  1068.87\n",
      "2016-05-30         5036.75  1239.70\n",
      "2016-05-31         5026.80  1263.67\n",
      "\n",
      "[22 rows x 2 columns]\n"
     ]
    }
   ],
   "source": [
    "print(df.loc['2016-05'])"
   ]
  },
  {
   "cell_type": "code",
   "execution_count": 99,
   "metadata": {},
   "outputs": [
    {
     "name": "stdout",
     "output_type": "stream",
     "text": [
      "            TOEI ANIMATION  IG Port\n",
      "Date                               \n",
      "2015-12-01         5947.13   910.41\n",
      "2015-12-02         5917.44   896.45\n",
      "2015-12-03         5917.44   893.46\n",
      "2015-12-04         5867.97   888.47\n",
      "2015-12-07         5917.44   892.46\n",
      "...                    ...      ...\n",
      "2016-01-25         5452.36   704.99\n",
      "2016-01-26         5491.94   702.00\n",
      "2016-01-27         5521.63   721.94\n",
      "2016-01-28         5679.95   733.91\n",
      "2016-01-29         5670.06   739.89\n",
      "\n",
      "[44 rows x 2 columns]\n"
     ]
    }
   ],
   "source": [
    "print(df.loc['2015-12':'2016-01'])"
   ]
  },
  {
   "cell_type": "code",
   "execution_count": 102,
   "metadata": {},
   "outputs": [
    {
     "data": {
      "text/plain": [
       "2017-01-01 09:00:00      9\n",
       "2017-01-02 09:00:00     33\n",
       "2017-01-03 09:00:00     57\n",
       "2017-01-04 09:00:00     81\n",
       "2017-01-05 09:00:00    105\n",
       "                      ... \n",
       "2017-01-27 09:00:00    633\n",
       "2017-01-28 09:00:00    657\n",
       "2017-01-29 09:00:00    681\n",
       "2017-01-30 09:00:00    705\n",
       "2017-01-31 09:00:00    729\n",
       "Freq: 24H, Length: 31, dtype: int32"
      ]
     },
     "execution_count": 102,
     "metadata": {},
     "output_type": "execute_result"
    }
   ],
   "source": [
    "from datetime import time\n",
    "\n",
    "time_series.loc[time(9, 0)]"
   ]
  },
  {
   "cell_type": "code",
   "execution_count": 107,
   "metadata": {},
   "outputs": [
    {
     "data": {
      "text/plain": [
       "2017-01-01 08:00:00      8\n",
       "2017-01-01 09:00:00      9\n",
       "2017-01-01 10:00:00     10\n",
       "2017-01-01 11:00:00     11\n",
       "2017-01-01 12:00:00     12\n",
       "                      ... \n",
       "2017-01-31 08:00:00    728\n",
       "2017-01-31 09:00:00    729\n",
       "2017-01-31 10:00:00    730\n",
       "2017-01-31 11:00:00    731\n",
       "2017-01-31 12:00:00    732\n",
       "Length: 155, dtype: int32"
      ]
     },
     "execution_count": 107,
     "metadata": {},
     "output_type": "execute_result"
    }
   ],
   "source": [
    "time_series.between_time(time(8, 0), time(12, 0))"
   ]
  },
  {
   "cell_type": "code",
   "execution_count": 108,
   "metadata": {},
   "outputs": [
    {
     "data": {
      "text/plain": [
       "Date\n",
       "2015-01-31    3647.080000\n",
       "2015-02-28    3612.302500\n",
       "2015-03-31    3625.770455\n",
       "2015-04-30    3477.555455\n",
       "2015-05-31    3653.990476\n",
       "Freq: M, Name: TOEI ANIMATION, dtype: float64"
      ]
     },
     "execution_count": 108,
     "metadata": {},
     "output_type": "execute_result"
    }
   ],
   "source": [
    "df['TOEI ANIMATION'].resample('M').mean().head()"
   ]
  },
  {
   "cell_type": "code",
   "execution_count": 109,
   "metadata": {},
   "outputs": [
    {
     "data": {
      "text/html": [
       "<div>\n",
       "<style scoped>\n",
       "    .dataframe tbody tr th:only-of-type {\n",
       "        vertical-align: middle;\n",
       "    }\n",
       "\n",
       "    .dataframe tbody tr th {\n",
       "        vertical-align: top;\n",
       "    }\n",
       "\n",
       "    .dataframe thead th {\n",
       "        text-align: right;\n",
       "    }\n",
       "</style>\n",
       "<table border=\"1\" class=\"dataframe\">\n",
       "  <thead>\n",
       "    <tr style=\"text-align: right;\">\n",
       "      <th></th>\n",
       "      <th>open</th>\n",
       "      <th>high</th>\n",
       "      <th>low</th>\n",
       "      <th>close</th>\n",
       "    </tr>\n",
       "    <tr>\n",
       "      <th>Date</th>\n",
       "      <th></th>\n",
       "      <th></th>\n",
       "      <th></th>\n",
       "      <th></th>\n",
       "    </tr>\n",
       "  </thead>\n",
       "  <tbody>\n",
       "    <tr>\n",
       "      <td>2015-01-04</td>\n",
       "      <td>3356.86</td>\n",
       "      <td>3356.86</td>\n",
       "      <td>3356.86</td>\n",
       "      <td>3356.86</td>\n",
       "    </tr>\n",
       "    <tr>\n",
       "      <td>2015-01-11</td>\n",
       "      <td>3396.12</td>\n",
       "      <td>3513.90</td>\n",
       "      <td>3297.97</td>\n",
       "      <td>3513.90</td>\n",
       "    </tr>\n",
       "    <tr>\n",
       "      <td>2015-01-18</td>\n",
       "      <td>3513.90</td>\n",
       "      <td>3872.16</td>\n",
       "      <td>3435.38</td>\n",
       "      <td>3872.16</td>\n",
       "    </tr>\n",
       "    <tr>\n",
       "      <td>2015-01-25</td>\n",
       "      <td>3877.07</td>\n",
       "      <td>3877.07</td>\n",
       "      <td>3739.66</td>\n",
       "      <td>3739.66</td>\n",
       "    </tr>\n",
       "    <tr>\n",
       "      <td>2015-02-01</td>\n",
       "      <td>3774.01</td>\n",
       "      <td>3965.41</td>\n",
       "      <td>3774.01</td>\n",
       "      <td>3965.41</td>\n",
       "    </tr>\n",
       "  </tbody>\n",
       "</table>\n",
       "</div>"
      ],
      "text/plain": [
       "               open     high      low    close\n",
       "Date                                          \n",
       "2015-01-04  3356.86  3356.86  3356.86  3356.86\n",
       "2015-01-11  3396.12  3513.90  3297.97  3513.90\n",
       "2015-01-18  3513.90  3872.16  3435.38  3872.16\n",
       "2015-01-25  3877.07  3877.07  3739.66  3739.66\n",
       "2015-02-01  3774.01  3965.41  3774.01  3965.41"
      ]
     },
     "execution_count": 109,
     "metadata": {},
     "output_type": "execute_result"
    }
   ],
   "source": [
    "df['TOEI ANIMATION'].resample('W').ohlc().head()"
   ]
  },
  {
   "cell_type": "code",
   "execution_count": 114,
   "metadata": {},
   "outputs": [
    {
     "data": {
      "image/png": "[encoded data removed]",
      "text/plain": [
       "<Figure size 432x288 with 1 Axes>"
      ]
     },
     "metadata": {
      "needs_background": "light"
     },
     "output_type": "display_data"
    }
   ],
   "source": [
    "import pandas as pd\n",
    "import matplotlib.pyplot as plt\n",
    "\n",
    "ax = pd.Series([1, 2, 3, 80]).plot()\n",
    "ax.set_title('Line Chart')\n",
    "plt.show()"
   ]
  },
  {
   "cell_type": "code",
   "execution_count": 116,
   "metadata": {},
   "outputs": [
    {
     "data": {
      "image/png": "[encoded data removed]",
      "text/plain": [
       "<Figure size 432x288 with 1 Axes>"
      ]
     },
     "metadata": {
      "needs_background": "light"
     },
     "output_type": "display_data"
    }
   ],
   "source": [
    "ser = pd.Series([1, 2, 3,4])\n",
    "ax = ser.plot()\n",
    "ax.set_title('Line Charttttt')\n",
    "plt.show()"
   ]
  },
  {
   "cell_type": "code",
   "execution_count": 117,
   "metadata": {},
   "outputs": [],
   "source": [
    "df = pd.DataFrame({'a': [1, 2, 3], 'b': [3, 2, 4]})"
   ]
  },
  {
   "cell_type": "code",
   "execution_count": 118,
   "metadata": {},
   "outputs": [
    {
     "data": {
      "image/png": "[encoded data removed]",
      "text/plain": [
       "<Figure size 432x288 with 1 Axes>"
      ]
     },
     "metadata": {
      "needs_background": "light"
     },
     "output_type": "display_data"
    }
   ],
   "source": [
    "ax = df.plot()"
   ]
  },
  {
   "cell_type": "code",
   "execution_count": 122,
   "metadata": {},
   "outputs": [
    {
     "data": {
      "image/png": "[encoded data removed]",
      "text/plain": [
       "<Figure size 432x288 with 1 Axes>"
      ]
     },
     "metadata": {
      "needs_background": "light"
     },
     "output_type": "display_data"
    }
   ],
   "source": [
    "ax = df.plot()\n",
    "ax.set_title('ZU')\n",
    "plt.show()"
   ]
  },
  {
   "cell_type": "code",
   "execution_count": 123,
   "metadata": {},
   "outputs": [
    {
     "name": "stderr",
     "output_type": "stream",
     "text": [
      "C:\\Users\\yk13525\\AppData\\Local\\Continuum\\anaconda3\\lib\\site-packages\\matplotlib\\backends\\backend_agg.py:211: RuntimeWarning: Glyph 12354 missing from current font.\n",
      "  font.set_text(s, 0.0, flags=flags)\n",
      "C:\\Users\\yk13525\\AppData\\Local\\Continuum\\anaconda3\\lib\\site-packages\\matplotlib\\backends\\backend_agg.py:180: RuntimeWarning: Glyph 12354 missing from current font.\n",
      "  font.set_text(s, 0, flags=flags)\n"
     ]
    },
    {
     "data": {
      "image/png": "[encoded data removed]",
      "text/plain": [
       "<Figure size 432x288 with 1 Axes>"
      ]
     },
     "metadata": {
      "needs_background": "light"
     },
     "output_type": "display_data"
    }
   ],
   "source": [
    "ax = df.plot()\n",
    "ax.set_title('あああ')\n",
    "plt.show()"
   ]
  },
  {
   "cell_type": "code",
   "execution_count": 126,
   "metadata": {},
   "outputs": [
    {
     "data": {
      "image/png": "[encoded data removed]",
      "text/plain": [
       "<Figure size 432x288 with 1 Axes>"
      ]
     },
     "metadata": {
      "needs_background": "light"
     },
     "output_type": "display_data"
    }
   ],
   "source": [
    "import os\n",
    "\n",
    "base_url = 'https://raw.githubusercontent.com/practical-jupyter/sample-data/master/anime/'\n",
    "anime_stock_returns_csv = os.path.join(base_url, 'anime_stock_returns.csv')\n",
    "anime_stock_returns_df = pd.read_csv(anime_stock_returns_csv, index_col=0)\n",
    "ax = anime_stock_returns_df.plot()\n",
    "ax.set_title('stock returns!')\n",
    "plt.show()"
   ]
  },
  {
   "cell_type": "code",
   "execution_count": 127,
   "metadata": {},
   "outputs": [
    {
     "data": {
      "image/png": "[encoded data removed]",
      "text/plain": [
       "<Figure size 432x288 with 1 Axes>"
      ]
     },
     "metadata": {
      "needs_background": "light"
     },
     "output_type": "display_data"
    }
   ],
   "source": [
    "ax = anime_stock_returns_df.plot()"
   ]
  },
  {
   "cell_type": "code",
   "execution_count": 128,
   "metadata": {},
   "outputs": [],
   "source": [
    "ax.set_title('stock returns!')\n",
    "plt.show()"
   ]
  },
  {
   "cell_type": "code",
   "execution_count": 129,
   "metadata": {},
   "outputs": [],
   "source": [
    "anime_stock_price_csv = os.path.join(base_url, 'anime_stock_price.csv')\n",
    "anime_stock_price_df = pd.read_csv(anime_stock_price_csv, index_col=0)"
   ]
  },
  {
   "cell_type": "code",
   "execution_count": 131,
   "metadata": {},
   "outputs": [
    {
     "data": {
      "image/png": "[encoded data removed]",
      "text/plain": [
       "<Figure size 432x288 with 2 Axes>"
      ]
     },
     "metadata": {
      "needs_background": "light"
     },
     "output_type": "display_data"
    }
   ],
   "source": [
    "ax = anime_stock_price_df.plot(secondary_y=['IG Port'])\n",
    "ax.set_title('kabuka')\n",
    "ax.set_ylabel('TOEI ANIMATION')\n",
    "ax.right_ax.set_ylabel('IG Port')\n",
    "plt.show()"
   ]
  },
  {
   "cell_type": "code",
   "execution_count": 132,
   "metadata": {},
   "outputs": [
    {
     "data": {
      "image/png": "[encoded data removed]",
      "text/plain": [
       "<Figure size 432x288 with 2 Axes>"
      ]
     },
     "metadata": {
      "needs_background": "light"
     },
     "output_type": "display_data"
    }
   ],
   "source": [
    "ax1, ax2 = anime_stock_price_df.plot(subplots=True)\n",
    "ax1.set_title('subplot1')\n",
    "ax2.set_title('subplot2')\n",
    "plt.show()"
   ]
  },
  {
   "cell_type": "code",
   "execution_count": 133,
   "metadata": {},
   "outputs": [
    {
     "data": {
      "image/png": "[encoded data removed]",
      "text/plain": [
       "<Figure size 432x288 with 1 Axes>"
      ]
     },
     "metadata": {
      "needs_background": "light"
     },
     "output_type": "display_data"
    }
   ],
   "source": [
    "anime_master_csv = os.path.join(base_url, 'anime_master.csv')\n",
    "anime_master_df = pd.read_csv(anime_master_csv)\n",
    "ax = anime_master_df.plot.scatter(x='members', y='rating')\n",
    "ax.set_title('Sanpuzu')\n",
    "plt.show()"
   ]
  },
  {
   "cell_type": "code",
   "execution_count": 135,
   "metadata": {},
   "outputs": [
    {
     "data": {
      "image/png": "[encoded data removed]",
      "text/plain": [
       "<Figure size 432x288 with 1 Axes>"
      ]
     },
     "metadata": {
      "needs_background": "light"
     },
     "output_type": "display_data"
    }
   ],
   "source": [
    "anime_genre_top10_pivoted_csv = os.path.join(\n",
    "    base_url, 'anime_genre_top10_pivoted.csv')\n",
    "anime_genre_top10_pivoted_df = pd.read_csv(anime_genre_top10_pivoted_csv, index_col=0)\n",
    "ax = anime_genre_top10_pivoted_df.plot.bar()\n",
    "plt.show()"
   ]
  },
  {
   "cell_type": "code",
   "execution_count": 136,
   "metadata": {},
   "outputs": [
    {
     "data": {
      "image/png": "[encoded data removed]",
      "text/plain": [
       "<Figure size 432x288 with 1 Axes>"
      ]
     },
     "metadata": {
      "needs_background": "light"
     },
     "output_type": "display_data"
    }
   ],
   "source": [
    "ax = anime_genre_top10_pivoted_df.plot.bar(logy=True)\n",
    "ax.legend(bbox_to_anchor=(1, 1))\n",
    "plt.show()"
   ]
  },
  {
   "cell_type": "code",
   "execution_count": 137,
   "metadata": {},
   "outputs": [
    {
     "data": {
      "image/png": "[encoded data removed]",
      "text/plain": [
       "<Figure size 432x288 with 1 Axes>"
      ]
     },
     "metadata": {
      "needs_background": "light"
     },
     "output_type": "display_data"
    }
   ],
   "source": [
    "ax = anime_genre_top10_pivoted_df.plot.bar(stacked=True)"
   ]
  },
  {
   "cell_type": "code",
   "execution_count": 140,
   "metadata": {},
   "outputs": [
    {
     "data": {
      "image/png": "[encoded data removed]",
      "text/plain": [
       "<Figure size 432x288 with 1 Axes>"
      ]
     },
     "metadata": {
      "needs_background": "light"
     },
     "output_type": "display_data"
    }
   ],
   "source": [
    "ax = anime_genre_top10_pivoted_df.plot.bar(stacked=True)\n",
    "ax.set_title('Tsumiage')\n",
    "plt.show()"
   ]
  },
  {
   "cell_type": "code",
   "execution_count": 141,
   "metadata": {},
   "outputs": [
    {
     "data": {
      "image/png": "[encoded data removed]",
      "text/plain": [
       "<Figure size 432x288 with 1 Axes>"
      ]
     },
     "metadata": {
      "needs_background": "light"
     },
     "output_type": "display_data"
    }
   ],
   "source": [
    "ax = anime_master_df['rating'].hist(bins=100)\n",
    "ax.set_title('Histogramudayo!')\n",
    "plt.show()"
   ]
  },
  {
   "cell_type": "code",
   "execution_count": 142,
   "metadata": {},
   "outputs": [
    {
     "data": {
      "text/plain": [
       "<function matplotlib.pyplot.show(*args, **kw)>"
      ]
     },
     "execution_count": 142,
     "metadata": {},
     "output_type": "execute_result"
    },
    {
     "data": {
      "image/png": "[encoded data removed]",
      "text/plain": [
       "<Figure size 432x288 with 1 Axes>"
      ]
     },
     "metadata": {
      "needs_background": "light"
     },
     "output_type": "display_data"
    }
   ],
   "source": [
    "ax = anime_genre_top10_pivoted_df.plot.box()\n",
    "ax.set_title('Hakohige')\n",
    "plt.show"
   ]
  },
  {
   "cell_type": "code",
   "execution_count": 145,
   "metadata": {},
   "outputs": [],
   "source": [
    "anime_genre_top10_csv = os.path.join(base_url, 'anime_genre_top10.csv')\n",
    "anime_genre_top10_df = pd.read_csv(anime_genre_top10_csv)"
   ]
  },
  {
   "cell_type": "code",
   "execution_count": 148,
   "metadata": {},
   "outputs": [
    {
     "data": {
      "image/png": "[encoded data removed]",
      "text/plain": [
       "<Figure size 360x360 with 1 Axes>"
      ]
     },
     "metadata": {},
     "output_type": "display_data"
    }
   ],
   "source": [
    "ax = anime_genre_top10_df.groupby('genre').sum()['members'].plot.pie(figsize=(5, 5))\n",
    "ax.set_title('En-graph')\n",
    "ax.set_ylabel('')\n",
    "plt.show()"
   ]
  },
  {
   "cell_type": "code",
   "execution_count": null,
   "metadata": {},
   "outputs": [],
   "source": []
  }
 ],
 "metadata": {
  "kernelspec": {
   "display_name": "Python 3",
   "language": "python",
   "name": "python3"
  },
  "language_info": {
   "codemirror_mode": {
    "name": "ipython",
    "version": 3
   },
   "file_extension": ".py",
   "mimetype": "text/x-python",
   "name": "python",
   "nbconvert_exporter": "python",
   "pygments_lexer": "ipython3",
   "version": "3.7.4"
  }
 },
 "nbformat": 4,
 "nbformat_minor": 2
}
