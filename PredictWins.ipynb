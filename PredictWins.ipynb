{
 "cells": [
  {
   "cell_type": "code",
   "execution_count": 1,
   "metadata": {},
   "outputs": [],
   "source": [
    "import pandas as pd\n",
    "import numpy as np"
   ]
  },
  {
   "cell_type": "markdown",
   "metadata": {},
   "source": [
    "データを読み込む"
   ]
  },
  {
   "cell_type": "code",
   "execution_count": 2,
   "metadata": {},
   "outputs": [],
   "source": [
    "df = pd.read_csv('./cbb19.csv')"
   ]
  },
  {
   "cell_type": "code",
   "execution_count": 3,
   "metadata": {},
   "outputs": [
    {
     "data": {
      "text/html": [
       "<div>\n",
       "<style scoped>\n",
       "    .dataframe tbody tr th:only-of-type {\n",
       "        vertical-align: middle;\n",
       "    }\n",
       "\n",
       "    .dataframe tbody tr th {\n",
       "        vertical-align: top;\n",
       "    }\n",
       "\n",
       "    .dataframe thead th {\n",
       "        text-align: right;\n",
       "    }\n",
       "</style>\n",
       "<table border=\"1\" class=\"dataframe\">\n",
       "  <thead>\n",
       "    <tr style=\"text-align: right;\">\n",
       "      <th></th>\n",
       "      <th>TEAM</th>\n",
       "      <th>CONF</th>\n",
       "      <th>G</th>\n",
       "      <th>W</th>\n",
       "      <th>ADJOE</th>\n",
       "      <th>ADJDE</th>\n",
       "      <th>BARTHAG</th>\n",
       "      <th>EFG_O</th>\n",
       "      <th>EFG_D</th>\n",
       "      <th>TOR</th>\n",
       "      <th>...</th>\n",
       "      <th>FTR</th>\n",
       "      <th>FTRD</th>\n",
       "      <th>2P_O</th>\n",
       "      <th>2P_D</th>\n",
       "      <th>3P_O</th>\n",
       "      <th>3P_D</th>\n",
       "      <th>ADJ_T</th>\n",
       "      <th>WAB</th>\n",
       "      <th>POSTSEASON</th>\n",
       "      <th>SEED</th>\n",
       "    </tr>\n",
       "  </thead>\n",
       "  <tbody>\n",
       "    <tr>\n",
       "      <td>0</td>\n",
       "      <td>Gonzaga</td>\n",
       "      <td>WCC</td>\n",
       "      <td>37</td>\n",
       "      <td>33</td>\n",
       "      <td>123.4</td>\n",
       "      <td>89.9</td>\n",
       "      <td>0.9744</td>\n",
       "      <td>59.0</td>\n",
       "      <td>44.2</td>\n",
       "      <td>14.9</td>\n",
       "      <td>...</td>\n",
       "      <td>35.3</td>\n",
       "      <td>25.9</td>\n",
       "      <td>61.4</td>\n",
       "      <td>43.4</td>\n",
       "      <td>36.3</td>\n",
       "      <td>30.4</td>\n",
       "      <td>72.0</td>\n",
       "      <td>7.0</td>\n",
       "      <td>E8</td>\n",
       "      <td>1.0</td>\n",
       "    </tr>\n",
       "    <tr>\n",
       "      <td>1</td>\n",
       "      <td>Virginia</td>\n",
       "      <td>ACC</td>\n",
       "      <td>38</td>\n",
       "      <td>35</td>\n",
       "      <td>123.0</td>\n",
       "      <td>89.9</td>\n",
       "      <td>0.9736</td>\n",
       "      <td>55.2</td>\n",
       "      <td>44.7</td>\n",
       "      <td>14.7</td>\n",
       "      <td>...</td>\n",
       "      <td>29.1</td>\n",
       "      <td>26.3</td>\n",
       "      <td>52.5</td>\n",
       "      <td>45.7</td>\n",
       "      <td>39.5</td>\n",
       "      <td>28.9</td>\n",
       "      <td>60.7</td>\n",
       "      <td>11.1</td>\n",
       "      <td>Champions</td>\n",
       "      <td>1.0</td>\n",
       "    </tr>\n",
       "    <tr>\n",
       "      <td>2</td>\n",
       "      <td>Duke</td>\n",
       "      <td>ACC</td>\n",
       "      <td>38</td>\n",
       "      <td>32</td>\n",
       "      <td>118.9</td>\n",
       "      <td>89.2</td>\n",
       "      <td>0.9646</td>\n",
       "      <td>53.6</td>\n",
       "      <td>45.0</td>\n",
       "      <td>17.5</td>\n",
       "      <td>...</td>\n",
       "      <td>33.2</td>\n",
       "      <td>24.0</td>\n",
       "      <td>58.0</td>\n",
       "      <td>45.0</td>\n",
       "      <td>30.8</td>\n",
       "      <td>29.9</td>\n",
       "      <td>73.6</td>\n",
       "      <td>11.2</td>\n",
       "      <td>E8</td>\n",
       "      <td>1.0</td>\n",
       "    </tr>\n",
       "    <tr>\n",
       "      <td>3</td>\n",
       "      <td>North Carolina</td>\n",
       "      <td>ACC</td>\n",
       "      <td>36</td>\n",
       "      <td>29</td>\n",
       "      <td>120.1</td>\n",
       "      <td>91.4</td>\n",
       "      <td>0.9582</td>\n",
       "      <td>52.9</td>\n",
       "      <td>48.9</td>\n",
       "      <td>17.2</td>\n",
       "      <td>...</td>\n",
       "      <td>30.2</td>\n",
       "      <td>28.4</td>\n",
       "      <td>52.1</td>\n",
       "      <td>47.9</td>\n",
       "      <td>36.2</td>\n",
       "      <td>33.5</td>\n",
       "      <td>76.0</td>\n",
       "      <td>10.0</td>\n",
       "      <td>S16</td>\n",
       "      <td>1.0</td>\n",
       "    </tr>\n",
       "    <tr>\n",
       "      <td>4</td>\n",
       "      <td>Michigan</td>\n",
       "      <td>B10</td>\n",
       "      <td>37</td>\n",
       "      <td>30</td>\n",
       "      <td>114.6</td>\n",
       "      <td>85.6</td>\n",
       "      <td>0.9665</td>\n",
       "      <td>51.6</td>\n",
       "      <td>44.1</td>\n",
       "      <td>13.9</td>\n",
       "      <td>...</td>\n",
       "      <td>27.5</td>\n",
       "      <td>24.1</td>\n",
       "      <td>51.8</td>\n",
       "      <td>44.3</td>\n",
       "      <td>34.2</td>\n",
       "      <td>29.1</td>\n",
       "      <td>65.9</td>\n",
       "      <td>9.2</td>\n",
       "      <td>S16</td>\n",
       "      <td>2.0</td>\n",
       "    </tr>\n",
       "  </tbody>\n",
       "</table>\n",
       "<p>5 rows × 23 columns</p>\n",
       "</div>"
      ],
      "text/plain": [
       "             TEAM CONF   G   W  ADJOE  ADJDE  BARTHAG  EFG_O  EFG_D   TOR  \\\n",
       "0         Gonzaga  WCC  37  33  123.4   89.9   0.9744   59.0   44.2  14.9   \n",
       "1        Virginia  ACC  38  35  123.0   89.9   0.9736   55.2   44.7  14.7   \n",
       "2            Duke  ACC  38  32  118.9   89.2   0.9646   53.6   45.0  17.5   \n",
       "3  North Carolina  ACC  36  29  120.1   91.4   0.9582   52.9   48.9  17.2   \n",
       "4        Michigan  B10  37  30  114.6   85.6   0.9665   51.6   44.1  13.9   \n",
       "\n",
       "   ...   FTR  FTRD  2P_O  2P_D  3P_O  3P_D  ADJ_T   WAB  POSTSEASON  SEED  \n",
       "0  ...  35.3  25.9  61.4  43.4  36.3  30.4   72.0   7.0          E8   1.0  \n",
       "1  ...  29.1  26.3  52.5  45.7  39.5  28.9   60.7  11.1   Champions   1.0  \n",
       "2  ...  33.2  24.0  58.0  45.0  30.8  29.9   73.6  11.2          E8   1.0  \n",
       "3  ...  30.2  28.4  52.1  47.9  36.2  33.5   76.0  10.0         S16   1.0  \n",
       "4  ...  27.5  24.1  51.8  44.3  34.2  29.1   65.9   9.2         S16   2.0  \n",
       "\n",
       "[5 rows x 23 columns]"
      ]
     },
     "execution_count": 3,
     "metadata": {},
     "output_type": "execute_result"
    }
   ],
   "source": [
    "df.head()"
   ]
  },
  {
   "cell_type": "markdown",
   "metadata": {},
   "source": [
    "データクレンジング"
   ]
  },
  {
   "cell_type": "code",
   "execution_count": 4,
   "metadata": {},
   "outputs": [
    {
     "name": "stdout",
     "output_type": "stream",
     "text": [
      "<class 'pandas.core.frame.DataFrame'>\n",
      "RangeIndex: 353 entries, 0 to 352\n",
      "Data columns (total 23 columns):\n",
      "TEAM          353 non-null object\n",
      "CONF          353 non-null object\n",
      "G             353 non-null int64\n",
      "W             353 non-null int64\n",
      "ADJOE         353 non-null float64\n",
      "ADJDE         353 non-null float64\n",
      "BARTHAG       353 non-null float64\n",
      "EFG_O         353 non-null float64\n",
      "EFG_D         353 non-null float64\n",
      "TOR           353 non-null float64\n",
      "TORD          353 non-null float64\n",
      "ORB           353 non-null float64\n",
      "DRB           353 non-null float64\n",
      "FTR           353 non-null float64\n",
      "FTRD          353 non-null float64\n",
      "2P_O          353 non-null float64\n",
      "2P_D          353 non-null float64\n",
      "3P_O          353 non-null float64\n",
      "3P_D          353 non-null float64\n",
      "ADJ_T         353 non-null float64\n",
      "WAB           353 non-null float64\n",
      "POSTSEASON    68 non-null object\n",
      "SEED          68 non-null float64\n",
      "dtypes: float64(18), int64(2), object(3)\n",
      "memory usage: 63.6+ KB\n"
     ]
    }
   ],
   "source": [
    "df.info()"
   ]
  },
  {
   "cell_type": "markdown",
   "metadata": {},
   "source": [
    "欠損値のある列(\"POSTSEASON\"、\"SEED\")を除去する"
   ]
  },
  {
   "cell_type": "code",
   "execution_count": 5,
   "metadata": {},
   "outputs": [],
   "source": [
    "df = df.drop([\"POSTSEASON\", \"SEED\"], axis=1)"
   ]
  },
  {
   "cell_type": "code",
   "execution_count": 7,
   "metadata": {},
   "outputs": [
    {
     "data": {
      "text/html": [
       "<div>\n",
       "<style scoped>\n",
       "    .dataframe tbody tr th:only-of-type {\n",
       "        vertical-align: middle;\n",
       "    }\n",
       "\n",
       "    .dataframe tbody tr th {\n",
       "        vertical-align: top;\n",
       "    }\n",
       "\n",
       "    .dataframe thead th {\n",
       "        text-align: right;\n",
       "    }\n",
       "</style>\n",
       "<table border=\"1\" class=\"dataframe\">\n",
       "  <thead>\n",
       "    <tr style=\"text-align: right;\">\n",
       "      <th></th>\n",
       "      <th>G</th>\n",
       "      <th>W</th>\n",
       "      <th>ADJOE</th>\n",
       "      <th>ADJDE</th>\n",
       "      <th>BARTHAG</th>\n",
       "      <th>EFG_O</th>\n",
       "      <th>EFG_D</th>\n",
       "      <th>TOR</th>\n",
       "      <th>TORD</th>\n",
       "      <th>ORB</th>\n",
       "      <th>DRB</th>\n",
       "      <th>FTR</th>\n",
       "      <th>FTRD</th>\n",
       "      <th>2P_O</th>\n",
       "      <th>2P_D</th>\n",
       "      <th>3P_O</th>\n",
       "      <th>3P_D</th>\n",
       "      <th>ADJ_T</th>\n",
       "      <th>WAB</th>\n",
       "    </tr>\n",
       "  </thead>\n",
       "  <tbody>\n",
       "    <tr>\n",
       "      <td>count</td>\n",
       "      <td>353.000000</td>\n",
       "      <td>353.000000</td>\n",
       "      <td>353.000000</td>\n",
       "      <td>353.000000</td>\n",
       "      <td>353.000000</td>\n",
       "      <td>353.000000</td>\n",
       "      <td>353.000000</td>\n",
       "      <td>353.000000</td>\n",
       "      <td>353.000000</td>\n",
       "      <td>353.000000</td>\n",
       "      <td>353.000000</td>\n",
       "      <td>353.000000</td>\n",
       "      <td>353.000000</td>\n",
       "      <td>353.000000</td>\n",
       "      <td>353.000000</td>\n",
       "      <td>353.000000</td>\n",
       "      <td>353.000000</td>\n",
       "      <td>353.000000</td>\n",
       "      <td>353.000000</td>\n",
       "    </tr>\n",
       "    <tr>\n",
       "      <td>mean</td>\n",
       "      <td>31.745042</td>\n",
       "      <td>17.113314</td>\n",
       "      <td>103.335977</td>\n",
       "      <td>103.336261</td>\n",
       "      <td>0.493214</td>\n",
       "      <td>50.600850</td>\n",
       "      <td>50.774504</td>\n",
       "      <td>18.606516</td>\n",
       "      <td>18.523513</td>\n",
       "      <td>28.245892</td>\n",
       "      <td>28.420397</td>\n",
       "      <td>32.954391</td>\n",
       "      <td>33.202550</td>\n",
       "      <td>50.060057</td>\n",
       "      <td>50.233994</td>\n",
       "      <td>34.287819</td>\n",
       "      <td>34.415864</td>\n",
       "      <td>69.168555</td>\n",
       "      <td>-7.783569</td>\n",
       "    </tr>\n",
       "    <tr>\n",
       "      <td>std</td>\n",
       "      <td>2.514195</td>\n",
       "      <td>6.374993</td>\n",
       "      <td>7.020019</td>\n",
       "      <td>6.452597</td>\n",
       "      <td>0.253006</td>\n",
       "      <td>2.938629</td>\n",
       "      <td>2.752896</td>\n",
       "      <td>2.066711</td>\n",
       "      <td>2.092719</td>\n",
       "      <td>3.938373</td>\n",
       "      <td>2.923335</td>\n",
       "      <td>4.708719</td>\n",
       "      <td>5.080133</td>\n",
       "      <td>3.362801</td>\n",
       "      <td>3.122286</td>\n",
       "      <td>2.537098</td>\n",
       "      <td>2.336075</td>\n",
       "      <td>2.694397</td>\n",
       "      <td>7.120550</td>\n",
       "    </tr>\n",
       "    <tr>\n",
       "      <td>min</td>\n",
       "      <td>26.000000</td>\n",
       "      <td>3.000000</td>\n",
       "      <td>83.700000</td>\n",
       "      <td>85.200000</td>\n",
       "      <td>0.034600</td>\n",
       "      <td>40.000000</td>\n",
       "      <td>42.500000</td>\n",
       "      <td>13.500000</td>\n",
       "      <td>13.300000</td>\n",
       "      <td>15.900000</td>\n",
       "      <td>21.700000</td>\n",
       "      <td>21.900000</td>\n",
       "      <td>21.800000</td>\n",
       "      <td>37.700000</td>\n",
       "      <td>40.700000</td>\n",
       "      <td>27.900000</td>\n",
       "      <td>27.900000</td>\n",
       "      <td>60.700000</td>\n",
       "      <td>-23.400000</td>\n",
       "    </tr>\n",
       "    <tr>\n",
       "      <td>25%</td>\n",
       "      <td>30.000000</td>\n",
       "      <td>12.000000</td>\n",
       "      <td>98.600000</td>\n",
       "      <td>98.700000</td>\n",
       "      <td>0.281400</td>\n",
       "      <td>48.800000</td>\n",
       "      <td>48.900000</td>\n",
       "      <td>17.200000</td>\n",
       "      <td>17.100000</td>\n",
       "      <td>25.400000</td>\n",
       "      <td>26.300000</td>\n",
       "      <td>29.900000</td>\n",
       "      <td>29.700000</td>\n",
       "      <td>47.700000</td>\n",
       "      <td>48.300000</td>\n",
       "      <td>32.400000</td>\n",
       "      <td>32.900000</td>\n",
       "      <td>67.300000</td>\n",
       "      <td>-13.100000</td>\n",
       "    </tr>\n",
       "    <tr>\n",
       "      <td>50%</td>\n",
       "      <td>31.000000</td>\n",
       "      <td>17.000000</td>\n",
       "      <td>103.100000</td>\n",
       "      <td>104.000000</td>\n",
       "      <td>0.476200</td>\n",
       "      <td>50.500000</td>\n",
       "      <td>50.900000</td>\n",
       "      <td>18.500000</td>\n",
       "      <td>18.300000</td>\n",
       "      <td>28.300000</td>\n",
       "      <td>28.300000</td>\n",
       "      <td>33.300000</td>\n",
       "      <td>32.700000</td>\n",
       "      <td>50.300000</td>\n",
       "      <td>50.200000</td>\n",
       "      <td>34.200000</td>\n",
       "      <td>34.400000</td>\n",
       "      <td>69.000000</td>\n",
       "      <td>-8.600000</td>\n",
       "    </tr>\n",
       "    <tr>\n",
       "      <td>75%</td>\n",
       "      <td>33.000000</td>\n",
       "      <td>21.000000</td>\n",
       "      <td>107.700000</td>\n",
       "      <td>107.800000</td>\n",
       "      <td>0.689300</td>\n",
       "      <td>52.800000</td>\n",
       "      <td>52.600000</td>\n",
       "      <td>19.800000</td>\n",
       "      <td>19.800000</td>\n",
       "      <td>31.000000</td>\n",
       "      <td>30.400000</td>\n",
       "      <td>35.900000</td>\n",
       "      <td>36.400000</td>\n",
       "      <td>52.200000</td>\n",
       "      <td>52.200000</td>\n",
       "      <td>36.000000</td>\n",
       "      <td>35.900000</td>\n",
       "      <td>70.800000</td>\n",
       "      <td>-3.100000</td>\n",
       "    </tr>\n",
       "    <tr>\n",
       "      <td>max</td>\n",
       "      <td>39.000000</td>\n",
       "      <td>35.000000</td>\n",
       "      <td>123.400000</td>\n",
       "      <td>119.200000</td>\n",
       "      <td>0.974400</td>\n",
       "      <td>59.000000</td>\n",
       "      <td>59.300000</td>\n",
       "      <td>25.100000</td>\n",
       "      <td>24.700000</td>\n",
       "      <td>38.700000</td>\n",
       "      <td>37.100000</td>\n",
       "      <td>48.100000</td>\n",
       "      <td>54.000000</td>\n",
       "      <td>61.400000</td>\n",
       "      <td>61.200000</td>\n",
       "      <td>42.400000</td>\n",
       "      <td>41.800000</td>\n",
       "      <td>79.100000</td>\n",
       "      <td>11.200000</td>\n",
       "    </tr>\n",
       "  </tbody>\n",
       "</table>\n",
       "</div>"
      ],
      "text/plain": [
       "                G           W       ADJOE       ADJDE     BARTHAG       EFG_O  \\\n",
       "count  353.000000  353.000000  353.000000  353.000000  353.000000  353.000000   \n",
       "mean    31.745042   17.113314  103.335977  103.336261    0.493214   50.600850   \n",
       "std      2.514195    6.374993    7.020019    6.452597    0.253006    2.938629   \n",
       "min     26.000000    3.000000   83.700000   85.200000    0.034600   40.000000   \n",
       "25%     30.000000   12.000000   98.600000   98.700000    0.281400   48.800000   \n",
       "50%     31.000000   17.000000  103.100000  104.000000    0.476200   50.500000   \n",
       "75%     33.000000   21.000000  107.700000  107.800000    0.689300   52.800000   \n",
       "max     39.000000   35.000000  123.400000  119.200000    0.974400   59.000000   \n",
       "\n",
       "            EFG_D         TOR        TORD         ORB         DRB         FTR  \\\n",
       "count  353.000000  353.000000  353.000000  353.000000  353.000000  353.000000   \n",
       "mean    50.774504   18.606516   18.523513   28.245892   28.420397   32.954391   \n",
       "std      2.752896    2.066711    2.092719    3.938373    2.923335    4.708719   \n",
       "min     42.500000   13.500000   13.300000   15.900000   21.700000   21.900000   \n",
       "25%     48.900000   17.200000   17.100000   25.400000   26.300000   29.900000   \n",
       "50%     50.900000   18.500000   18.300000   28.300000   28.300000   33.300000   \n",
       "75%     52.600000   19.800000   19.800000   31.000000   30.400000   35.900000   \n",
       "max     59.300000   25.100000   24.700000   38.700000   37.100000   48.100000   \n",
       "\n",
       "             FTRD        2P_O        2P_D        3P_O        3P_D       ADJ_T  \\\n",
       "count  353.000000  353.000000  353.000000  353.000000  353.000000  353.000000   \n",
       "mean    33.202550   50.060057   50.233994   34.287819   34.415864   69.168555   \n",
       "std      5.080133    3.362801    3.122286    2.537098    2.336075    2.694397   \n",
       "min     21.800000   37.700000   40.700000   27.900000   27.900000   60.700000   \n",
       "25%     29.700000   47.700000   48.300000   32.400000   32.900000   67.300000   \n",
       "50%     32.700000   50.300000   50.200000   34.200000   34.400000   69.000000   \n",
       "75%     36.400000   52.200000   52.200000   36.000000   35.900000   70.800000   \n",
       "max     54.000000   61.400000   61.200000   42.400000   41.800000   79.100000   \n",
       "\n",
       "              WAB  \n",
       "count  353.000000  \n",
       "mean    -7.783569  \n",
       "std      7.120550  \n",
       "min    -23.400000  \n",
       "25%    -13.100000  \n",
       "50%     -8.600000  \n",
       "75%     -3.100000  \n",
       "max     11.200000  "
      ]
     },
     "execution_count": 7,
     "metadata": {},
     "output_type": "execute_result"
    }
   ],
   "source": [
    "df.describe()"
   ]
  },
  {
   "cell_type": "markdown",
   "metadata": {},
   "source": [
    "データ加工"
   ]
  },
  {
   "cell_type": "markdown",
   "metadata": {},
   "source": [
    "カテゴリ変数を二値化する"
   ]
  },
  {
   "cell_type": "code",
   "execution_count": 8,
   "metadata": {},
   "outputs": [],
   "source": [
    "df = pd.get_dummies(df, columns=['CONF'])"
   ]
  },
  {
   "cell_type": "code",
   "execution_count": 9,
   "metadata": {},
   "outputs": [
    {
     "data": {
      "text/html": [
       "<div>\n",
       "<style scoped>\n",
       "    .dataframe tbody tr th:only-of-type {\n",
       "        vertical-align: middle;\n",
       "    }\n",
       "\n",
       "    .dataframe tbody tr th {\n",
       "        vertical-align: top;\n",
       "    }\n",
       "\n",
       "    .dataframe thead th {\n",
       "        text-align: right;\n",
       "    }\n",
       "</style>\n",
       "<table border=\"1\" class=\"dataframe\">\n",
       "  <thead>\n",
       "    <tr style=\"text-align: right;\">\n",
       "      <th></th>\n",
       "      <th>TEAM</th>\n",
       "      <th>G</th>\n",
       "      <th>W</th>\n",
       "      <th>ADJOE</th>\n",
       "      <th>ADJDE</th>\n",
       "      <th>BARTHAG</th>\n",
       "      <th>EFG_O</th>\n",
       "      <th>EFG_D</th>\n",
       "      <th>TOR</th>\n",
       "      <th>TORD</th>\n",
       "      <th>...</th>\n",
       "      <th>CONF_P12</th>\n",
       "      <th>CONF_Pat</th>\n",
       "      <th>CONF_SB</th>\n",
       "      <th>CONF_SC</th>\n",
       "      <th>CONF_SEC</th>\n",
       "      <th>CONF_SWAC</th>\n",
       "      <th>CONF_Slnd</th>\n",
       "      <th>CONF_Sum</th>\n",
       "      <th>CONF_WAC</th>\n",
       "      <th>CONF_WCC</th>\n",
       "    </tr>\n",
       "  </thead>\n",
       "  <tbody>\n",
       "    <tr>\n",
       "      <td>0</td>\n",
       "      <td>Gonzaga</td>\n",
       "      <td>37</td>\n",
       "      <td>33</td>\n",
       "      <td>123.4</td>\n",
       "      <td>89.9</td>\n",
       "      <td>0.9744</td>\n",
       "      <td>59.0</td>\n",
       "      <td>44.2</td>\n",
       "      <td>14.9</td>\n",
       "      <td>19.0</td>\n",
       "      <td>...</td>\n",
       "      <td>0</td>\n",
       "      <td>0</td>\n",
       "      <td>0</td>\n",
       "      <td>0</td>\n",
       "      <td>0</td>\n",
       "      <td>0</td>\n",
       "      <td>0</td>\n",
       "      <td>0</td>\n",
       "      <td>0</td>\n",
       "      <td>1</td>\n",
       "    </tr>\n",
       "    <tr>\n",
       "      <td>1</td>\n",
       "      <td>Virginia</td>\n",
       "      <td>38</td>\n",
       "      <td>35</td>\n",
       "      <td>123.0</td>\n",
       "      <td>89.9</td>\n",
       "      <td>0.9736</td>\n",
       "      <td>55.2</td>\n",
       "      <td>44.7</td>\n",
       "      <td>14.7</td>\n",
       "      <td>17.5</td>\n",
       "      <td>...</td>\n",
       "      <td>0</td>\n",
       "      <td>0</td>\n",
       "      <td>0</td>\n",
       "      <td>0</td>\n",
       "      <td>0</td>\n",
       "      <td>0</td>\n",
       "      <td>0</td>\n",
       "      <td>0</td>\n",
       "      <td>0</td>\n",
       "      <td>0</td>\n",
       "    </tr>\n",
       "    <tr>\n",
       "      <td>2</td>\n",
       "      <td>Duke</td>\n",
       "      <td>38</td>\n",
       "      <td>32</td>\n",
       "      <td>118.9</td>\n",
       "      <td>89.2</td>\n",
       "      <td>0.9646</td>\n",
       "      <td>53.6</td>\n",
       "      <td>45.0</td>\n",
       "      <td>17.5</td>\n",
       "      <td>19.4</td>\n",
       "      <td>...</td>\n",
       "      <td>0</td>\n",
       "      <td>0</td>\n",
       "      <td>0</td>\n",
       "      <td>0</td>\n",
       "      <td>0</td>\n",
       "      <td>0</td>\n",
       "      <td>0</td>\n",
       "      <td>0</td>\n",
       "      <td>0</td>\n",
       "      <td>0</td>\n",
       "    </tr>\n",
       "    <tr>\n",
       "      <td>3</td>\n",
       "      <td>North Carolina</td>\n",
       "      <td>36</td>\n",
       "      <td>29</td>\n",
       "      <td>120.1</td>\n",
       "      <td>91.4</td>\n",
       "      <td>0.9582</td>\n",
       "      <td>52.9</td>\n",
       "      <td>48.9</td>\n",
       "      <td>17.2</td>\n",
       "      <td>18.3</td>\n",
       "      <td>...</td>\n",
       "      <td>0</td>\n",
       "      <td>0</td>\n",
       "      <td>0</td>\n",
       "      <td>0</td>\n",
       "      <td>0</td>\n",
       "      <td>0</td>\n",
       "      <td>0</td>\n",
       "      <td>0</td>\n",
       "      <td>0</td>\n",
       "      <td>0</td>\n",
       "    </tr>\n",
       "    <tr>\n",
       "      <td>4</td>\n",
       "      <td>Michigan</td>\n",
       "      <td>37</td>\n",
       "      <td>30</td>\n",
       "      <td>114.6</td>\n",
       "      <td>85.6</td>\n",
       "      <td>0.9665</td>\n",
       "      <td>51.6</td>\n",
       "      <td>44.1</td>\n",
       "      <td>13.9</td>\n",
       "      <td>18.0</td>\n",
       "      <td>...</td>\n",
       "      <td>0</td>\n",
       "      <td>0</td>\n",
       "      <td>0</td>\n",
       "      <td>0</td>\n",
       "      <td>0</td>\n",
       "      <td>0</td>\n",
       "      <td>0</td>\n",
       "      <td>0</td>\n",
       "      <td>0</td>\n",
       "      <td>0</td>\n",
       "    </tr>\n",
       "  </tbody>\n",
       "</table>\n",
       "<p>5 rows × 52 columns</p>\n",
       "</div>"
      ],
      "text/plain": [
       "             TEAM   G   W  ADJOE  ADJDE  BARTHAG  EFG_O  EFG_D   TOR  TORD  \\\n",
       "0         Gonzaga  37  33  123.4   89.9   0.9744   59.0   44.2  14.9  19.0   \n",
       "1        Virginia  38  35  123.0   89.9   0.9736   55.2   44.7  14.7  17.5   \n",
       "2            Duke  38  32  118.9   89.2   0.9646   53.6   45.0  17.5  19.4   \n",
       "3  North Carolina  36  29  120.1   91.4   0.9582   52.9   48.9  17.2  18.3   \n",
       "4        Michigan  37  30  114.6   85.6   0.9665   51.6   44.1  13.9  18.0   \n",
       "\n",
       "   ...  CONF_P12  CONF_Pat  CONF_SB  CONF_SC  CONF_SEC  CONF_SWAC  CONF_Slnd  \\\n",
       "0  ...         0         0        0        0         0          0          0   \n",
       "1  ...         0         0        0        0         0          0          0   \n",
       "2  ...         0         0        0        0         0          0          0   \n",
       "3  ...         0         0        0        0         0          0          0   \n",
       "4  ...         0         0        0        0         0          0          0   \n",
       "\n",
       "   CONF_Sum  CONF_WAC  CONF_WCC  \n",
       "0         0         0         1  \n",
       "1         0         0         0  \n",
       "2         0         0         0  \n",
       "3         0         0         0  \n",
       "4         0         0         0  \n",
       "\n",
       "[5 rows x 52 columns]"
      ]
     },
     "execution_count": 9,
     "metadata": {},
     "output_type": "execute_result"
    }
   ],
   "source": [
    "df.head()"
   ]
  },
  {
   "cell_type": "code",
   "execution_count": 10,
   "metadata": {},
   "outputs": [
    {
     "name": "stdout",
     "output_type": "stream",
     "text": [
      "<class 'pandas.core.frame.DataFrame'>\n",
      "RangeIndex: 353 entries, 0 to 352\n",
      "Data columns (total 52 columns):\n",
      "TEAM         353 non-null object\n",
      "G            353 non-null int64\n",
      "W            353 non-null int64\n",
      "ADJOE        353 non-null float64\n",
      "ADJDE        353 non-null float64\n",
      "BARTHAG      353 non-null float64\n",
      "EFG_O        353 non-null float64\n",
      "EFG_D        353 non-null float64\n",
      "TOR          353 non-null float64\n",
      "TORD         353 non-null float64\n",
      "ORB          353 non-null float64\n",
      "DRB          353 non-null float64\n",
      "FTR          353 non-null float64\n",
      "FTRD         353 non-null float64\n",
      "2P_O         353 non-null float64\n",
      "2P_D         353 non-null float64\n",
      "3P_O         353 non-null float64\n",
      "3P_D         353 non-null float64\n",
      "ADJ_T        353 non-null float64\n",
      "WAB          353 non-null float64\n",
      "CONF_A10     353 non-null uint8\n",
      "CONF_ACC     353 non-null uint8\n",
      "CONF_AE      353 non-null uint8\n",
      "CONF_ASun    353 non-null uint8\n",
      "CONF_Amer    353 non-null uint8\n",
      "CONF_B10     353 non-null uint8\n",
      "CONF_B12     353 non-null uint8\n",
      "CONF_BE      353 non-null uint8\n",
      "CONF_BSky    353 non-null uint8\n",
      "CONF_BSth    353 non-null uint8\n",
      "CONF_BW      353 non-null uint8\n",
      "CONF_CAA     353 non-null uint8\n",
      "CONF_CUSA    353 non-null uint8\n",
      "CONF_Horz    353 non-null uint8\n",
      "CONF_Ivy     353 non-null uint8\n",
      "CONF_MAAC    353 non-null uint8\n",
      "CONF_MAC     353 non-null uint8\n",
      "CONF_MEAC    353 non-null uint8\n",
      "CONF_MVC     353 non-null uint8\n",
      "CONF_MWC     353 non-null uint8\n",
      "CONF_NEC     353 non-null uint8\n",
      "CONF_OVC     353 non-null uint8\n",
      "CONF_P12     353 non-null uint8\n",
      "CONF_Pat     353 non-null uint8\n",
      "CONF_SB      353 non-null uint8\n",
      "CONF_SC      353 non-null uint8\n",
      "CONF_SEC     353 non-null uint8\n",
      "CONF_SWAC    353 non-null uint8\n",
      "CONF_Slnd    353 non-null uint8\n",
      "CONF_Sum     353 non-null uint8\n",
      "CONF_WAC     353 non-null uint8\n",
      "CONF_WCC     353 non-null uint8\n",
      "dtypes: float64(17), int64(2), object(1), uint8(32)\n",
      "memory usage: 66.3+ KB\n"
     ]
    }
   ],
   "source": [
    "df.info()"
   ]
  },
  {
   "cell_type": "markdown",
   "metadata": {},
   "source": [
    "学習用と評価用にデータを分割する"
   ]
  },
  {
   "cell_type": "code",
   "execution_count": 11,
   "metadata": {},
   "outputs": [],
   "source": [
    "# 評価用データとして元データからランダムに30件を抽出\n",
    "df_test = df.sample(n=30, random_state=0)"
   ]
  },
  {
   "cell_type": "code",
   "execution_count": 12,
   "metadata": {},
   "outputs": [],
   "source": [
    "# 学習用データは元データから評価用データを除いたもの\n",
    "df_train = df[~df['TEAM'].isin(df_test['TEAM'])]"
   ]
  },
  {
   "cell_type": "code",
   "execution_count": null,
   "metadata": {},
   "outputs": [],
   "source": []
  },
  {
   "cell_type": "markdown",
   "metadata": {},
   "source": [
    "データを目的変数と説明変数に分離する"
   ]
  },
  {
   "cell_type": "code",
   "execution_count": 13,
   "metadata": {},
   "outputs": [],
   "source": [
    "# df_xxx_Xは目的変数を除去したデータ\n",
    "df_train_X = df_train.drop(['W'], axis=1)\n",
    "df_test_X = df_test.drop(['W'], axis=1)\n",
    "# df_xxx_yは目的変数のみのデータ\n",
    "df_train_y = df_train['W']\n",
    "df_test_y = df_test['W']"
   ]
  },
  {
   "cell_type": "code",
   "execution_count": 14,
   "metadata": {},
   "outputs": [],
   "source": [
    "# チーム名だけ保持しておく\n",
    "df_train_team_X = df_train_X['TEAM']\n",
    "df_test_team_X = df_test_X['TEAM']"
   ]
  },
  {
   "cell_type": "markdown",
   "metadata": {},
   "source": [
    "オブジェクト型のデータを除去する"
   ]
  },
  {
   "cell_type": "code",
   "execution_count": 15,
   "metadata": {},
   "outputs": [],
   "source": [
    "df_train_X = df_train_X.drop(['TEAM', 'WAB'], axis=1)\n",
    "df_test_X = df_test_X.drop(['TEAM', 'WAB'], axis=1)\n",
    "#df_train_X = df_train_X.drop(['TEAM'], axis=1)\n",
    "#df_test_X = df_test_X.drop(['TEAM'], axis=1)"
   ]
  },
  {
   "cell_type": "code",
   "execution_count": null,
   "metadata": {},
   "outputs": [],
   "source": []
  },
  {
   "cell_type": "markdown",
   "metadata": {},
   "source": [
    "標準化する"
   ]
  },
  {
   "cell_type": "code",
   "execution_count": 16,
   "metadata": {},
   "outputs": [],
   "source": [
    "from sklearn.preprocessing import StandardScaler\n",
    "\n",
    "# 学習用データ\n",
    "X_sc_df = StandardScaler()\n",
    "\n",
    "# 元データからパラメータ(平均、分散)を算出する\n",
    "X_sc_df.fit(df_train_X)\n",
    "# 元データを変換\n",
    "df_train_X_std = X_sc_df.transform(df_train_X)\n",
    "\n",
    "# 評価用データ\n",
    "X_sc_df = StandardScaler()\n",
    "\n",
    "# 元データからパラメータ(平均、分散)を算出する\n",
    "X_sc_df.fit(df_test_X)\n",
    "# 元データを変換\n",
    "df_test_X_std = X_sc_df.transform(df_test_X)\n",
    "\n",
    "# 目的変数は元データが一列しかないので標準化の式に当てはめて変換\n",
    "df_train_y_std = (df_train_y - df_train_y.mean())/df_train_y.std()\n",
    "df_test_y_std = (df_test_y - df_test_y.mean())/df_test_y.std()"
   ]
  },
  {
   "cell_type": "markdown",
   "metadata": {},
   "source": [
    "重回帰分析のためのモデル作成、実行"
   ]
  },
  {
   "cell_type": "code",
   "execution_count": 17,
   "metadata": {},
   "outputs": [],
   "source": [
    "from sklearn.linear_model import LinearRegression"
   ]
  },
  {
   "cell_type": "markdown",
   "metadata": {},
   "source": [
    "データ分割"
   ]
  },
  {
   "cell_type": "code",
   "execution_count": 18,
   "metadata": {},
   "outputs": [],
   "source": [
    "from sklearn.model_selection import train_test_split\n",
    "linreg = LinearRegression()"
   ]
  },
  {
   "cell_type": "code",
   "execution_count": 19,
   "metadata": {},
   "outputs": [],
   "source": [
    "#学習データと予測データに分割(学習データ:予測データ=7:3)\n",
    "#X_train,X_pred,y_train,y_pred = train_test_split(X_learn_std,y_learn_std,random_state=1,test_size=0.3)\n",
    "X_train_data,X_pred_data,y_train_data,y_pred_data = train_test_split(df_train_X_std,df_train_y_std,test_size=0.3)"
   ]
  },
  {
   "cell_type": "markdown",
   "metadata": {},
   "source": [
    "モデルの作成と実行"
   ]
  },
  {
   "cell_type": "code",
   "execution_count": 20,
   "metadata": {},
   "outputs": [
    {
     "data": {
      "text/plain": [
       "LinearRegression(copy_X=True, fit_intercept=True, n_jobs=None, normalize=False)"
      ]
     },
     "execution_count": 20,
     "metadata": {},
     "output_type": "execute_result"
    }
   ],
   "source": [
    "# 線形回帰モデルへ当てはめる\n",
    "linreg.fit(X_train_data,y_train_data)"
   ]
  },
  {
   "cell_type": "code",
   "execution_count": 21,
   "metadata": {},
   "outputs": [],
   "source": [
    "# 予測実行\n",
    "pred_result = linreg.predict(X_pred_data)"
   ]
  },
  {
   "cell_type": "code",
   "execution_count": 22,
   "metadata": {},
   "outputs": [],
   "source": [
    "# 予測結果を逆標準化\n",
    "# 予測値\n",
    "y_pred_data.predict = pred_result * df_train_y.std() + df_train_y.mean()\n",
    "# 正解\n",
    "y_pred_val = y_pred_data * df_train_y.std() + df_train_y.mean()"
   ]
  },
  {
   "cell_type": "markdown",
   "metadata": {},
   "source": [
    "予実結果の可視化"
   ]
  },
  {
   "cell_type": "code",
   "execution_count": 23,
   "metadata": {},
   "outputs": [
    {
     "data": {
      "text/plain": [
       "[<matplotlib.lines.Line2D at 0x2d0b6586ec8>]"
      ]
     },
     "execution_count": 23,
     "metadata": {},
     "output_type": "execute_result"
    },
    {
     "data": {
      "image/png": "[encoded data removed]",
      "text/plain": [
       "<Figure size 720x720 with 1 Axes>"
      ]
     },
     "metadata": {
      "needs_background": "light"
     },
     "output_type": "display_data"
    }
   ],
   "source": [
    "import matplotlib.pyplot as plt\n",
    "%matplotlib inline\n",
    "plt.figure(figsize=(10,10))\n",
    "plt.scatter(y_pred_val, y_pred_data.predict)\n",
    "plt.xlabel(\"Actual Rating\")\n",
    "plt.ylabel(\"Predicted Rating\")\n",
    "plt.gca().set_aspect(\"equal\", adjustable=\"box\")\n",
    "\n",
    "x = np.arange(0, 35)\n",
    "y=x\n",
    "plt.plot(x,y,color=\"red\")"
   ]
  },
  {
   "cell_type": "markdown",
   "metadata": {},
   "source": [
    "誤差の計測"
   ]
  },
  {
   "cell_type": "code",
   "execution_count": 24,
   "metadata": {},
   "outputs": [
    {
     "name": "stdout",
     "output_type": "stream",
     "text": [
      "RMSE =  2.3337277771581415\n"
     ]
    }
   ],
   "source": [
    "rmse = np.sqrt(sum((y_pred_val - y_pred_data.predict) ** 2) / len(y_pred_val))\n",
    "print(\"RMSE = \", rmse)"
   ]
  },
  {
   "cell_type": "markdown",
   "metadata": {},
   "source": [
    "説明変数の影響度を確認"
   ]
  },
  {
   "cell_type": "code",
   "execution_count": 25,
   "metadata": {},
   "outputs": [
    {
     "data": {
      "text/plain": [
       "FTRD        -0.099656\n",
       "CONF_P12    -0.101279\n",
       "ORB          0.110893\n",
       "CONF_BSky    0.114087\n",
       "DRB         -0.121065\n",
       "CONF_Slnd    0.132208\n",
       "CONF_B12    -0.150123\n",
       "CONF_ACC    -0.155159\n",
       "CONF_SEC    -0.158515\n",
       "CONF_B10    -0.162363\n",
       "3P_O         0.179081\n",
       "G            0.187386\n",
       "3P_D         0.194307\n",
       "2P_O         0.207384\n",
       "BARTHAG      0.231170\n",
       "TORD         0.241783\n",
       "EFG_O       -0.303884\n",
       "2P_D         0.389511\n",
       "ADJOE        0.409850\n",
       "EFG_D       -0.839674\n",
       "Name: Coef, dtype: float64"
      ]
     },
     "execution_count": 25,
     "metadata": {},
     "output_type": "execute_result"
    },
    {
     "data": {
      "image/png": "[encoded data removed]",
      "text/plain": [
       "<Figure size 432x288 with 1 Axes>"
      ]
     },
     "metadata": {
      "needs_background": "light"
     },
     "output_type": "display_data"
    }
   ],
   "source": [
    "coef_df = pd.DataFrame({\"Coef\":linreg.coef_, \"Coef_abs\":np.abs(linreg.coef_)})\n",
    "coef_df.index = df_train_X.columns\n",
    "coef_df = coef_df.sort_values(by=\"Coef_abs\")\n",
    "coef_df[\"Coef\"].tail(20).plot(kind=\"barh\", title=\"Coefficients\", color=\"red\")\n",
    "coef_df[\"Coef\"].tail(20)"
   ]
  },
  {
   "cell_type": "markdown",
   "metadata": {},
   "source": [
    "全学習データに対して重回帰分析を実施する"
   ]
  },
  {
   "cell_type": "code",
   "execution_count": 26,
   "metadata": {},
   "outputs": [],
   "source": [
    "linreg_all = LinearRegression()"
   ]
  },
  {
   "cell_type": "code",
   "execution_count": null,
   "metadata": {},
   "outputs": [],
   "source": []
  },
  {
   "cell_type": "code",
   "execution_count": 27,
   "metadata": {},
   "outputs": [
    {
     "data": {
      "text/plain": [
       "LinearRegression(copy_X=True, fit_intercept=True, n_jobs=None, normalize=False)"
      ]
     },
     "execution_count": 27,
     "metadata": {},
     "output_type": "execute_result"
    }
   ],
   "source": [
    "#lr_model_all = linreg_all.fit(X_learn_std,y_learn_std)\n",
    "linreg_all.fit(df_train_X_std,df_train_y_std)"
   ]
  },
  {
   "cell_type": "code",
   "execution_count": 28,
   "metadata": {},
   "outputs": [],
   "source": [
    "y_test_result = linreg_all.predict(df_test_X_std)"
   ]
  },
  {
   "cell_type": "code",
   "execution_count": 29,
   "metadata": {},
   "outputs": [
    {
     "data": {
      "text/plain": [
       "CONF_BSth    0.084561\n",
       "CONF_P12    -0.085302\n",
       "CONF_BSky    0.097471\n",
       "CONF_MEAC    0.098192\n",
       "ORB          0.098394\n",
       "TOR         -0.099661\n",
       "2P_O         0.102796\n",
       "DRB         -0.112185\n",
       "CONF_Slnd    0.144034\n",
       "3P_D         0.146045\n",
       "CONF_B12    -0.153165\n",
       "CONF_SEC    -0.155339\n",
       "BARTHAG      0.159347\n",
       "CONF_ACC    -0.172989\n",
       "CONF_B10    -0.174423\n",
       "TORD         0.213449\n",
       "G            0.230944\n",
       "2P_D         0.287878\n",
       "ADJOE        0.408570\n",
       "EFG_D       -0.709399\n",
       "Name: Coef, dtype: float64"
      ]
     },
     "execution_count": 29,
     "metadata": {},
     "output_type": "execute_result"
    },
    {
     "data": {
      "image/png": "[encoded data removed]",
      "text/plain": [
       "<Figure size 432x288 with 1 Axes>"
      ]
     },
     "metadata": {
      "needs_background": "light"
     },
     "output_type": "display_data"
    }
   ],
   "source": [
    "coef_all_df = pd.DataFrame({\"Coef\":linreg_all.coef_, \"Coef_abs\":np.abs(linreg_all.coef_)})\n",
    "coef_all_df.index = df_train_X.columns\n",
    "coef_all_df = coef_all_df.sort_values(by=\"Coef_abs\")\n",
    "coef_all_df[\"Coef\"].tail(20).plot(kind=\"barh\", title=\"Coefficients\", color=\"red\")\n",
    "coef_all_df[\"Coef\"].tail(20)"
   ]
  },
  {
   "cell_type": "code",
   "execution_count": null,
   "metadata": {},
   "outputs": [],
   "source": []
  },
  {
   "cell_type": "code",
   "execution_count": 30,
   "metadata": {},
   "outputs": [],
   "source": [
    "# 予測結果を逆標準化\n",
    "df_test_y.predict = y_test_result * df_test_y.std() + df_test_y.mean()\n",
    "y_test_result_val = df_test_y"
   ]
  },
  {
   "cell_type": "code",
   "execution_count": 31,
   "metadata": {},
   "outputs": [
    {
     "data": {
      "text/plain": [
       "[<matplotlib.lines.Line2D at 0x2d0b5051dc8>]"
      ]
     },
     "execution_count": 31,
     "metadata": {},
     "output_type": "execute_result"
    },
    {
     "data": {
      "image/png": "[encoded data removed]",
      "text/plain": [
       "<Figure size 720x720 with 1 Axes>"
      ]
     },
     "metadata": {
      "needs_background": "light"
     },
     "output_type": "display_data"
    }
   ],
   "source": [
    "plt.figure(figsize=(10,10))\n",
    "plt.scatter(y_test_result_val, df_test_y.predict)\n",
    "plt.xlabel(\"Actual Rating\")\n",
    "plt.ylabel(\"Predicted Rating\")\n",
    "plt.gca().set_aspect(\"equal\", adjustable=\"box\")\n",
    "\n",
    "x = np.arange(0, 35)\n",
    "y=x\n",
    "plt.plot(x,y,color=\"red\")"
   ]
  },
  {
   "cell_type": "code",
   "execution_count": 155,
   "metadata": {},
   "outputs": [
    {
     "name": "stdout",
     "output_type": "stream",
     "text": [
      "RMSE =  2.4550200803308138\n"
     ]
    }
   ],
   "source": [
    "rmse = np.sqrt(sum((y_test_result_val - df_test_y.predict) ** 2) / len(y_test_result_val))\n",
    "print(\"RMSE = \", rmse)"
   ]
  },
  {
   "cell_type": "code",
   "execution_count": null,
   "metadata": {},
   "outputs": [],
   "source": []
  }
 ],
 "metadata": {
  "kernelspec": {
   "display_name": "Python 3",
   "language": "python",
   "name": "python3"
  },
  "language_info": {
   "codemirror_mode": {
    "name": "ipython",
    "version": 3
   },
   "file_extension": ".py",
   "mimetype": "text/x-python",
   "name": "python",
   "nbconvert_exporter": "python",
   "pygments_lexer": "ipython3",
   "version": "3.7.4"
  }
 },
 "nbformat": 4,
 "nbformat_minor": 2
}
